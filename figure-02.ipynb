{
 "cells": [
  {
   "cell_type": "code",
   "execution_count": null,
   "metadata": {},
   "outputs": [],
   "source": [
    "%matplotlib inline\n",
    "import matplotlib.pyplot as plt\n",
    "import numpy as np"
   ]
  },
  {
   "cell_type": "code",
   "execution_count": null,
   "metadata": {},
   "outputs": [],
   "source": [
    "fig, ax = plt.subplots()\n",
    "for i in range(len(magn_epistasis)):\n",
    "    y = magn_epistasis[i]\n",
    "    x = np.arange(1, len(y)+1) + np.random.randn(len(y))*.1 \n",
    "    ax.scatter(x, y, color='gray')\n",
    "\n",
    "meanx = np.arange(1, 7)\n",
    "meany = np.nanmean(magn_epistasis, axis=0)\n",
    "ax.plot(meanx, meany, 'ro')\n",
    "ax.set_yscale('log')\n",
    "ax.set_ylim(ymin=1e-5)\n",
    "ax.set_xlabel(\"order of epistasis\")\n",
    "ax.set_ylabel(\"magnitude\")\n",
    "\n",
    "fig, ax = plt.subplots()\n",
    "for i in range(1, len(overlaps)+1):\n",
    "    y = np.array(overlaps[i])\n",
    "    ymean = np.nanmean(y, axis=0)\n",
    "    x = np.arange(1, len(ymean)+1)\n",
    "    ax.plot(x, 1 - ymean, color='C' + str(i-1), linestyle=\"-\", marker=\"o\", alpha=1)\n",
    "\n",
    "ax.set_xlabel(\"steps\")\n",
    "ax.set_ylabel(\"1 - $\\\\theta$\")"
   ]
  }
 ],
 "metadata": {
  "kernelspec": {
   "display_name": "Python 3",
   "language": "python",
   "name": "python3"
  },
  "language_info": {
   "codemirror_mode": {
    "name": "ipython",
    "version": 3
   },
   "file_extension": ".py",
   "mimetype": "text/x-python",
   "name": "python",
   "nbconvert_exporter": "python",
   "pygments_lexer": "ipython3",
   "version": "3.5.2"
  }
 },
 "nbformat": 4,
 "nbformat_minor": 2
}
