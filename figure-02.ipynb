{
 "cells": [
  {
   "cell_type": "markdown",
   "metadata": {},
   "source": [
    "# Figure 2"
   ]
  },
  {
   "cell_type": "code",
   "execution_count": 1,
   "metadata": {
    "collapsed": true
   },
   "outputs": [],
   "source": [
    "%matplotlib inline\n",
    "import matplotlib.pyplot as plt\n",
    "import numpy as np\n",
    "import pickle\n",
    "from matplotlib import rcParams\n",
    "\n",
    "rcParams['font.family'] = 'sans-serif'\n",
    "rcParams['font.sans-serif'] = ['Arial']\n",
    "rcParams['svg.fonttype'] = 'none'"
   ]
  },
  {
   "cell_type": "markdown",
   "metadata": {},
   "source": [
    "## Functions"
   ]
  },
  {
   "cell_type": "code",
   "execution_count": 2,
   "metadata": {
    "collapsed": true
   },
   "outputs": [],
   "source": [
    "def plot_epistasis(epistasis, ax):\n",
    "    #fig, ax = plt.subplots(figsize=(2.5,1.2))\n",
    "    \n",
    "    # Anything smaller than 1e-8 is equal to zero.\n",
    "    epistasis[epistasis<1e-7] = np.nan\n",
    "    \n",
    "    xs = []\n",
    "    ys = []\n",
    "    for i in range(len(epistasis)):\n",
    "        y = np.log10(epistasis[i])\n",
    "        x = np.arange(1, len(y)+1) + np.random.randn(len(y))*.1 \n",
    "        xs += list(x)\n",
    "        ys += list(y)\n",
    "        \n",
    "    ax.scatter(xs, ys, color='gray', s=4, rasterized=True)\n",
    "\n",
    "    meanx = np.arange(1, 7)\n",
    "    out = np.nanpercentile(np.log10(epistasis), (50, 2.5, 97.5), axis=0)\n",
    "    ymean, ylower, yupper = out[0], abs(out[0] - out[1]), abs(out[0] - out[2])\n",
    "    ax.errorbar(meanx, ymean, yerr=[ylower, yupper], color=\"k\", fmt=\"o\", ms=2, capsize=3, elinewidth=0.5)\n",
    "\n",
    "    #ax.set_yscale('log')\n",
    "    ax.set_ylim(ymax=2, ymin=-8)\n",
    "    #ax.set_xlabel(\"order of epistasis\")\n",
    "    #ax.set_ylabel(\"magnitude\")\n",
    "    ax.spines[\"right\"].set_visible(False)\n",
    "    ax.spines[\"top\"].set_visible(False)\n",
    "    #ax.spines[\"bottom\"].set_visible(False)\n",
    "    ticks = ax.set_xticks(range(1,7))\n",
    "    ax.set_yticks(range(-8,4,2))\n",
    "    ax.spines[\"bottom\"].set_bounds(1,6)"
   ]
  },
  {
   "cell_type": "markdown",
   "metadata": {},
   "source": [
    "## Full state results"
   ]
  },
  {
   "cell_type": "code",
   "execution_count": 8,
   "metadata": {},
   "outputs": [
    {
     "name": "stderr",
     "output_type": "stream",
     "text": [
      "/Users/Zsailer/.virtualenvs/py3/lib/python3.5/site-packages/ipykernel_launcher.py:5: RuntimeWarning: invalid value encountered in less\n",
      "  \"\"\"\n"
     ]
    },
    {
     "data": {
      "image/png": "[encoded data removed]",
      "text/plain": [
       "<matplotlib.figure.Figure at 0x10890f6d8>"
      ]
     },
     "metadata": {},
     "output_type": "display_data"
    }
   ],
   "source": [
    "#dataset = \"full-state-predictions\"\n",
    "filepath = \"results/pop-100/2-state-he.pickle\"\n",
    "\n",
    "# Read file\n",
    "with open(filepath, \"rb\") as f:\n",
    "    data = pickle.load(f)\n",
    "    epistasis1 = data[\"epistasis\"]\n",
    "    \n",
    "\n",
    "fig, ax = plt.subplots()\n",
    "plot_epistasis(epistasis1, ax)"
   ]
  },
  {
   "cell_type": "code",
   "execution_count": 4,
   "metadata": {
    "collapsed": true
   },
   "outputs": [],
   "source": [
    "#dataset = \"full-state-predictions\"\n",
    "#filepath = \"generated-data/%s/results/binary-output.pickle\" % dataset\n",
    "\n",
    "# Read file\n",
    "with open(filepath, \"rb\") as f:\n",
    "    data = pickle.load(f)\n",
    "    epistasis1 = data[\"epistasis\"]"
   ]
  },
  {
   "cell_type": "code",
   "execution_count": null,
   "metadata": {},
   "outputs": [],
   "source": []
  },
  {
   "cell_type": "markdown",
   "metadata": {},
   "source": [
    "# Two state results"
   ]
  },
  {
   "cell_type": "code",
   "execution_count": 5,
   "metadata": {
    "collapsed": true
   },
   "outputs": [],
   "source": [
    "dataset = \"two-state-predictions\"\n",
    "filepath = \"generated-data/%s/results/binary-output.pickle\" % dataset\n",
    "\n",
    "# Read file\n",
    "with open(filepath, \"rb\") as f:\n",
    "    data = pickle.load(f)\n",
    "    epistasis2 = data[\"epistasis\"]"
   ]
  },
  {
   "cell_type": "markdown",
   "metadata": {},
   "source": [
    "## Three state results"
   ]
  },
  {
   "cell_type": "code",
   "execution_count": 6,
   "metadata": {
    "collapsed": true
   },
   "outputs": [],
   "source": [
    "dataset = \"three-state-predictions\"\n",
    "filepath = \"generated-data/%s/results/binary-output.pickle\" % dataset\n",
    "\n",
    "# Read file\n",
    "with open(filepath, \"rb\") as f:\n",
    "    data = pickle.load(f)\n",
    "    epistasis3 = data[\"epistasis\"]"
   ]
  },
  {
   "cell_type": "code",
   "execution_count": 37,
   "metadata": {},
   "outputs": [
    {
     "name": "stderr",
     "output_type": "stream",
     "text": [
      "/Users/Zsailer/.virtualenvs/py3/lib/python3.5/site-packages/ipykernel_launcher.py:5: RuntimeWarning: invalid value encountered in less\n",
      "  \"\"\"\n",
      "/Users/Zsailer/.virtualenvs/py3/lib/python3.5/site-packages/numpy/lib/nanfunctions.py:1143: RuntimeWarning: All-NaN slice encountered\n",
      "  overwrite_input, interpolation)\n"
     ]
    },
    {
     "data": {
      "image/png": "[encoded data removed]",
      "text/plain": [
       "<matplotlib.figure.Figure at 0x103e26160>"
      ]
     },
     "metadata": {},
     "output_type": "display_data"
    }
   ],
   "source": [
    "import matplotlib.gridspec as gridspec\n",
    "\n",
    "fig = plt.figure(figsize=(1.7,3.2))\n",
    "\n",
    "gs = gridspec.GridSpec(3, 1)\n",
    "ax1 = plt.subplot(gs[0, 0])\n",
    "ax2 = plt.subplot(gs[1, 0], sharex=ax1)\n",
    "ax3 = plt.subplot(gs[2, 0], sharex=ax1)\n",
    "\n",
    "plot_epistasis(epistasis1, ax1)\n",
    "plot_epistasis(epistasis2, ax2)\n",
    "plot_epistasis(epistasis3, ax3)\n",
    "\n",
    "#ax2.set_xticklabels([])\n"
   ]
  },
  {
   "cell_type": "code",
   "execution_count": 38,
   "metadata": {
    "collapsed": true
   },
   "outputs": [],
   "source": [
    "fig.savefig(\"figures/fig-3a.pdf\", format=\"pdf\", dpi=600, bbox_inches=\"tight\")"
   ]
  },
  {
   "cell_type": "code",
   "execution_count": null,
   "metadata": {
    "collapsed": true
   },
   "outputs": [],
   "source": []
  }
 ],
 "metadata": {
  "kernelspec": {
   "display_name": "py3",
   "language": "python",
   "name": "py3"
  },
  "language_info": {
   "codemirror_mode": {
    "name": "ipython",
    "version": 3
   },
   "file_extension": ".py",
   "mimetype": "text/x-python",
   "name": "python",
   "nbconvert_exporter": "python",
   "pygments_lexer": "ipython3",
   "version": "3.5.2"
  }
 },
 "nbformat": 4,
 "nbformat_minor": 2
}
