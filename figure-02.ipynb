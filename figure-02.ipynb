{
 "cells": [
  {
   "cell_type": "code",
   "execution_count": 14,
   "metadata": {},
   "outputs": [],
   "source": [
    "%matplotlib inline\n",
    "import matplotlib.pyplot as plt\n",
    "import numpy as np\n",
    "import pickle\n",
    "from matplotlib import rcParams\n",
    "rcParams['font.family'] = 'sans-serif'\n",
    "rcParams['font.sans-serif'] = ['Arial']"
   ]
  },
  {
   "cell_type": "markdown",
   "metadata": {},
   "source": [
    "# Full state results"
   ]
  },
  {
   "cell_type": "code",
   "execution_count": 15,
   "metadata": {},
   "outputs": [],
   "source": [
    "dataset = \"full-state-predictions\"\n",
    "filepath = \"generated-data/%s/results/binary-output.pickle\" % dataset\n",
    "\n",
    "# Read file\n",
    "with open(filepath, \"rb\") as f:\n",
    "    data = pickle.load(f)\n",
    "    thetas = data[\"thetas\"]\n",
    "    epistasis = data[\"epistasis\"]"
   ]
  },
  {
   "cell_type": "code",
   "execution_count": 16,
   "metadata": {},
   "outputs": [
    {
     "data": {
      "image/png": "[encoded data removed]",
      "text/plain": [
       "<matplotlib.figure.Figure at 0x7f13efa56a20>"
      ]
     },
     "metadata": {},
     "output_type": "display_data"
    }
   ],
   "source": [
    "fig, ax = plt.subplots(figsize=(3,2))\n",
    "\n",
    "for i in range(len(epistasis)):\n",
    "    y = epistasis[i]\n",
    "    x = np.arange(1, len(y)+1) + np.random.randn(len(y))*.1 \n",
    "    ax.scatter(x, y, color='gray', s=10)\n",
    "\n",
    "meanx = np.arange(1, 7)\n",
    "out = np.nanpercentile(epistasis, (50, 2.5, 97.5), axis=0)\n",
    "ymean, ylower, yupper = out[0], abs(out[0] - out[1]), abs(out[0] - out[2])\n",
    "ax.errorbar(meanx, ymean, yerr=[ylower, yupper], color=\"k\", fmt=\"o\", ms=5, capsize=4)\n",
    "\n",
    "ax.set_yscale('log')\n",
    "#ax.set_ylim(ymin=1e-8)\n",
    "ax.set_xlabel(\"order of epistasis\")\n",
    "ax.set_ylabel(\"magnitude\")\n",
    "ax.spines[\"right\"].set_visible(False)\n",
    "ax.spines[\"top\"].set_visible(False)\n",
    "#ax.spines[\"bottom\"].set_visible(False)\n",
    "ticks = ax.set_xticks(range(1,7))\n",
    "ax.spines[\"bottom\"].set_bounds(1,6)\n",
    "#fig.savefig(\"figures/full-state-epistasis.pdf\", format=\"pdf\", bbox_inches=\"tight\")"
   ]
  },
  {
   "cell_type": "code",
   "execution_count": 17,
   "metadata": {},
   "outputs": [
    {
     "data": {
      "image/png": "[encoded data removed]",
      "text/plain": [
       "<matplotlib.figure.Figure at 0x7f13eeb02588>"
      ]
     },
     "metadata": {},
     "output_type": "display_data"
    }
   ],
   "source": [
    "fig, ax = plt.subplots(figsize=(3,2))\n",
    "\n",
    "for i in range(1, len(thetas)+1):\n",
    "    y = np.array(thetas[i])\n",
    "    #x = np.ones(y.shape) * np.arange(1,7) + np.random.randn(*y.shape)*1e-1\n",
    "    y50 = np.nanpercentile(y, 50, axis=0)\n",
    "    x50 = np.arange(1, len(y50)+1)\n",
    "    #ax.scatter(x, 1-y, alpha=.2, color='C' + str(i-1), s=10)\n",
    "    #ax.plot(x50, 1-y50, marker=\"o\", linestyle=\"-\", color='C' + str(i-1))\n",
    "    ax.plot(x50, 1-np.nanmean(y, axis=0),  linestyle=\"-\", color='C' + str(i-1))\n",
    "    #ax.plot(x, 1-ymean, color='C' + str(i-1), linestyle=\"-\", marker=\"o\", alpha=1)\n",
    "    #ax.fill_between(x, 1-ylower, 1-yupper, color=\"C\"+str(i-1), alpha=0.2, interpolate=True)\n",
    "\n",
    "ax.set_xlabel(\"steps\")\n",
    "ax.set_ylabel(\"1 - $\\\\theta$\")\n",
    "ax.spines[\"right\"].set_visible(False)\n",
    "ax.spines[\"top\"].set_visible(False)\n",
    "ax.set_xticks(range(1,7))\n",
    "ax.spines[\"bottom\"].set_bounds(1,6)\n",
    "ax.spines[\"left\"].set_bounds(0,1)\n",
    "ax.set_yticks([0,.5,1])\n",
    "fig.savefig(\"figures/full-state-binary-predictions.pdf\", format=\"pdf\", bbox_inches=\"tight\")\n",
    "# ax1.fill_between(x, 0, y1)"
   ]
  },
  {
   "cell_type": "markdown",
   "metadata": {},
   "source": [
    "# Two state results"
   ]
  },
  {
   "cell_type": "code",
   "execution_count": 18,
   "metadata": {},
   "outputs": [],
   "source": [
    "dataset = \"two-state-predictions\"\n",
    "filepath = \"generated-data/%s/results/binary-output.pickle\" % dataset\n",
    "\n",
    "# Read file\n",
    "with open(filepath, \"rb\") as f:\n",
    "    data = pickle.load(f)\n",
    "    thetas = data[\"thetas\"]\n",
    "    epistasis = data[\"epistasis\"]"
   ]
  },
  {
   "cell_type": "code",
   "execution_count": 19,
   "metadata": {},
   "outputs": [
    {
     "data": {
      "image/png": "[encoded data removed]",
      "text/plain": [
       "<matplotlib.figure.Figure at 0x7f13eeb07080>"
      ]
     },
     "metadata": {},
     "output_type": "display_data"
    }
   ],
   "source": [
    "fig, ax = plt.subplots(figsize=(3,2))\n",
    "\n",
    "for i in range(len(epistasis)):\n",
    "    y = epistasis[i]\n",
    "    x = np.arange(1, len(y)+1) + np.random.randn(len(y))*.1 \n",
    "    ax.scatter(x, y, color='gray', s=10)\n",
    "\n",
    "xmean = np.arange(1, 7)\n",
    "out = np.nanpercentile(epistasis, (50, 2.5, 97.5), axis=0)\n",
    "ymean, ylower, yupper = out[0], abs(out[0] - out[1]), abs(out[0] - out[2])\n",
    "ax.errorbar(xmean, ymean, yerr=[ylower, yupper], color=\"k\", fmt=\"o\", ms=5, capsize=4)\n",
    "\n",
    "ax.set_yscale('log')\n",
    "ax.set_ylim(ymin=1e-7)\n",
    "ax.set_xlabel(\"order of epistasis\")\n",
    "ax.set_ylabel(\"magnitude\")\n",
    "ax.spines[\"right\"].set_visible(False)\n",
    "ax.spines[\"top\"].set_visible(False)\n",
    "#ax.spines[\"bottom\"].set_visible(False)\n",
    "ticks = ax.set_xticks(range(1,7))\n",
    "ax.spines[\"bottom\"].set_bounds(1,6)\n",
    "#fig.savefig(\"figures/two-state-epistasis.pdf\", format=\"pdf\", bbox_inches=\"tight\")"
   ]
  },
  {
   "cell_type": "code",
   "execution_count": 20,
   "metadata": {},
   "outputs": [
    {
     "data": {
      "image/png": "[encoded data removed]",
      "text/plain": [
       "<matplotlib.figure.Figure at 0x7f13ee790e80>"
      ]
     },
     "metadata": {},
     "output_type": "display_data"
    }
   ],
   "source": [
    "fig, ax = plt.subplots(figsize=(3,2))\n",
    "\n",
    "for i in range(1, len(thetas)+1):\n",
    "    y = np.array(thetas[i])\n",
    "    #x = np.ones(y.shape) * np.arange(1,7) + np.random.randn(*y.shape)*1e-1\n",
    "    y50 = np.nanpercentile(y, 50, axis=0)\n",
    "    x50 = np.arange(1, len(y50)+1)\n",
    "    #ax.scatter(x, 1-y, alpha=.2, color='C' + str(i-1), s=10)\n",
    "    #ax.plot(x50, 1-y50, marker=\"o\", linestyle=\"-\", color='C' + str(i-1))\n",
    "    ax.plot(x50, 1-np.nanmean(y, axis=0),  linestyle=\"-\", color='C' + str(i-1))\n",
    "    #ax.plot(x, 1-ymean, color='C' + str(i-1), linestyle=\"-\", marker=\"o\", alpha=1)\n",
    "    #ax.fill_between(x, 1-ylower, 1-yupper, color=\"C\"+str(i-1), alpha=0.2, interpolate=True)\n",
    "\n",
    "ax.set_xlabel(\"steps\")\n",
    "ax.set_ylabel(\"1 - $\\\\theta$\")\n",
    "ax.spines[\"right\"].set_visible(False)\n",
    "ax.spines[\"top\"].set_visible(False)\n",
    "ax.set_xticks(range(1,7))\n",
    "ax.spines[\"bottom\"].set_bounds(1,6)\n",
    "ax.spines[\"left\"].set_bounds(0,1)\n",
    "ax.set_yticks([0,.5,1])\n",
    "fig.savefig(\"figures/two-state-binary-predictions.pdf\", format=\"pdf\", bbox_inches=\"tight\")\n",
    "# ax1.fill_between(x, 0, y1)"
   ]
  },
  {
   "cell_type": "code",
   "execution_count": null,
   "metadata": {},
   "outputs": [],
   "source": []
  }
 ],
 "metadata": {
  "kernelspec": {
   "display_name": "py3",
   "language": "python",
   "name": "py3"
  },
  "language_info": {
   "codemirror_mode": {
    "name": "ipython",
    "version": 3
   },
   "file_extension": ".py",
   "mimetype": "text/x-python",
   "name": "python",
   "nbconvert_exporter": "python",
   "pygments_lexer": "ipython3",
   "version": "3.5.0"
  }
 },
 "nbformat": 4,
 "nbformat_minor": 2
}
