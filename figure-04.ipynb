{
 "cells": [
  {
   "cell_type": "markdown",
   "metadata": {},
   "source": [
    "# Figure 4"
   ]
  },
  {
   "cell_type": "code",
   "execution_count": 2,
   "metadata": {
    "collapsed": true
   },
   "outputs": [],
   "source": [
    "%matplotlib inline\n",
    "import matplotlib.pyplot as plt\n",
    "import numpy as np\n",
    "import pickle\n",
    "from matplotlib import rcParams\n",
    "\n",
    "rcParams['font.family'] = 'sans-serif'\n",
    "rcParams['font.sans-serif'] = ['Arial']\n",
    "rcParams['svg.fonttype'] = 'none'"
   ]
  },
  {
   "cell_type": "code",
   "execution_count": 3,
   "metadata": {
    "collapsed": true
   },
   "outputs": [],
   "source": [
    "def plot_predictions(thetas, ax):\n",
    "    #fig, ax = plt.subplots(figsize=(3,1.5))\n",
    "\n",
    "    for i in range(1, len(thetas)+1):\n",
    "        y = np.array(thetas[i])\n",
    "        #x = np.ones(y.shape) * np.arange(1,7) + np.random.randn(*y.shape)*1e-1\n",
    "        y50 = np.nanpercentile(y, 50, axis=0)\n",
    "        x50 = np.arange(1, len(y50)+1)\n",
    "        ax.plot(x50, np.nanmean(y, axis=0),  linestyle=\"-\", color='C' + str(i-1), linewidth=.7)\n",
    "\n",
    "    #ax.set_xlabel(\"steps\")\n",
    "    #ax.set_ylabel(\"1 - $\\\\theta$\")\n",
    "    ax.spines[\"right\"].set_visible(False)\n",
    "    ax.spines[\"top\"].set_visible(False)\n",
    "    ax.set_xticks(range(1,7))\n",
    "    ax.spines[\"bottom\"].set_bounds(1,6)\n",
    "    ax.spines[\"left\"].set_bounds(0,1)\n",
    "    ax.spines[\"bottom\"].set_linewidth(0.5)\n",
    "    ax.spines[\"left\"].set_linewidth(0.5)\n",
    "    ax.set_yticks([0,.5,1])\n",
    "    ax.tick_params(labelsize=8, width=0.5)\n",
    "    \n",
    "    #return fig, ax"
   ]
  },
  {
   "cell_type": "markdown",
   "metadata": {},
   "source": [
    "## Full state results"
   ]
  },
  {
   "cell_type": "code",
   "execution_count": 4,
   "metadata": {
    "collapsed": true
   },
   "outputs": [],
   "source": [
    "dataset = \"full-state-predictions\"\n",
    "filepath = \"generated-data/%s/results/binary-output.pickle\" % dataset\n",
    "\n",
    "# Read file\n",
    "with open(filepath, \"rb\") as f:\n",
    "    data = pickle.load(f)\n",
    "    thetas1 = data[\"thetas\"]"
   ]
  },
  {
   "cell_type": "markdown",
   "metadata": {},
   "source": [
    "## Two state results"
   ]
  },
  {
   "cell_type": "code",
   "execution_count": 5,
   "metadata": {
    "collapsed": true
   },
   "outputs": [],
   "source": [
    "dataset = \"two-state-predictions\"\n",
    "filepath = \"generated-data/%s/results/binary-output.pickle\" % dataset\n",
    "\n",
    "# Read file\n",
    "with open(filepath, \"rb\") as f:\n",
    "    data = pickle.load(f)\n",
    "    thetas2 = data[\"thetas\"]"
   ]
  },
  {
   "cell_type": "markdown",
   "metadata": {},
   "source": [
    "## Three state results"
   ]
  },
  {
   "cell_type": "code",
   "execution_count": 6,
   "metadata": {
    "collapsed": true
   },
   "outputs": [],
   "source": [
    "dataset = \"three-state-predictions\"\n",
    "filepath = \"generated-data/%s/results/binary-output.pickle\" % dataset\n",
    "\n",
    "# Read file\n",
    "with open(filepath, \"rb\") as f:\n",
    "    data = pickle.load(f)\n",
    "    thetas3 = data[\"thetas\"]"
   ]
  },
  {
   "cell_type": "code",
   "execution_count": 7,
   "metadata": {},
   "outputs": [
    {
     "data": {
      "image/png": "[encoded data removed]",
      "text/plain": [
       "<matplotlib.figure.Figure at 0x101702da0>"
      ]
     },
     "metadata": {},
     "output_type": "display_data"
    }
   ],
   "source": [
    "import matplotlib.gridspec as gridspec\n",
    "\n",
    "fig = plt.figure(figsize=(1.7, 3.2))\n",
    "\n",
    "gs = gridspec.GridSpec(3, 1)\n",
    "ax1 = plt.subplot(gs[0, 0])\n",
    "ax2 = plt.subplot(gs[1, 0], sharex=ax1)\n",
    "ax3 = plt.subplot(gs[2, 0], sharex=ax1)\n",
    "\n",
    "plot_predictions(thetas1, ax1)\n",
    "plot_predictions(thetas2, ax2)\n",
    "plot_predictions(thetas3, ax3)"
   ]
  },
  {
   "cell_type": "code",
   "execution_count": 35,
   "metadata": {
    "collapsed": true
   },
   "outputs": [],
   "source": [
    "fig.savefig(\"figures/fig-4.pdf\", format=\"pdf\", bbox_inches=\"tight\")"
   ]
  },
  {
   "cell_type": "code",
   "execution_count": null,
   "metadata": {
    "collapsed": true
   },
   "outputs": [],
   "source": []
  }
 ],
 "metadata": {
  "kernelspec": {
   "display_name": "py3",
   "language": "python",
   "name": "py3"
  },
  "language_info": {
   "codemirror_mode": {
    "name": "ipython",
    "version": 3
   },
   "file_extension": ".py",
   "mimetype": "text/x-python",
   "name": "python",
   "nbconvert_exporter": "python",
   "pygments_lexer": "ipython3",
   "version": "3.5.2"
  }
 },
 "nbformat": 4,
 "nbformat_minor": 2
}
