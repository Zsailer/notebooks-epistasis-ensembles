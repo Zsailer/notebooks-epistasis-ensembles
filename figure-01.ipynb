{
 "cells": [
  {
   "cell_type": "markdown",
   "metadata": {},
   "source": [
    "# theta vs. hamming distance from source."
   ]
  },
  {
   "cell_type": "code",
   "execution_count": null,
   "metadata": {},
   "outputs": [],
   "source": [
    "%matplotlib inline\n",
    "import matplotlib.pyplot as plt\n",
    "import numpy as np\n",
    "import pickle"
   ]
  },
  {
   "cell_type": "code",
   "execution_count": null,
   "metadata": {},
   "outputs": [],
   "source": [
    "dataset = \"full-state-predictions\"\n",
    "filepath = \"%s/results/statistics-output.pickle\"\n",
    "\n",
    "# Read file\n",
    "with open(filepath, \"rb\") as f:\n",
    "    dfluxes = pickle.load(f)"
   ]
  },
  {
   "cell_type": "code",
   "execution_count": null,
   "metadata": {},
   "outputs": [],
   "source": [
    "fig, ax = plt.subplots()\n",
    "\n",
    "means = []\n",
    "for key, val in dfluxes.items(): \n",
    "    y = np.array(val)\n",
    "    ymean = np.nanmean(y)\n",
    "    x = np.ones(len(y)) * (key+1)\n",
    "    xjitter = x + np.random.randn(len(x))* .1\n",
    "    ax.scatter(xjitter,y, marker=\"o\", color=\"gray\", alpha=1)\n",
    "    means.append(ymean)\n",
    "\n",
    "x = range(1, 8)\n",
    "y = means\n",
    "ax.plot(x,y)\n",
    "ax.set_xlabel(\"hamming distance\")\n",
    "ax.set_ylabel(\"$\\\\theta$\")\n",
    "ax.axis([0,8,-0.05,1.05])\n",
    "#fig.savefig(\"/Users/Zsailer/Dropbox/epistasis-paper/02_he-comes-from-ensembles/figures/open-walk-divergence.pdf\", format=\"pdf\")"
   ]
  }
 ],
 "metadata": {
  "kernelspec": {
   "display_name": "Python 3",
   "language": "python",
   "name": "python3"
  },
  "language_info": {
   "codemirror_mode": {
    "name": "ipython",
    "version": 3
   },
   "file_extension": ".py",
   "mimetype": "text/x-python",
   "name": "python",
   "nbconvert_exporter": "python",
   "pygments_lexer": "ipython3",
   "version": "3.5.2"
  }
 },
 "nbformat": 4,
 "nbformat_minor": 2
}
