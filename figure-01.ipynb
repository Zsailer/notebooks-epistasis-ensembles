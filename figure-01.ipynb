{
 "cells": [
  {
   "cell_type": "markdown",
   "metadata": {},
   "source": [
    "# theta vs. hamming distance from source."
   ]
  },
  {
   "cell_type": "code",
   "execution_count": 7,
   "metadata": {},
   "outputs": [],
   "source": [
    "%matplotlib inline\n",
    "import matplotlib.pyplot as plt\n",
    "import numpy as np\n",
    "import pickle\n",
    "from matplotlib import rcParams\n",
    "\n",
    "rcParams['font.family'] = 'sans-serif'\n",
    "rcParams['font.sans-serif'] = ['Arial']"
   ]
  },
  {
   "cell_type": "markdown",
   "metadata": {},
   "source": [
    "# Full state predictions"
   ]
  },
  {
   "cell_type": "code",
   "execution_count": 45,
   "metadata": {},
   "outputs": [],
   "source": [
    "dataset = \"full-state-predictions\"\n",
    "filepath = \"generated-data/%s/results/statistics-output.pickle\" % dataset\n",
    "\n",
    "# Read file\n",
    "with open(filepath, \"rb\") as f:\n",
    "    dfluxes = pickle.load(f)\n",
    "    dfluxes.pop(7)"
   ]
  },
  {
   "cell_type": "code",
   "execution_count": 46,
   "metadata": {},
   "outputs": [
    {
     "data": {
      "image/png": "[encoded data removed]",
      "text/plain": [
       "<matplotlib.figure.Figure at 0x7f41919ebc88>"
      ]
     },
     "metadata": {},
     "output_type": "display_data"
    }
   ],
   "source": [
    "fig, ax = plt.subplots(figsize=(3,2))\n",
    "\n",
    "means = []\n",
    "for key, val in dfluxes.items():\n",
    "    y = np.ma.masked_invalid(val)\n",
    "    ymean = np.nanmean(y)\n",
    "    x = np.ones(len(y)) * (key+1)\n",
    "    xjitter = x + np.random.randn(len(x))* .1\n",
    "    ax.scatter(xjitter,y, marker=\"o\", color=\"gray\", alpha=1, s=10, rasterized=True)\n",
    "    means.append(ymean)\n",
    "\n",
    "x = range(1, 8)\n",
    "y = means\n",
    "ax.scatter(x,y, marker=\"o\", color=\"r\", s=10)\n",
    "ax.set_xlabel(\"hamming distance\")\n",
    "ax.set_ylabel(\"$\\\\theta$\")\n",
    "ax.axis([0,8,-0.05,1.05])\n",
    "ax.spines[\"right\"].set_visible(False)\n",
    "ax.spines[\"top\"].set_visible(False)\n",
    "ax.spines[\"bottom\"].set_bounds(1, 7)\n",
    "ax.spines[\"left\"].set_bounds(0,1)\n",
    "ax.set_yticks([0,.5,1])\n",
    "l = ax.set_xticks(range(1,8))\n",
    "fig.savefig(\"figures/full-state-open-predictions.pdf\", format=\"pdf\", dpi=600, bbox_inches=\"tight\")"
   ]
  },
  {
   "cell_type": "markdown",
   "metadata": {},
   "source": [
    "# Two state predictions"
   ]
  },
  {
   "cell_type": "code",
   "execution_count": 37,
   "metadata": {},
   "outputs": [],
   "source": [
    "dataset = \"two-state-predictions\"\n",
    "filepath = \"generated-data/%s/results/statistics-output.pickle\" % dataset\n",
    "\n",
    "# Read file\n",
    "with open(filepath, \"rb\") as f:\n",
    "    dfluxes = pickle.load(f)\n",
    "    dfluxes.pop(7)"
   ]
  },
  {
   "cell_type": "code",
   "execution_count": 43,
   "metadata": {},
   "outputs": [
    {
     "data": {
      "image/png": "[encoded data removed]",
      "text/plain": [
       "<matplotlib.figure.Figure at 0x7f4191eee5f8>"
      ]
     },
     "metadata": {},
     "output_type": "display_data"
    }
   ],
   "source": [
    "fig, ax = plt.subplots(figsize=(3,2))\n",
    "\n",
    "means = []\n",
    "for key, val in dfluxes.items():    \n",
    "    y = np.ma.masked_invalid(val)\n",
    "    ymean = np.nanmean(y)\n",
    "    x = np.ones(len(y)) * (key+1)\n",
    "    xjitter = x + np.random.randn(len(x))* .1\n",
    "    ax.scatter(xjitter,y, marker=\"o\", color=\"gray\", alpha=1, s=10, rasterized=True)\n",
    "    means.append(ymean)\n",
    "\n",
    "x = range(1, 8)\n",
    "y = means\n",
    "ax.scatter(x,y, marker=\"o\", color=\"r\", s=10)\n",
    "ax.set_xlabel(\"hamming distance\")\n",
    "ax.set_ylabel(\"$\\\\theta$\")\n",
    "ax.axis([0,8,-0.05,1.05])\n",
    "ax.spines[\"right\"].set_visible(False)\n",
    "ax.spines[\"top\"].set_visible(False)\n",
    "ax.spines[\"bottom\"].set_bounds(1, 7)\n",
    "ax.spines[\"left\"].set_bounds(0,1)\n",
    "ax.set_yticks([0,.5,1])\n",
    "l = ax.set_xticks(range(1,8))\n",
    "fig.savefig(\"figures/two-state-open-predictions.pdf\", format=\"pdf\", dpi=600, bbox_inches=\"tight\")"
   ]
  },
  {
   "cell_type": "code",
   "execution_count": null,
   "metadata": {},
   "outputs": [],
   "source": []
  }
 ],
 "metadata": {
  "kernelspec": {
   "display_name": "py3",
   "language": "python",
   "name": "py3"
  },
  "language_info": {
   "codemirror_mode": {
    "name": "ipython",
    "version": 3
   },
   "file_extension": ".py",
   "mimetype": "text/x-python",
   "name": "python",
   "nbconvert_exporter": "python",
   "pygments_lexer": "ipython3",
   "version": "3.5.0"
  }
 },
 "nbformat": 4,
 "nbformat_minor": 2
}
