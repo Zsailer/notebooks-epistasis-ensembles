{
 "cells": [
  {
   "cell_type": "markdown",
   "metadata": {},
   "source": [
    "# Figure 3\n",
    "## theta vs. hamming distance from source."
   ]
  },
  {
   "cell_type": "code",
   "execution_count": 2,
   "metadata": {
    "collapsed": true
   },
   "outputs": [],
   "source": [
    "%matplotlib inline\n",
    "import matplotlib.pyplot as plt\n",
    "import numpy as np\n",
    "import pickle\n",
    "from matplotlib import rcParams\n",
    "\n",
    "rcParams['font.family'] = 'sans-serif'\n",
    "rcParams['font.sans-serif'] = ['Arial']\n",
    "rcParams['svg.fonttype'] = 'none'"
   ]
  },
  {
   "cell_type": "markdown",
   "metadata": {},
   "source": [
    "## Functions"
   ]
  },
  {
   "cell_type": "code",
   "execution_count": 3,
   "metadata": {
    "collapsed": true
   },
   "outputs": [],
   "source": [
    "def plot_thetas(dfluxes):\n",
    "    \"\"\"\"\"\"\n",
    "    fig, ax = plt.subplots(figsize=(2,1.5))\n",
    "    \n",
    "    means = []\n",
    "    xs, ys = [], []\n",
    "    for key, val in dfluxes.items():\n",
    "        y = np.ma.masked_invalid(val)\n",
    "        ymean = np.nanmean(y)\n",
    "        x = np.ones(len(y)) * (key+1)\n",
    "        xjitter = x + np.random.randn(len(x))* .08\n",
    "        ys += list(y)\n",
    "        xs += list(xjitter)\n",
    "        means.append(ymean)\n",
    "\n",
    "    ax.scatter(xs,ys, marker=\"o\", color=\"gray\", alpha=1, s=4, rasterized=True)\n",
    "\n",
    "    x = range(1, 8)\n",
    "    y = means\n",
    "    ax.scatter(x,y, marker=\"o\", color=\"k\", s=4)\n",
    "    #ax.set_xlabel(\"hamming distance\")\n",
    "    #ax.set_ylabel(\"$\\\\theta$\")\n",
    "    ax.axis([0,8,-0.05,1.05])\n",
    "    ax.spines[\"right\"].set_visible(False)\n",
    "    ax.spines[\"top\"].set_visible(False)\n",
    "    ax.spines[\"bottom\"].set_bounds(1, 7)\n",
    "    ax.spines[\"left\"].set_bounds(0,1)\n",
    "    ax.set_yticks([0,.5,1])\n",
    "    l = ax.set_xticks(range(1,8))  \n",
    "    return fig, ax"
   ]
  },
  {
   "cell_type": "markdown",
   "metadata": {},
   "source": [
    "## Full state predictions"
   ]
  },
  {
   "cell_type": "code",
   "execution_count": 29,
   "metadata": {},
   "outputs": [],
   "source": [
    "with open(\"results/pop-10/2-state-binary-input.pickle\", \"rb\") as f:\n",
    "    data= pickle.load(f)"
   ]
  },
  {
   "cell_type": "code",
   "execution_count": 33,
   "metadata": {},
   "outputs": [
    {
     "data": {
      "text/plain": [
       "'URRDLDLDRRU'"
      ]
     },
     "execution_count": 33,
     "metadata": {},
     "output_type": "execute_result"
    }
   ],
   "source": [
    "data[\"seq_pairs\"][0]\n",
    "data[\"dbs\"][0]\n",
    "data[\"targets\"][0]"
   ]
  },
  {
   "cell_type": "code",
   "execution_count": 15,
   "metadata": {
    "collapsed": true
   },
   "outputs": [],
   "source": [
    "#dataset = \"full-state-predictions\"\n",
    "filepath = \"results/pop-1/statistics-output.pickle\"\n",
    "\n",
    "# Read file\n",
    "with open(filepath, \"rb\") as f:\n",
    "    dfluxes = pickle.load(f)\n",
    "    dfluxes.pop(7)"
   ]
  },
  {
   "cell_type": "code",
   "execution_count": 18,
   "metadata": {},
   "outputs": [
    {
     "name": "stderr",
     "output_type": "stream",
     "text": [
      "/Users/Zsailer/.virtualenvs/py3/lib/python3.5/site-packages/numpy/ma/core.py:2809: UserWarning: Warning: converting a masked element to nan.\n",
      "  order=order, subok=True, ndmin=ndmin)\n"
     ]
    },
    {
     "data": {
      "image/png": "[encoded data removed]",
      "text/plain": [
       "<matplotlib.figure.Figure at 0x113864eb8>"
      ]
     },
     "metadata": {},
     "output_type": "display_data"
    }
   ],
   "source": [
    "fig, ax = plot_thetas(dfluxes)\n",
    "#fig.savefig(\"figures/full-state-open-predictions.pdf\", format=\"pdf\", dpi=600, bbox_inches=\"tight\")"
   ]
  },
  {
   "cell_type": "markdown",
   "metadata": {},
   "source": [
    "## Two state predictions"
   ]
  },
  {
   "cell_type": "code",
   "execution_count": 10,
   "metadata": {
    "collapsed": true
   },
   "outputs": [],
   "source": [
    "dataset = \"two-state-predictions\"\n",
    "filepath = \"generated-data/%s/results/statistics-output.pickle\" % dataset\n",
    "\n",
    "# Read file\n",
    "with open(filepath, \"rb\") as f:\n",
    "    dfluxes2 = pickle.load(f)\n",
    "    dfluxes2.pop(7)"
   ]
  },
  {
   "cell_type": "code",
   "execution_count": 17,
   "metadata": {},
   "outputs": [
    {
     "data": {
      "image/png": "[encoded data removed]",
      "text/plain": [
       "<matplotlib.figure.Figure at 0x10fe4ad68>"
      ]
     },
     "metadata": {},
     "output_type": "display_data"
    }
   ],
   "source": [
    "fig, ax = plot_thetas(dfluxes)\n",
    "fig.savefig(\"figures/two-state-open-predictions.pdf\", format=\"pdf\", dpi=600, bbox_inches=\"tight\")"
   ]
  },
  {
   "cell_type": "markdown",
   "metadata": {},
   "source": [
    "## Three state predictions"
   ]
  },
  {
   "cell_type": "code",
   "execution_count": 11,
   "metadata": {
    "collapsed": true
   },
   "outputs": [],
   "source": [
    "dataset = \"three-state-predictions\"\n",
    "filepath = \"generated-data/%s/results/statistics-output.pickle\" % dataset\n",
    "\n",
    "# Read file\n",
    "with open(filepath, \"rb\") as f:\n",
    "    dfluxes3 = pickle.load(f)\n",
    "    dfluxes3.pop(7)"
   ]
  },
  {
   "cell_type": "code",
   "execution_count": 19,
   "metadata": {},
   "outputs": [
    {
     "data": {
      "image/png": "[encoded data removed]",
      "text/plain": [
       "<matplotlib.figure.Figure at 0x10d7e1160>"
      ]
     },
     "metadata": {},
     "output_type": "display_data"
    }
   ],
   "source": [
    "fig, ax = plot_thetas(dfluxes)\n",
    "fig.savefig(\"figures/three-state-open-predictions.pdf\", format=\"pdf\", dpi=600, bbox_inches=\"tight\")"
   ]
  },
  {
   "cell_type": "code",
   "execution_count": 30,
   "metadata": {},
   "outputs": [
    {
     "name": "stderr",
     "output_type": "stream",
     "text": [
      "/Users/Zsailer/.virtualenvs/py3/lib/python3.5/site-packages/numpy/ma/core.py:2766: UserWarning: Warning: converting a masked element to nan.\n",
      "  order=order, subok=True, ndmin=ndmin)\n"
     ]
    },
    {
     "data": {
      "image/png": "[encoded data removed]",
      "text/plain": [
       "<matplotlib.figure.Figure at 0x112fcefd0>"
      ]
     },
     "metadata": {},
     "output_type": "display_data"
    }
   ],
   "source": [
    "import matplotlib.gridspec as gridspec\n",
    "\n",
    "fig = plt.figure(figsize=(1.7,3.2))\n",
    "\n",
    "gs = gridspec.GridSpec(3, 1)\n",
    "ax1 = plt.subplot(gs[0, 0])\n",
    "ax2 = plt.subplot(gs[1, 0], sharex=ax1)\n",
    "ax3 = plt.subplot(gs[2, 0], sharex=ax1)\n",
    "\n",
    "plot_thetas(dfluxes1, ax1)\n",
    "plot_thetas(dfluxes2, ax2)\n",
    "plot_thetas(dfluxes3, ax3)"
   ]
  },
  {
   "cell_type": "code",
   "execution_count": 31,
   "metadata": {
    "collapsed": true
   },
   "outputs": [],
   "source": [
    "fig.savefig(\"figures/fig-3b.pdf\", format=\"pdf\", dpi=600, bbox_inches=\"tight\")"
   ]
  },
  {
   "cell_type": "code",
   "execution_count": null,
   "metadata": {
    "collapsed": true
   },
   "outputs": [],
   "source": []
  }
 ],
 "metadata": {
  "kernelspec": {
   "display_name": "py3",
   "language": "python",
   "name": "py3"
  },
  "language_info": {
   "codemirror_mode": {
    "name": "ipython",
    "version": 3
   },
   "file_extension": ".py",
   "mimetype": "text/x-python",
   "name": "python",
   "nbconvert_exporter": "python",
   "pygments_lexer": "ipython3",
   "version": "3.5.2"
  }
 },
 "nbformat": 4,
 "nbformat_minor": 2
}
