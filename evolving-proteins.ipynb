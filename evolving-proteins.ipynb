{
 "cells": [
  {
   "cell_type": "code",
   "execution_count": 1,
   "metadata": {
    "collapsed": false
   },
   "outputs": [],
   "source": [
    "%matplotlib inline\n",
    "import matplotlib.pyplot as plt\n",
    "import numpy as np\n",
    "\n",
    "from gpmap.utils import hamming_distance\n",
    "\n",
    "from latticeproteins.conformations import Conformations\n",
    "from latticeproteins.evolution import Evolution, AdaptiveWalk\n",
    "from latticeproteins.fitness import Fitness\n",
    "from latticeproteins.sequences import RandomSequence\n",
    "\n",
    "from latticegpm.gpm import LatticeGenotypePhenotypeMap\n",
    "from gpmap.evolve import monte_carlo, EvolverError\n",
    "from gpmap.evolve.models import fixation\n",
    "\n",
    "from epistasis.models.nonlinear.regression import EpistasisNonlinearRegression\n",
    "from epistasis.models.linear.regression import EpistasisLinearRegression\n",
    "from epistasis.models.nonlinear.power import EpistasisPowerTransform"
   ]
  },
  {
   "cell_type": "code",
   "execution_count": 2,
   "metadata": {},
   "outputs": [],
   "source": [
    "length = 15\n",
    "temperature = 1.0\n",
    "dGdependence= \"fracfolded\"\n",
    "c = Conformations(length)"
   ]
  },
  {
   "cell_type": "code",
   "execution_count": 3,
   "metadata": {
    "collapsed": true
   },
   "outputs": [],
   "source": [
    "def evolve():\n",
    "    good = False\n",
    "    while good is False:\n",
    "        wildtype = \"\".join(RandomSequence(length))\n",
    "        popsize = 50\n",
    "        numsteps = 17\n",
    "        f = None\n",
    "        output = c.FoldSequence(wildtype, temperature)\n",
    "        fitness = Fitness(temperature, c, dGdependence=dGdependence)\n",
    "        finalpop = AdaptiveWalk(wildtype, fitness, numsteps, file=f, steepest_ascent=True)\n",
    "        mutant = finalpop[0]\n",
    "        order = hamming_distance(wildtype, mutant)\n",
    "        if order == 13:\n",
    "            return wildtype, mutant\n"
   ]
  },
  {
   "cell_type": "code",
   "execution_count": 6,
   "metadata": {},
   "outputs": [
    {
     "name": "stdout",
     "output_type": "stream",
     "text": [
      "0\n",
      "1\n",
      "2\n",
      "3\n",
      "4\n",
      "5\n",
      "6\n",
      "7\n",
      "8\n",
      "9\n"
     ]
    }
   ],
   "source": [
    "with open(\"sequences.txt\", \"a\") as f:\n",
    "    counter = 0\n",
    "    while counter < 10:\n",
    "        wt, mut = evolve()\n",
    "        print(counter)\n",
    "        f.write(wt + \", \" + mut + \"\\n\")\n",
    "        counter += 1\n",
    "f.close()"
   ]
  },
  {
   "cell_type": "code",
   "execution_count": 14,
   "metadata": {},
   "outputs": [
    {
     "name": "stdout",
     "output_type": "stream",
     "text": [
      "VALNYPMAGNLYDVQ VAKNYKMVGNLFFVQ\n",
      "SGAFDDLDETYTREP FGAFDMLWMKYTREP\n",
      "CKEFHPSCQQGNQCD CKEFKPKFQQCNQCM\n",
      "AEPWTVHERATVQDQ MEPWTVHIRAKVQHI\n",
      "TIPMMRYIMRFMFRY TIPMKRKCMFFMFRC\n"
     ]
    },
    {
     "ename": "KeyboardInterrupt",
     "evalue": "",
     "output_type": "error",
     "traceback": [
      "\u001b[0;31m---------------------------------------------------------------------------\u001b[0m",
      "\u001b[0;31mKeyboardInterrupt\u001b[0m                         Traceback (most recent call last)",
      "\u001b[0;32m<ipython-input-14-8c45a6150955>\u001b[0m in \u001b[0;36m<module>\u001b[0;34m()\u001b[0m\n\u001b[1;32m     10\u001b[0m     \u001b[0moutput\u001b[0m \u001b[0;34m=\u001b[0m \u001b[0mc\u001b[0m\u001b[0;34m.\u001b[0m\u001b[0mFoldSequence\u001b[0m\u001b[0;34m(\u001b[0m\u001b[0mwildtype\u001b[0m\u001b[0;34m,\u001b[0m \u001b[0mtemperature\u001b[0m\u001b[0;34m)\u001b[0m\u001b[0;34m\u001b[0m\u001b[0m\n\u001b[1;32m     11\u001b[0m     \u001b[0mfitness\u001b[0m \u001b[0;34m=\u001b[0m \u001b[0mFitness\u001b[0m\u001b[0;34m(\u001b[0m\u001b[0mtemperature\u001b[0m\u001b[0;34m,\u001b[0m \u001b[0mc\u001b[0m\u001b[0;34m,\u001b[0m \u001b[0mdGdependence\u001b[0m\u001b[0;34m=\u001b[0m\u001b[0mdGdependence\u001b[0m\u001b[0;34m)\u001b[0m\u001b[0;34m\u001b[0m\u001b[0m\n\u001b[0;32m---> 12\u001b[0;31m     \u001b[0mfinalpop\u001b[0m \u001b[0;34m=\u001b[0m \u001b[0mAdaptiveWalk\u001b[0m\u001b[0;34m(\u001b[0m\u001b[0mwildtype\u001b[0m\u001b[0;34m,\u001b[0m \u001b[0mfitness\u001b[0m\u001b[0;34m,\u001b[0m \u001b[0mnumsteps\u001b[0m\u001b[0;34m,\u001b[0m \u001b[0mfile\u001b[0m\u001b[0;34m=\u001b[0m\u001b[0mf\u001b[0m\u001b[0;34m,\u001b[0m \u001b[0msteepest_ascent\u001b[0m\u001b[0;34m=\u001b[0m\u001b[0;32mTrue\u001b[0m\u001b[0;34m)\u001b[0m\u001b[0;34m\u001b[0m\u001b[0m\n\u001b[0m\u001b[1;32m     13\u001b[0m     \u001b[0mmutant\u001b[0m \u001b[0;34m=\u001b[0m \u001b[0mfinalpop\u001b[0m\u001b[0;34m[\u001b[0m\u001b[0;36m0\u001b[0m\u001b[0;34m]\u001b[0m\u001b[0;34m\u001b[0m\u001b[0m\n\u001b[1;32m     14\u001b[0m     \u001b[0morder\u001b[0m \u001b[0;34m=\u001b[0m \u001b[0mhamming_distance\u001b[0m\u001b[0;34m(\u001b[0m\u001b[0mwildtype\u001b[0m\u001b[0;34m,\u001b[0m \u001b[0mmutant\u001b[0m\u001b[0;34m)\u001b[0m\u001b[0;34m\u001b[0m\u001b[0m\n",
      "\u001b[0;32m/Users/Zsailer/github/latticeproteins/latticeproteins/evolution.py\u001b[0m in \u001b[0;36mAdaptiveWalk\u001b[0;34m(initialseq, fitness, maxsteps, fitness_cutoff, steepest_ascent, file, exclude_mutations)\u001b[0m\n\u001b[1;32m    622\u001b[0m         \u001b[0mbestseq\u001b[0m \u001b[0;34m=\u001b[0m \u001b[0mnewfit\u001b[0m \u001b[0;34m=\u001b[0m \u001b[0;32mNone\u001b[0m\u001b[0;34m\u001b[0m\u001b[0m\n\u001b[1;32m    623\u001b[0m         \u001b[0;32mfor\u001b[0m \u001b[0mmutseq\u001b[0m \u001b[0;32min\u001b[0m \u001b[0mmutants\u001b[0m\u001b[0;34m:\u001b[0m\u001b[0;34m\u001b[0m\u001b[0m\n\u001b[0;32m--> 624\u001b[0;31m             \u001b[0mf\u001b[0m \u001b[0;34m=\u001b[0m \u001b[0mfitness\u001b[0m\u001b[0;34m.\u001b[0m\u001b[0mFitness\u001b[0m\u001b[0;34m(\u001b[0m\u001b[0mmutseq\u001b[0m\u001b[0;34m)\u001b[0m\u001b[0;34m\u001b[0m\u001b[0m\n\u001b[0m\u001b[1;32m    625\u001b[0m             \u001b[0;32mif\u001b[0m \u001b[0mbestseq\u001b[0m \u001b[0;34m==\u001b[0m \u001b[0;32mNone\u001b[0m \u001b[0;32mor\u001b[0m \u001b[0mf\u001b[0m \u001b[0;34m>\u001b[0m \u001b[0mnewfit\u001b[0m\u001b[0;34m:\u001b[0m\u001b[0;34m\u001b[0m\u001b[0m\n\u001b[1;32m    626\u001b[0m                 \u001b[0mnewfit\u001b[0m \u001b[0;34m=\u001b[0m \u001b[0mf\u001b[0m\u001b[0;34m\u001b[0m\u001b[0m\n",
      "\u001b[0;32m/Users/Zsailer/github/latticeproteins/latticeproteins/fitness.py\u001b[0m in \u001b[0;36mFitness\u001b[0;34m(self, seq)\u001b[0m\n\u001b[1;32m    123\u001b[0m         \"\"\"Compute the fitness of the sequence.\n\u001b[1;32m    124\u001b[0m         \"\"\"\n\u001b[0;32m--> 125\u001b[0;31m         \u001b[0mnativeE_results\u001b[0m \u001b[0;34m=\u001b[0m \u001b[0mself\u001b[0m\u001b[0;34m.\u001b[0m\u001b[0m_NativeE\u001b[0m\u001b[0;34m(\u001b[0m\u001b[0mseq\u001b[0m\u001b[0;34m)\u001b[0m\u001b[0;34m\u001b[0m\u001b[0m\n\u001b[0m\u001b[1;32m    126\u001b[0m         \u001b[0mstability_results\u001b[0m \u001b[0;34m=\u001b[0m \u001b[0mself\u001b[0m\u001b[0;34m.\u001b[0m\u001b[0m_Stability\u001b[0m\u001b[0;34m(\u001b[0m\u001b[0;34m*\u001b[0m\u001b[0mnativeE_results\u001b[0m\u001b[0;34m)\u001b[0m\u001b[0;34m\u001b[0m\u001b[0m\n\u001b[1;32m    127\u001b[0m         \u001b[0mfitness_results\u001b[0m \u001b[0;34m=\u001b[0m \u001b[0mself\u001b[0m\u001b[0;34m.\u001b[0m\u001b[0m_Fitness\u001b[0m\u001b[0;34m(\u001b[0m\u001b[0;34m*\u001b[0m\u001b[0mstability_results\u001b[0m\u001b[0;34m)\u001b[0m\u001b[0;34m\u001b[0m\u001b[0m\n",
      "\u001b[0;32m/Users/Zsailer/github/latticeproteins/latticeproteins/fitness.py\u001b[0m in \u001b[0;36m_NativeE\u001b[0;34m(self, seq)\u001b[0m\n\u001b[1;32m    117\u001b[0m         \u001b[0;32melse\u001b[0m\u001b[0;34m:\u001b[0m\u001b[0;34m\u001b[0m\u001b[0m\n\u001b[1;32m    118\u001b[0m             \u001b[0;31m# folding to lowest energy conformation\u001b[0m\u001b[0;34m\u001b[0m\u001b[0;34m\u001b[0m\u001b[0m\n\u001b[0;32m--> 119\u001b[0;31m             \u001b[0;32mreturn\u001b[0m \u001b[0mself\u001b[0m\u001b[0;34m.\u001b[0m\u001b[0m_conformations\u001b[0m\u001b[0;34m.\u001b[0m\u001b[0mFoldSequence\u001b[0m\u001b[0;34m(\u001b[0m\u001b[0mseq\u001b[0m\u001b[0;34m,\u001b[0m \u001b[0mself\u001b[0m\u001b[0;34m.\u001b[0m\u001b[0m_temp\u001b[0m\u001b[0;34m)\u001b[0m\u001b[0;34m\u001b[0m\u001b[0m\n\u001b[0m\u001b[1;32m    120\u001b[0m \u001b[0;34m\u001b[0m\u001b[0m\n\u001b[1;32m    121\u001b[0m     \u001b[0;31m#---------------------------------------------------------------------\u001b[0m\u001b[0;34m\u001b[0m\u001b[0;34m\u001b[0m\u001b[0m\n",
      "\u001b[0;32m/Users/Zsailer/github/latticeproteins/latticeproteins/conformations.py\u001b[0m in \u001b[0;36mFoldSequence\u001b[0;34m(self, seq, temp, target_conf, numsaved, loop_in_C)\u001b[0m\n\u001b[1;32m    377\u001b[0m         \u001b[0;32mif\u001b[0m \u001b[0mtarget_conf\u001b[0m \u001b[0;34m==\u001b[0m \u001b[0;32mNone\u001b[0m\u001b[0;34m:\u001b[0m\u001b[0;34m\u001b[0m\u001b[0m\n\u001b[1;32m    378\u001b[0m             \u001b[0;32mif\u001b[0m \u001b[0mloop_in_C\u001b[0m\u001b[0;34m:\u001b[0m \u001b[0;31m# use the fast 'contactlooper' C-extension\u001b[0m\u001b[0;34m\u001b[0m\u001b[0m\n\u001b[0;32m--> 379\u001b[0;31m                 \u001b[0;34m(\u001b[0m\u001b[0mminE\u001b[0m\u001b[0;34m,\u001b[0m \u001b[0mibest\u001b[0m\u001b[0;34m,\u001b[0m \u001b[0mpartitionsum\u001b[0m\u001b[0;34m,\u001b[0m \u001b[0mfolds\u001b[0m\u001b[0;34m)\u001b[0m \u001b[0;34m=\u001b[0m \u001b[0mNoTargetLooper\u001b[0m\u001b[0;34m(\u001b[0m\u001b[0mres_interactions\u001b[0m\u001b[0;34m,\u001b[0m \u001b[0mcontactsets\u001b[0m\u001b[0;34m,\u001b[0m \u001b[0mcontactsetdegeneracy\u001b[0m\u001b[0;34m,\u001b[0m \u001b[0mfloat\u001b[0m\u001b[0;34m(\u001b[0m\u001b[0mtemp\u001b[0m\u001b[0;34m)\u001b[0m\u001b[0;34m)\u001b[0m\u001b[0;34m\u001b[0m\u001b[0m\n\u001b[0m\u001b[1;32m    380\u001b[0m                 \u001b[0;32mif\u001b[0m \u001b[0mfolds\u001b[0m \u001b[0;32mis\u001b[0m \u001b[0;36m1\u001b[0m\u001b[0;34m:\u001b[0m\u001b[0;34m\u001b[0m\u001b[0m\n\u001b[1;32m    381\u001b[0m                     \u001b[0mfolds\u001b[0m \u001b[0;34m=\u001b[0m \u001b[0;32mTrue\u001b[0m\u001b[0;34m\u001b[0m\u001b[0m\n",
      "\u001b[0;31mKeyboardInterrupt\u001b[0m: "
     ]
    }
   ],
   "source": [
    "length = 15\n",
    "c = Conformations(length)\n",
    "temperature = 1.0\n",
    "good = False\n",
    "while good is False:\n",
    "    wildtype = \"\".join(RandomSequence(length))\n",
    "    popsize = 20\n",
    "    numsteps = 5\n",
    "    f = None\n",
    "    output = c.FoldSequence(wildtype, temperature)\n",
    "    fitness = Fitness(temperature, c, dGdependence=dGdependence)\n",
    "    finalpop = AdaptiveWalk(wildtype, fitness, numsteps, file=f, steepest_ascent=True)\n",
    "    mutant = finalpop[0]\n",
    "    order = hamming_distance(wildtype, mutant)\n",
    "    if order == 5:\n",
    "        print( wildtype, mutant )\n"
   ]
  },
  {
   "cell_type": "code",
   "execution_count": null,
   "metadata": {},
   "outputs": [],
   "source": []
  }
 ],
 "metadata": {
  "kernelspec": {
   "display_name": "Python 3 (py3)",
   "language": "python",
   "name": "py3"
  },
  "language_info": {
   "codemirror_mode": {
    "name": "ipython",
    "version": 3
   },
   "file_extension": ".py",
   "mimetype": "text/x-python",
   "name": "python",
   "nbconvert_exporter": "python",
   "pygments_lexer": "ipython3",
   "version": "3.5.0"
  }
 },
 "nbformat": 4,
 "nbformat_minor": 2
}
