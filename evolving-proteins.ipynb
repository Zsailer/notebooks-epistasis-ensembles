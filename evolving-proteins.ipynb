{
 "cells": [
  {
   "cell_type": "code",
   "execution_count": 1,
   "metadata": {
    "collapsed": false
   },
   "outputs": [],
   "source": [
    "%matplotlib inline\n",
    "import matplotlib.pyplot as plt\n",
    "import numpy as np\n",
    "\n",
    "from gpmap.utils import hamming_distance\n",
    "\n",
    "from latticeproteins.conformations import Conformations\n",
    "from latticeproteins.evolution import Evolution, AdaptiveWalk\n",
    "from latticeproteins.fitness import Fitness\n",
    "from latticeproteins.sequences import RandomSequence\n",
    "\n",
    "from latticegpm.gpm import LatticeGenotypePhenotypeMap\n",
    "\n",
    "from epistasis.models.nonlinear.regression import EpistasisNonlinearRegression\n",
    "from epistasis.models.linear.regression import EpistasisLinearRegression\n",
    "from epistasis.models.nonlinear.power import EpistasisPowerTransform"
   ]
  },
  {
   "cell_type": "code",
   "execution_count": 2,
   "metadata": {
    "collapsed": true
   },
   "outputs": [],
   "source": [
    "from functools import wraps\n",
    "\n",
    "class ConstrainedFitness(Fitness):\n",
    "    \"\"\"Wraps latticeproteins ``Fitness`` model to select for a single conformation\n",
    "    \"\"\"\n",
    "    @wraps(Fitness.__init__)\n",
    "    def __init__(self, temperature, conf_database, fitconf, *args, **kwargs):\n",
    "        \"\"\"Hacked fitness\n",
    "        \n",
    "        New argument\n",
    "        ------------\n",
    "        fitconf : str\n",
    "            conformation to fit. all other conformations are lethal\n",
    "        \"\"\"\n",
    "        self.fitconf = fitconf\n",
    "        super(ConstrainedFitness, self).__init__(temperature, conf_database, *args, **kwargs)\n",
    "        \n",
    "    def Fitness(self, seq):\n",
    "        \"\"\"Computes the fitness from a given stability value\"\"\"\n",
    "        nativeE_results = self._NativeE(seq)\n",
    "        conf = nativeE_results[1]\n",
    "        if conf != fitconf:\n",
    "            return 0\n",
    "        else:\n",
    "            stability_results = self._Stability(*nativeE_results)\n",
    "            fitness_results = self._Fitness(*stability_results)\n",
    "            return fitness_results[0]        "
   ]
  },
  {
   "cell_type": "code",
   "execution_count": 3,
   "metadata": {
    "collapsed": true
   },
   "outputs": [],
   "source": [
    "length = 10\n",
    "temperature = 1.0\n",
    "dGdependence= \"fracfolded\"\n",
    "conf_database = Conformations(length)"
   ]
  },
  {
   "cell_type": "code",
   "execution_count": 4,
   "metadata": {
    "collapsed": false
   },
   "outputs": [
    {
     "name": "stdout",
     "output_type": "stream",
     "text": [
      "5\n",
      "\"GEKCMVDPFL\", \"GFKKCVDKFT\"\n"
     ]
    }
   ],
   "source": [
    "wildtype = \"\".join(RandomSequence(length))\n",
    "popsize = 20\n",
    "mutrate = 0.001\n",
    "numsteps = 5\n",
    "f = None\n",
    "output = conf_database.FoldSequence(wildtype, temperature)\n",
    "fitconf = output[1]\n",
    "#fitness = ConstrainedFitness(temperature, conf_database, fitconf=fitconf, dGdependence=dGdependence)\n",
    "fitness = Fitness(temperature, conf_database, dGdependence=dGdependence)\n",
    "finalpop = AdaptiveWalk(wildtype, fitness, numsteps, file=f, steepest_ascent=True)\n",
    "mutant = finalpop[0]\n",
    "order = hamming_distance(wildtype, mutant)\n",
    "print(order)\n",
    "print('\"'+wildtype+'\", \"'+mutant+'\"')"
   ]
  },
  {
   "cell_type": "code",
   "execution_count": 5,
   "metadata": {
    "collapsed": false
   },
   "outputs": [
    {
     "data": {
      "text/plain": [
       "0.8432953604362323"
      ]
     },
     "execution_count": 5,
     "metadata": {},
     "output_type": "execute_result"
    }
   ],
   "source": [
    "fitness.Fitness(mutant)"
   ]
  },
  {
   "cell_type": "code",
   "execution_count": 6,
   "metadata": {
    "collapsed": false
   },
   "outputs": [
    {
     "data": {
      "text/plain": [
       "0.8798451357681454"
      ]
     },
     "execution_count": 6,
     "metadata": {},
     "output_type": "execute_result"
    }
   ],
   "source": [
    "1 - fitness.Fitness(wildtype)"
   ]
  },
  {
   "cell_type": "code",
   "execution_count": 7,
   "metadata": {
    "collapsed": true
   },
   "outputs": [],
   "source": [
    "def evolve():\n",
    "    wildtype = \"\".join(RandomSequence(length))\n",
    "    popsize = 50\n",
    "    mutrate = 0.6\n",
    "    numsteps = 100\n",
    "    f = None\n",
    "    output = conf_database.FoldSequence(wildtype, temperature)\n",
    "    fitconf = output[1]\n",
    "    fitness = ConstrainedFitness(temperature, conf_database, fitconf=fitconf, dGdependence=dGdependence)\n",
    "    finalpop = Evolution(wildtype, fitness, popsize, mutrate, numsteps, file=f)\n",
    "    mutant = finalpop[0]\n",
    "    return wildtype, mutant\n"
   ]
  },
  {
   "cell_type": "code",
   "execution_count": 6,
   "metadata": {
    "collapsed": true
   },
   "outputs": [],
   "source": [
    "with open(\"sequences.txt\", \"w\") as f:\n",
    "    counter = 0\n",
    "    while counter < 100:\n",
    "        wt, mut = evolve()\n",
    "        hd = hamming_distance(wt, mut)\n",
    "        if hd == 15:\n",
    "            f.write(wt + \", \" + mut + \"\\n\")\n",
    "            counter += 1\n",
    "f.close()"
   ]
  },
  {
   "cell_type": "code",
   "execution_count": 13,
   "metadata": {
    "collapsed": false
   },
   "outputs": [],
   "source": [
    "wt = \"GVCKCLCFVTEGVED\"\n",
    "mu = \"REWSIMMMGWGYYVN\"\n",
    "temperature = 1\n",
    "gpm = LatticeGenotypePhenotypeMap.from_mutant(wt, mu, conf_database, temperature=temperature)"
   ]
  },
  {
   "cell_type": "code",
   "execution_count": null,
   "metadata": {
    "collapsed": false
   },
   "outputs": [],
   "source": [
    "model = EpistasisLinearRegression.from_gpm(gpm, order=order, model_type=\"global\")\n",
    "model.fit()"
   ]
  },
  {
   "cell_type": "code",
   "execution_count": null,
   "metadata": {
    "collapsed": false
   },
   "outputs": [],
   "source": [
    "model = EpistasisPowerTransform.from_gpm(gpm, order=1, model_type=\"global\", fix_linear=True)\n",
    "model.fit()"
   ]
  },
  {
   "cell_type": "code",
   "execution_count": null,
   "metadata": {
    "collapsed": false
   },
   "outputs": [],
   "source": [
    "np.unique(model.gpm.conformations)"
   ]
  },
  {
   "cell_type": "code",
   "execution_count": 33,
   "metadata": {
    "collapsed": false
   },
   "outputs": [
    {
     "data": {
      "text/plain": [
       "[<matplotlib.lines.Line2D at 0x10d49a5f8>]"
      ]
     },
     "execution_count": 33,
     "metadata": {},
     "output_type": "execute_result"
    },
    {
     "data": {
      "image/png": "[encoded data removed]",
      "text/plain": [
       "<matplotlib.figure.Figure at 0x10a138cf8>"
      ]
     },
     "metadata": {},
     "output_type": "display_data"
    }
   ],
   "source": [
    "plt.plot(model.predict_linear(), model.gpm.phenotypes, '.')"
   ]
  },
  {
   "cell_type": "code",
   "execution_count": 30,
   "metadata": {
    "collapsed": false
   },
   "outputs": [
    {
     "data": {
      "text/plain": [
       "<Container object of 2036 artists>"
      ]
     },
     "execution_count": 30,
     "metadata": {},
     "output_type": "execute_result"
    },
    {
     "data": {
      "image/png": "[encoded data removed]",
      "text/plain": [
       "<matplotlib.figure.Figure at 0x10b528e48>"
      ]
     },
     "metadata": {},
     "output_type": "display_data"
    }
   ],
   "source": [
    "y = model.epistasis.values[order+1:]\n",
    "x = range(len(y))\n",
    "plt.bar(x, y, width=1)"
   ]
  },
  {
   "cell_type": "code",
   "execution_count": 2,
   "metadata": {
    "collapsed": true
   },
   "outputs": [],
   "source": [
    "import math"
   ]
  },
  {
   "cell_type": "code",
   "execution_count": 5,
   "metadata": {
    "collapsed": false
   },
   "outputs": [
    {
     "data": {
      "text/plain": [
       "479001600"
      ]
     },
     "execution_count": 5,
     "metadata": {},
     "output_type": "execute_result"
    }
   ],
   "source": [
    "math.factorial(12)"
   ]
  },
  {
   "cell_type": "code",
   "execution_count": 1,
   "metadata": {
    "collapsed": true
   },
   "outputs": [],
   "source": [
    "from latticegpm.gpm import LatticeGenotypePhenotypeMap\n",
    "from latticeproteins.conformations import Conformations"
   ]
  },
  {
   "cell_type": "code",
   "execution_count": 2,
   "metadata": {
    "collapsed": false
   },
   "outputs": [],
   "source": [
    "c = Conformations(8, \"database\")\n",
    "s = LatticeGenotypePhenotypeMap.from_length(8, c)"
   ]
  },
  {
   "cell_type": "code",
   "execution_count": 3,
   "metadata": {
    "collapsed": false
   },
   "outputs": [],
   "source": [
    "s.to_json(\"test.json\")"
   ]
  },
  {
   "cell_type": "code",
   "execution_count": 4,
   "metadata": {
    "collapsed": false
   },
   "outputs": [],
   "source": [
    "t = LatticeGenotypePhenotypeMap.from_json(\"test.json\")"
   ]
  },
  {
   "cell_type": "code",
   "execution_count": 13,
   "metadata": {
    "collapsed": false
   },
   "outputs": [],
   "source": [
    "t."
   ]
  },
  {
   "cell_type": "code",
   "execution_count": null,
   "metadata": {
    "collapsed": true
   },
   "outputs": [],
   "source": []
  }
 ],
 "metadata": {
  "kernelspec": {
   "display_name": "Python 3 (py3)",
   "language": "python",
   "name": "py3"
  },
  "language_info": {
   "codemirror_mode": {
    "name": "ipython",
    "version": 3
   },
   "file_extension": ".py",
   "mimetype": "text/x-python",
   "name": "python",
   "nbconvert_exporter": "python",
   "pygments_lexer": "ipython3",
   "version": "3.5.0"
  }
 },
 "nbformat": 4,
 "nbformat_minor": 2
}
