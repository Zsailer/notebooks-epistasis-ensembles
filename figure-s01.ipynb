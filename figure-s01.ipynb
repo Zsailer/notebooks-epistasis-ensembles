{
 "cells": [
  {
   "cell_type": "code",
   "execution_count": 93,
   "metadata": {},
   "outputs": [],
   "source": [
    "%matplotlib inline\n",
    "import matplotlib.pyplot as plt\n",
    "import pickle\n",
    "import numpy as np\n",
    "import ipywidgets\n",
    "\n",
    "import matplotlib.pyplot as plt\n",
    "plt.rcParams[\"font.family\"] = \"Arial\""
   ]
  },
  {
   "cell_type": "code",
   "execution_count": 148,
   "metadata": {},
   "outputs": [],
   "source": [
    "with open(\"results/theta-omega-3.pickle\", \"rb\") as f:\n",
    "    data = pickle.load(f)"
   ]
  },
  {
   "cell_type": "code",
   "execution_count": 156,
   "metadata": {},
   "outputs": [
    {
     "name": "stdout",
     "output_type": "stream",
     "text": [
      "335\n",
      "335\n"
     ]
    }
   ],
   "source": [
    "print(len(data[\"omegas\"][4]))\n",
    "print(len(data[\"thetas\"][4]))"
   ]
  },
  {
   "cell_type": "code",
   "execution_count": 149,
   "metadata": {},
   "outputs": [
    {
     "data": {
      "image/png": "[encoded data removed]",
      "text/plain": [
       "<matplotlib.figure.Figure at 0x114cd6c88>"
      ]
     },
     "metadata": {},
     "output_type": "display_data"
    }
   ],
   "source": [
    "import matplotlib.gridspec as gridspec\n",
    "\n",
    "plt.figure(figsize=(2.5,3))\n",
    "gs = gridspec.GridSpec(2, 1)\n",
    "\n",
    "ax1 = plt.subplot(gs[0, 0])\n",
    "ax2 = plt.subplot(gs[1, 0], sharex=ax1)\n",
    "\n",
    "# Plot divergence of trajectories\n",
    "for i, d in enumerate(data[\"thetas\"]):\n",
    "    popsize = np.log10(10**i)\n",
    "    xjitter = np.random.randn(len(d))*.07\n",
    "    x = np.log10(np.ones(len(d))*10**i) + xjitter\n",
    "    y = np.array(d)\n",
    "    ax1.plot(x, y, \"o\", color=\"gray\", rasterized=True, markersize=3)\n",
    "    \n",
    "    # plot means\n",
    "    x = [popsize-0.3, popsize+0.3]\n",
    "    y = [np.nanmean(y), np.nanmean(y)]\n",
    "    ax1.plot(x,y, \"-\", color=\"r\", linewidth=2)\n",
    "    \n",
    "ax1.spines[\"right\"].set_visible(False)\n",
    "ax1.spines[\"top\"].set_visible(False)\n",
    "ax1.spines[\"bottom\"].set_bounds(0,6)\n",
    "ax1.spines[\"left\"].set_bounds(0,1)\n",
    "ax1.set_yticks([0, 0.5, 1])\n",
    "#ax1.set_xticklabels([])\n",
    "ax1.axis([-.5,6.5,-0.1,1])\n",
    "\n",
    "ax1.set_ylabel(\"$\\\\theta$\", fontsize=12)\n",
    "ax1.set_xticks(range(0,7))\n",
    "\n",
    "# Plot entropy of trajectories\n",
    "for i, d in enumerate(data[\"omegas\"]):\n",
    "    popsize = np.log10(10**i)\n",
    "    xjitter = np.random.randn(len(d))*.07\n",
    "    x = np.log10(np.ones(len(d))*10**i) + xjitter\n",
    "    y = np.array(d)\n",
    "    ax2.plot(x, y, \"o\", color=\"gray\", rasterized=True, markersize=3)\n",
    "\n",
    "    # plot means\n",
    "    x = [popsize-0.3, popsize+0.3]\n",
    "    y = [np.nanmean(y), np.nanmean(y)]\n",
    "    ax2.plot(x,y, \"-\", color=\"r\", linewidth=2)\n",
    "    \n",
    "    \n",
    "ax2.spines[\"right\"].set_visible(False)\n",
    "ax2.spines[\"top\"].set_visible(False)\n",
    "ax2.spines[\"bottom\"].set_bounds(0,6)\n",
    "ax2.spines[\"left\"].set_bounds(1,8)\n",
    "ax2.set_yticks(np.arange(1,9))\n",
    "\n",
    "ax2.set_xlabel(\"log(N)\", fontsize=12)\n",
    "ax2.set_xticks(range(0,7))\n",
    "ax2.set_ylabel(\"S\", fontsize=12)\n",
    "plt.savefig(\"/Users/Zsailer/Dropbox/epistasis-paper/02_he-comes-from-ensembles/pnas/resubmission/figures/popsize-three-state.pdf\", format=\"pdf\", bbox_inches=\"tight\", dpi=300)"
   ]
  },
  {
   "cell_type": "code",
   "execution_count": 70,
   "metadata": {},
   "outputs": [
    {
     "data": {
      "text/plain": [
       "[<matplotlib.axis.YTick at 0x11209ff98>,\n",
       " <matplotlib.axis.YTick at 0x1127fd9e8>,\n",
       " <matplotlib.axis.YTick at 0x1123594a8>,\n",
       " <matplotlib.axis.YTick at 0x112764ef0>,\n",
       " <matplotlib.axis.YTick at 0x1124c6208>]"
      ]
     },
     "execution_count": 70,
     "metadata": {},
     "output_type": "execute_result"
    },
    {
     "data": {
      "image/png": "[encoded data removed]",
      "text/plain": [
       "<matplotlib.figure.Figure at 0x112181470>"
      ]
     },
     "metadata": {},
     "output_type": "display_data"
    }
   ],
   "source": [
    "fig, ax2 = plt.subplots(figsize=(3,2))\n",
    "\n",
    "for i, d in enumerate(data[\"omegas\"]):\n",
    "    popsize = np.log10(10**i)\n",
    "    xjitter = np.random.randn(len(d))*.07\n",
    "    x = np.log10(np.ones(len(d))*10**i) + xjitter\n",
    "    y = np.array(d)\n",
    "    ax2.plot(x, y, \"o\", color=\"gray\")\n",
    "\n",
    "    # plot means\n",
    "    x = [popsize-0.3, popsize+0.3]\n",
    "    y = [np.nanmean(y), np.nanmean(y)]\n",
    "    ax2.plot(x,y, \"-\", color=\"r\", linewidth=3)\n",
    "    \n",
    "    \n",
    "ax2.spines[\"right\"].set_visible(False)\n",
    "ax2.spines[\"top\"].set_visible(False)\n",
    "ax2.spines[\"bottom\"].set_bounds(0,6)\n",
    "ax2.spines[\"left\"].set_bounds(4,8)\n",
    "ax2.set_yticks(range(4,9))"
   ]
  },
  {
   "cell_type": "code",
   "execution_count": 167,
   "metadata": {},
   "outputs": [
    {
     "data": {
      "text/plain": [
       "[<matplotlib.lines.Line2D at 0x113fa9470>]"
      ]
     },
     "execution_count": 167,
     "metadata": {},
     "output_type": "execute_result"
    },
    {
     "data": {
      "image/png": "[encoded data removed]",
      "text/plain": [
       "<matplotlib.figure.Figure at 0x114de6358>"
      ]
     },
     "metadata": {},
     "output_type": "display_data"
    }
   ],
   "source": [
    "t = data[\"thetas\"][6]\n",
    "s =  np.array(data[\"omegas\"][6])\n",
    "\n",
    "plt.plot(t, s, 'o')"
   ]
  }
 ],
 "metadata": {
  "kernelspec": {
   "display_name": "Python 3",
   "language": "python",
   "name": "python3"
  },
  "language_info": {
   "codemirror_mode": {
    "name": "ipython",
    "version": 3
   },
   "file_extension": ".py",
   "mimetype": "text/x-python",
   "name": "python",
   "nbconvert_exporter": "python",
   "pygments_lexer": "ipython3",
   "version": "3.6.2"
  }
 },
 "nbformat": 4,
 "nbformat_minor": 2
}
