{
 "cells": [
  {
   "cell_type": "code",
   "execution_count": 1,
   "metadata": {
    "collapsed": true
   },
   "outputs": [],
   "source": [
    "%matplotlib inline\n",
    "import matplotlib.pyplot as plt\n",
    "import math\n",
    "import numpy as np\n",
    "from collections import Counter"
   ]
  },
  {
   "cell_type": "code",
   "execution_count": 2,
   "metadata": {
    "collapsed": false
   },
   "outputs": [],
   "source": [
    "from latticeproteins.conformations import Conformations\n",
    "from latticeproteins.sequences import RandomSequence\n",
    "from latticeproteins.evolution import Evolution, AdaptiveWalk\n",
    "from latticeproteins.fitness import Fitness\n",
    "\n",
    "from latticegpm.gpm import LatticeGenotypePhenotypeMap\n",
    "from latticegpm.search import sequence_space\n",
    "\n",
    "from gpmap.evolve.models import fixation\n",
    "from gpmap.evolve.mc import monte_carlo, EvolverError\n",
    "from gpmap.utils import hamming_distance\n",
    "from gpmap.graph.paths import paths_and_probabilities\n",
    "\n",
    "\n",
    "from epistasis.models.linear import EpistasisLinearRegression\n",
    "from epistasis.stats import magnitude_vs_order\n",
    "from epistasis import plot"
   ]
  },
  {
   "cell_type": "code",
   "execution_count": 3,
   "metadata": {
    "collapsed": true
   },
   "outputs": [],
   "source": [
    "length = 15\n",
    "temperature = 1.0\n",
    "dGdependence= \"fracfolded\"\n",
    "c = Conformations(length)"
   ]
  },
  {
   "cell_type": "code",
   "execution_count": 50,
   "metadata": {},
   "outputs": [],
   "source": [
    "import math"
   ]
  },
  {
   "cell_type": "code",
   "execution_count": 52,
   "metadata": {},
   "outputs": [
    {
     "data": {
      "text/plain": [
       "6227020800"
      ]
     },
     "execution_count": 52,
     "metadata": {},
     "output_type": "execute_result"
    }
   ],
   "source": [
    "math.factorial(13)"
   ]
  },
  {
   "cell_type": "code",
   "execution_count": 4,
   "metadata": {
    "collapsed": false
   },
   "outputs": [
    {
     "name": "stdout",
     "output_type": "stream",
     "text": [
      "5\n",
      "\"RLLHQMINLSNN\", \"HLFWQMINLSIF\"\n"
     ]
    }
   ],
   "source": [
    "wildtype = \"\".join(RandomSequence(length))\n",
    "numsteps = 13\n",
    "f = None\n",
    "fitness = Fitness(temperature, c, dGdependence=dGdependence)\n",
    "finalpop = AdaptiveWalk(wildtype, fitness, numsteps, file=f, steepest_ascent=True)\n",
    "mutant = finalpop[0]\n",
    "order = hamming_distance(wildtype, mutant)\n",
    "print(order)\n",
    "print('\"'+wildtype+'\", \"'+mutant+'\"')"
   ]
  },
  {
   "cell_type": "code",
   "execution_count": 5,
   "metadata": {
    "collapsed": false
   },
   "outputs": [],
   "source": [
    "seq0, seq1 = wildtype, mutant #\"QKRLGPCMWE\", \"FKDFDPCMKE\""
   ]
  },
  {
   "cell_type": "code",
   "execution_count": 6,
   "metadata": {
    "collapsed": false
   },
   "outputs": [
    {
     "data": {
      "text/plain": [
       "array([ 0.06880361,  0.47899862,  0.15727223,  0.81545632,  0.13673206,\n",
       "        0.68011839,  0.22473356,  0.89565296,  0.06775608,  0.57488666,\n",
       "        0.15374051,  0.84791894,  0.07946072,  0.76987539,  0.15781729,\n",
       "        0.93166118,  0.06655195,  0.46597121,  0.16125822,  0.85602532,\n",
       "        0.15050456,  0.63521897,  0.23546868,  0.90039014,  0.07506411,\n",
       "        0.56221258,  0.20513778,  0.89066189,  0.11559912,  0.73462357,\n",
       "        0.25150675,  0.9390523 ])"
      ]
     },
     "execution_count": 6,
     "metadata": {},
     "output_type": "execute_result"
    }
   ],
   "source": [
    "out0 = c.FoldSequence(seq0, 1.0)\n",
    "out1 = c.FoldSequence(seq1, 1.0)\n",
    "conf0 = out0[1] \n",
    "conf1 = out1[1]\n",
    "\n",
    "gpm = LatticeGenotypePhenotypeMap.from_mutant(seq0, seq1, c, temperature=1)\n",
    "gpm.phenotype_type = \"fracfolded\"\n",
    "gpm.phenotypes"
   ]
  },
  {
   "cell_type": "code",
   "execution_count": 38,
   "metadata": {},
   "outputs": [],
   "source": [
    "import pickle"
   ]
  },
  {
   "cell_type": "code",
   "execution_count": 46,
   "metadata": {},
   "outputs": [],
   "source": [
    "with open(\"scripts/results/test-no-z-0.pickle\", \"rb\") as f:\n",
    "    data = pickle.load(f)"
   ]
  },
  {
   "cell_type": "code",
   "execution_count": 49,
   "metadata": {},
   "outputs": [
    {
     "data": {
      "text/plain": [
       "Counter({(): 100})"
      ]
     },
     "execution_count": 49,
     "metadata": {},
     "output_type": "execute_result"
    }
   ],
   "source": [
    "data"
   ]
  },
  {
   "cell_type": "code",
   "execution_count": 8,
   "metadata": {
    "collapsed": false
   },
   "outputs": [],
   "source": [
    "# Calculate the temperature\n",
    "fitness = Fitness(temperature, c, dGdependence=dGdependence)\n",
    "temp = fitness.NativeE(gpm.genotypes[-1])/ gpm.stabilities[-1]"
   ]
  },
  {
   "cell_type": "code",
   "execution_count": 40,
   "metadata": {
    "collapsed": false
   },
   "outputs": [
    {
     "data": {
      "text/plain": [
       "array([ 0.7249775 ,  0.73129033,  0.74819543,  0.75415604,  0.76371991,\n",
       "        0.76942628,  0.79411207,  0.79927735,  0.77182898,  0.77676264,\n",
       "        0.79222518,  0.79683391,  0.8057399 ,  0.81012071,  0.83191667,\n",
       "        0.83582744,  0.74173931,  0.75887469,  0.76400282,  0.78009896,\n",
       "        0.7788408 ,  0.79419753,  0.80777752,  0.82158525,  0.78657594,\n",
       "        0.80094962,  0.80598528,  0.81935199,  0.81880968,  0.83147759,\n",
       "        0.84356721,  0.85481112])"
      ]
     },
     "execution_count": 40,
     "metadata": {},
     "output_type": "execute_result"
    }
   ],
   "source": [
    "gpm2 = LatticeGenotypePhenotypeMap.from_mutant(seq0, seq1, c, target_conf=conf1, temperature=temp)\n",
    "gpm2.phenotype_type = \"fracfolded\"\n",
    "#gpm.nativeEs = gpm.nativeEs / gpm.nativeEs[-1]\n",
    "gpm2.set_partition_confs([conf1, \"RRRRRRRRRRRRRR\"])\n",
    "gpm2.phenotypes"
   ]
  },
  {
   "cell_type": "code",
   "execution_count": 41,
   "metadata": {
    "collapsed": false
   },
   "outputs": [
    {
     "name": "stdout",
     "output_type": "stream",
     "text": [
      "17\n",
      "None\n"
     ]
    },
    {
     "name": "stderr",
     "output_type": "stream",
     "text": [
      "/Users/Zsailer/Documents/Research/projects/pkgs/gpmap/gpmap/evolve/models.py:13: RuntimeWarning: overflow encountered in exp\n",
      "  denominator = 1 - np.exp(-N * sij)\n"
     ]
    }
   ],
   "source": [
    "paths = []\n",
    "error = None\n",
    "for i in range(100):\n",
    "    try:\n",
    "        paths.append(monte_carlo(gpm, gpm.wildtype, gpm.genotypes[-1], fixation, forward=True))\n",
    "    except EvolverError as e:\n",
    "        error = e\n",
    "        paths.append(tuple())\n",
    "z = Counter(paths)\n",
    "print(len(z))\n",
    "#print(z)\n",
    "print(error)"
   ]
  },
  {
   "cell_type": "code",
   "execution_count": 16,
   "metadata": {
    "collapsed": false
   },
   "outputs": [
    {
     "ename": "NameError",
     "evalue": "name 'gpm2' is not defined",
     "output_type": "error",
     "traceback": [
      "\u001b[0;31m---------------------------------------------------------------------------\u001b[0m",
      "\u001b[0;31mNameError\u001b[0m                                 Traceback (most recent call last)",
      "\u001b[0;32m<ipython-input-16-bd6e393a5a4f>\u001b[0m in \u001b[0;36m<module>\u001b[0;34m()\u001b[0m\n\u001b[1;32m      4\u001b[0m \u001b[0;32mfor\u001b[0m \u001b[0mi\u001b[0m \u001b[0;32min\u001b[0m \u001b[0mrange\u001b[0m\u001b[0;34m(\u001b[0m\u001b[0;36m100\u001b[0m\u001b[0;34m)\u001b[0m\u001b[0;34m:\u001b[0m\u001b[0;34m\u001b[0m\u001b[0m\n\u001b[1;32m      5\u001b[0m     \u001b[0;32mtry\u001b[0m\u001b[0;34m:\u001b[0m\u001b[0;34m\u001b[0m\u001b[0m\n\u001b[0;32m----> 6\u001b[0;31m         \u001b[0mpaths2\u001b[0m\u001b[0;34m.\u001b[0m\u001b[0mappend\u001b[0m\u001b[0;34m(\u001b[0m\u001b[0mmonte_carlo\u001b[0m\u001b[0;34m(\u001b[0m\u001b[0mgpm2\u001b[0m\u001b[0;34m,\u001b[0m \u001b[0mgpm2\u001b[0m\u001b[0;34m.\u001b[0m\u001b[0mwildtype\u001b[0m\u001b[0;34m,\u001b[0m \u001b[0mgpm2\u001b[0m\u001b[0;34m.\u001b[0m\u001b[0mgenotypes\u001b[0m\u001b[0;34m[\u001b[0m\u001b[0;34m-\u001b[0m\u001b[0;36m1\u001b[0m\u001b[0;34m]\u001b[0m\u001b[0;34m,\u001b[0m \u001b[0mfixation\u001b[0m\u001b[0;34m,\u001b[0m \u001b[0mforward\u001b[0m\u001b[0;34m=\u001b[0m\u001b[0;32mTrue\u001b[0m\u001b[0;34m)\u001b[0m\u001b[0;34m)\u001b[0m\u001b[0;34m\u001b[0m\u001b[0m\n\u001b[0m\u001b[1;32m      7\u001b[0m     \u001b[0;32mexcept\u001b[0m \u001b[0mEvolverError\u001b[0m \u001b[0;32mas\u001b[0m \u001b[0me\u001b[0m\u001b[0;34m:\u001b[0m\u001b[0;34m\u001b[0m\u001b[0m\n\u001b[1;32m      8\u001b[0m         \u001b[0merror\u001b[0m \u001b[0;34m=\u001b[0m \u001b[0me\u001b[0m\u001b[0;34m\u001b[0m\u001b[0m\n",
      "\u001b[0;31mNameError\u001b[0m: name 'gpm2' is not defined"
     ]
    }
   ],
   "source": [
    "paths2 = []\n",
    "error = None\n",
    "\n",
    "for i in range(100):\n",
    "    try:\n",
    "        paths2.append(monte_carlo(gpm2, gpm2.wildtype, gpm2.genotypes[-1], fixation, forward=True))\n",
    "    except EvolverError as e:\n",
    "        error = e\n",
    "        paths2.append(tuple())\n",
    "y = Counter(paths2)\n",
    "print(len(y))\n",
    "print(error)"
   ]
  },
  {
   "cell_type": "code",
   "execution_count": 43,
   "metadata": {
    "collapsed": false,
    "scrolled": false
   },
   "outputs": [],
   "source": [
    "paths = list(set(list(z.keys()) + list(y.keys())))\n",
    "\n",
    "zbar = np.zeros(len(paths), dtype=float)\n",
    "ybar = np.zeros(len(paths), dtype=float)\n",
    "\n",
    "for i, p in enumerate(paths):\n",
    "    if p in z:\n",
    "        zbar[i] = z[p]\n",
    "    if p in y:\n",
    "        ybar[i] = y[p]"
   ]
  },
  {
   "cell_type": "code",
   "execution_count": 44,
   "metadata": {
    "collapsed": false
   },
   "outputs": [
    {
     "data": {
      "text/plain": [
       "<Container object of 56 artists>"
      ]
     },
     "execution_count": 44,
     "metadata": {},
     "output_type": "execute_result"
    },
    {
     "data": {
      "image/png": "[encoded data removed]",
      "text/plain": [
       "<matplotlib.figure.Figure at 0x10b4caf98>"
      ]
     },
     "metadata": {},
     "output_type": "display_data"
    }
   ],
   "source": [
    "x = np.arange(len(zbar))\n",
    "fig, ax = plt.subplots(figsize=(9,5))\n",
    "ax.bar(x, zbar, alpha=.8)\n",
    "ax.bar(x, ybar, alpha=.8)"
   ]
  },
  {
   "cell_type": "code",
   "execution_count": 45,
   "metadata": {
    "collapsed": false
   },
   "outputs": [],
   "source": [
    "from gpmap.graph.paths import flux\n",
    "from gpmap.graph import draw"
   ]
  },
  {
   "cell_type": "code",
   "execution_count": 46,
   "metadata": {
    "collapsed": false
   },
   "outputs": [
    {
     "name": "stderr",
     "output_type": "stream",
     "text": [
      "/Users/Zsailer/Documents/Research/projects/pkgs/gpmap/gpmap/evolve/models.py:13: RuntimeWarning: overflow encountered in exp\n",
      "  denominator = 1 - np.exp(-N * sij)\n"
     ]
    },
    {
     "data": {
      "image/png": "[encoded data removed]",
      "text/plain": [
       "<matplotlib.figure.Figure at 0x10b87df60>"
      ]
     },
     "metadata": {},
     "output_type": "display_data"
    },
    {
     "data": {
      "image/png": "[encoded data removed]",
      "text/plain": [
       "<matplotlib.figure.Figure at 0x10b132518>"
      ]
     },
     "metadata": {},
     "output_type": "display_data"
    }
   ],
   "source": [
    "gpm.add_networkx()\n",
    "gpm2.add_networkx()\n",
    "source, target = 0, 31 \n",
    "\n",
    "fluxes2 = flux(gpm.Graph, source, target, transition_model=fixation)\n",
    "fluxes5 = flux(gpm2.Graph, source, target, transition_model=fixation)\n",
    "\n",
    "width=12\n",
    "\n",
    "#vmax = max([max(ml_nonlinear.phenotypes),max(ml_nonlinear_2nd.phenotypes)])\n",
    "#vmin = min([min(ml_nonlinear.phenotypes),min(ml_nonlinear_2nd.phenotypes)])\n",
    "#print(round(vmax,2), round(vmin,2))\n",
    "settings = dict(\n",
    "    figsize=[2.5,2.5], \n",
    "    n_height=9, \n",
    "    n_width=9,\n",
    "    n_linewidths=0,\n",
    "    #n_vmax=round(vmax,2),\n",
    "    #n_vmin=round(vmin,2),\n",
    "    e_arrows=False, \n",
    "    l_alpha=0.0,\n",
    "    n_colorbar=True\n",
    ")  \n",
    "\n",
    "fig, ax, pos = draw.network(gpm.Graph, e_width = width*fluxes2, **settings)\n",
    "#fig.savefig(\"../img/network-\"+dataset+\"-2nd-order.pdf\", format=\"pdf\")\n",
    "fig, ax, pos = draw.network(gpm2.Graph, e_width = width*fluxes5, **settings)\n",
    "#fig.savefig(\"../img/network-\"+dataset+\"-5th-order.pdf\", format=\"pdf\")"
   ]
  },
  {
   "cell_type": "code",
   "execution_count": null,
   "metadata": {},
   "outputs": [],
   "source": []
  }
 ],
 "metadata": {
  "kernelspec": {
   "display_name": "Python 3 (py3)",
   "language": "python",
   "name": "py3"
  },
  "language_info": {
   "codemirror_mode": {
    "name": "ipython",
    "version": 3
   },
   "file_extension": ".py",
   "mimetype": "text/x-python",
   "name": "python",
   "nbconvert_exporter": "python",
   "pygments_lexer": "ipython3",
   "version": "3.5.0"
  }
 },
 "nbformat": 4,
 "nbformat_minor": 2
}
