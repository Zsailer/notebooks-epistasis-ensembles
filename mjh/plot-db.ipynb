{
 "cells": [
  {
   "cell_type": "code",
   "execution_count": 1,
   "metadata": {
    "collapsed": true
   },
   "outputs": [],
   "source": [
    "%matplotlib inline\n",
    "import matplotlib.pyplot as plt\n",
    "import numpy as np\n",
    "import h5py"
   ]
  },
  {
   "cell_type": "code",
   "execution_count": 77,
   "metadata": {
    "collapsed": true
   },
   "outputs": [],
   "source": [
    "class Data(object):\n",
    "    def __init__(self, fname):\n",
    "        self.f = h5py.File(fname, \"r\")\n",
    "        \n",
    "    @property\n",
    "    def sequences(self):\n",
    "        return self.f[\"sequences\"].value\n",
    "    \n",
    "    @property\n",
    "    def phi0(self):\n",
    "        x = self.f[\"phi0\"].value\n",
    "        return x[~np.isnan(x[:,0]), :]\n",
    "\n",
    "    @property\n",
    "    def phi1(self):\n",
    "        x = self.f[\"phi1\"].value\n",
    "        return x[~np.isnan(x[:,0]), :]\n",
    "    \n",
    "    @property\n",
    "    def phi2(self):\n",
    "        x = self.f[\"phi2\"].value\n",
    "        return x[~np.isnan(x[:,0]), :]\n",
    "\n",
    "    @property\n",
    "    def phi3(self):\n",
    "        x = self.f[\"phi3\"].value\n",
    "        return x[~np.isnan(x[:,0]), :]\n",
    "    \n",
    "    @property\n",
    "    def phi4(self):\n",
    "        x = self.f[\"phi4\"].value\n",
    "        return x[~np.isnan(x[:,0]), :]\n",
    "  \n",
    "    @property\n",
    "    def rsquared0(self):\n",
    "        x = self.f[\"rsquared0\"].value\n",
    "        return x[~np.isnan(x[:,0, 0]), :, :]\n",
    "\n",
    "    @property\n",
    "    def rsquared1(self):\n",
    "        x = self.f[\"rsquared1\"].value\n",
    "        return x[~np.isnan(x[:,1, 0]), :, :]\n",
    "    \n",
    "    @property\n",
    "    def rsquared2(self):\n",
    "        x = self.f[\"rsquared2\"].value\n",
    "        return x[~np.isnan(x[:,2, 0]), :, :]\n",
    "\n",
    "    @property\n",
    "    def rsquared3(self):\n",
    "        x = self.f[\"rsquared3\"].value\n",
    "        return x[~np.isnan(x[:,3, 0]), :, :]\n",
    "    \n",
    "    @property\n",
    "    def rsquared4(self):\n",
    "        x = self.f[\"rsquared4\"].value\n",
    "        return x[~np.isnan(x[:,4, 0]), :, :]\n"
   ]
  },
  {
   "cell_type": "code",
   "execution_count": 78,
   "metadata": {
    "collapsed": true
   },
   "outputs": [],
   "source": [
    "d = Data(\"full-database.hdf5\")"
   ]
  },
  {
   "cell_type": "markdown",
   "metadata": {},
   "source": [
    "with open(\"phifull.csv\", \"w\") as f:\n",
    "    for i in range(100):\n",
    "        wildtype = d.sequences[i][0].astype(str)\n",
    "        mutant = d.sequences[i][1].astype(str) \n",
    "        vals = \",\".join([str(val) for val in d.phifull[i]])\n",
    "        f.write(\",\".join([wildtype,mutant,vals]) + \"\\n\")"
   ]
  },
  {
   "cell_type": "code",
   "execution_count": 79,
   "metadata": {},
   "outputs": [
    {
     "data": {
      "image/png": "[encoded data removed]",
      "text/plain": [
       "<matplotlib.figure.Figure at 0x7f23d4add940>"
      ]
     },
     "metadata": {},
     "output_type": "display_data"
    }
   ],
   "source": [
    "m = np.mean(d.phi0, axis=0)\n",
    "s = np.std(d.phi0, axis=0)\n",
    "for i in range(0,7):\n",
    "    plt.bar(i+1, m[i], yerr=s[i], color=\"C\"+str(i))"
   ]
  },
  {
   "cell_type": "code",
   "execution_count": 80,
   "metadata": {
    "collapsed": false
   },
   "outputs": [
    {
     "data": {
      "image/png": "[encoded data removed]",
      "text/plain": [
       "<matplotlib.figure.Figure at 0x7f23d47339b0>"
      ]
     },
     "metadata": {},
     "output_type": "display_data"
    }
   ],
   "source": [
    "m = np.mean(d.phi1, axis=0)\n",
    "s = np.std(d.phi1, axis=0)\n",
    "for i in range(0,7):\n",
    "    plt.bar(i+1, m[i], yerr=s[i], color=\"C\"+str(i))"
   ]
  },
  {
   "cell_type": "code",
   "execution_count": 81,
   "metadata": {
    "collapsed": false
   },
   "outputs": [
    {
     "data": {
      "image/png": "[encoded data removed]",
      "text/plain": [
       "<matplotlib.figure.Figure at 0x7f23d478ed68>"
      ]
     },
     "metadata": {},
     "output_type": "display_data"
    }
   ],
   "source": [
    "m = np.mean(d.phi2, axis=0)\n",
    "s = np.std(d.phi2, axis=0)\n",
    "for i in range(0,7):\n",
    "    plt.bar(i+1, m[i], yerr=s[i], color=\"C\"+str(i))"
   ]
  },
  {
   "cell_type": "code",
   "execution_count": 82,
   "metadata": {},
   "outputs": [
    {
     "data": {
      "image/png": "[encoded data removed]",
      "text/plain": [
       "<matplotlib.figure.Figure at 0x7f23d4940eb8>"
      ]
     },
     "metadata": {},
     "output_type": "display_data"
    }
   ],
   "source": [
    "m = np.mean(d.phi3, axis=0)\n",
    "s = np.std(d.phi3, axis=0)\n",
    "for i in range(0,7):\n",
    "    plt.bar(i+1, m[i], yerr=s[i], color=\"C\"+str(i))"
   ]
  },
  {
   "cell_type": "code",
   "execution_count": 83,
   "metadata": {},
   "outputs": [
    {
     "data": {
      "image/png": "[encoded data removed]",
      "text/plain": [
       "<matplotlib.figure.Figure at 0x7f23d44ddcc0>"
      ]
     },
     "metadata": {},
     "output_type": "display_data"
    }
   ],
   "source": [
    "m = np.mean(d.phi4, axis=0)\n",
    "s = np.std(d.phi4, axis=0)\n",
    "for i in range(0,7):\n",
    "    plt.bar(i+1, m[i], yerr=s[i], color=\"C\"+str(i))"
   ]
  },
  {
   "cell_type": "code",
   "execution_count": 84,
   "metadata": {},
   "outputs": [],
   "source": [
    "def stats(vals):\n",
    "    vals.sort(axis=0)\n",
    "    mean = np.mean(vals, axis=0)\n",
    "    lower = vals[15]\n",
    "    upper = vals[85]\n",
    "    return mean, mean - lower, upper - mean"
   ]
  },
  {
   "cell_type": "code",
   "execution_count": 90,
   "metadata": {},
   "outputs": [
    {
     "data": {
      "image/png": "[encoded data removed]",
      "text/plain": [
       "<matplotlib.figure.Figure at 0x7f23d4a79320>"
      ]
     },
     "metadata": {},
     "output_type": "display_data"
    }
   ],
   "source": [
    "fig, ax = plt.subplots(figsize=(3,2))\n",
    "for i in range(7):\n",
    "    m, lower, upper = stats(d.rsquared4[:, i, :])\n",
    "    ax.plot(range(1,8), m)\n",
    "\n",
    "ticks = ax.set_xticks(range(1,8))\n",
    "ticks = ax.set_yticks([0,.5,1])\n",
    "ax.spines[\"right\"].set_visible(False)\n",
    "ax.spines[\"top\"].set_visible(False)"
   ]
  }
 ],
 "metadata": {
  "kernelspec": {
   "display_name": "py3",
   "language": "python",
   "name": "py3"
  },
  "language_info": {
   "codemirror_mode": {
    "name": "ipython",
    "version": 3
   },
   "file_extension": ".py",
   "mimetype": "text/x-python",
   "name": "python",
   "nbconvert_exporter": "python",
   "pygments_lexer": "ipython3",
   "version": "3.5.0"
  }
 },
 "nbformat": 4,
 "nbformat_minor": 2
}
