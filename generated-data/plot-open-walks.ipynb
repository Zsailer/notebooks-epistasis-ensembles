{
 "cells": [
  {
   "cell_type": "markdown",
   "metadata": {},
   "source": [
    "# Imports and functions"
   ]
  },
  {
   "cell_type": "code",
   "execution_count": 1,
   "metadata": {
    "collapsed": true
   },
   "outputs": [],
   "source": [
    "%matplotlib inline\n",
    "import pickle\n",
    "import numpy as np\n",
    "import matplotlib.pyplot as plt\n",
    "from open_walk_analysis import *\n",
    "import warnings\n",
    "import time\n",
    "warnings.filterwarnings('ignore')"
   ]
  },
  {
   "cell_type": "markdown",
   "metadata": {},
   "source": [
    "# Load data"
   ]
  },
  {
   "cell_type": "code",
   "execution_count": 2,
   "metadata": {
    "collapsed": true
   },
   "outputs": [],
   "source": [
    "def overlap(p,q):\n",
    "    \"\"\"Calculates the difference in overlap.\"\"\"\n",
    "    return np.array(abs(p - q)).sum() / (p.sum() + q.sum())"
   ]
  },
  {
   "cell_type": "code",
   "execution_count": 29,
   "metadata": {
    "collapsed": true
   },
   "outputs": [],
   "source": [
    "def top_path(G, source): \n",
    "    # Find moves away from center\n",
    "    rings = ring_levels(G, source)\n",
    "    # Get further derived sequences\n",
    "    for i in range(7):\n",
    "        if len(rings[i]) != 0:\n",
    "            furthest = i \n",
    "    ends = rings[furthest] # only 6 moves away\n",
    "\n",
    "    # Build a dictionary of node flux to \n",
    "    options = dict([(end, G.node[end]['flux']) for end in ends])\n",
    "\n",
    "    sequences = np.array(list(options.keys()))\n",
    "    fluxes = np.array(list(options.values()))\n",
    "\n",
    "    # Find the highest flux sequence\n",
    "    most_probable_node = np.argmax(fluxes)\n",
    "    \n",
    "    max_seq = sequences[most_probable_node]\n",
    "\n",
    "    # Return that sequence\n",
    "    return (source, max_seq)"
   ]
  },
  {
   "cell_type": "code",
   "execution_count": 94,
   "metadata": {
    "collapsed": true
   },
   "outputs": [],
   "source": [
    "def epistasis_between_pair(pair, target, db=None):\n",
    "    \"\"\"Calculate the epistasis between two sequences\n",
    "    \n",
    "    Returns\n",
    "    -------\n",
    "    epistasis : list\n",
    "        magnitude of epistasis for each order. First element is the \n",
    "        additive terms, second is pairwise epistasis, so on...\n",
    "    order : dict\n",
    "        Keys are order of model used. Values are list of differences (theta) between \n",
    "        the known path probabilities and the simulated (using epistasis model) \n",
    "        at each mutational step away. \n",
    "    \"\"\"\n",
    "    # Prepare for GenotypePhenotypeMap\n",
    "    wildtype = pair[0]\n",
    "    length = len(wildtype)\n",
    "    mutations = binary_mutations_map(*pair)\n",
    "\n",
    "    # Determine the order of epistasis\n",
    "    changes = find_differences(*pair)\n",
    "    order = len(changes)\n",
    "\n",
    "    if db is None:\n",
    "        c = Conformations(length)\n",
    "    else:\n",
    "        c = ConformationList(length, db)\n",
    "        \n",
    "    # Construct a genotype-phenotype map\n",
    "    gpm = LatticeGenotypePhenotypeMap(wildtype, mutations=mutations, target_conf=target)\n",
    "    gpm.fold(Conformations=c)\n",
    "\n",
    "    # Fit a high-order epistasis model\n",
    "    model = EpistasisLinearRegression.from_gpm(gpm, order=order, model_type=\"local\")\n",
    "    model.fit()\n",
    "\n",
    "    # Calculate the average magnitude of epistasis\n",
    "    epistasis = []\n",
    "    for i in range(1,order+1):\n",
    "        z = model.epistasis.get_orders(i)\n",
    "        coefs_ = np.abs(z.values)\n",
    "        # Protect numerical errors\n",
    "        coefs_[coefs_ < 1e-9] = 0\n",
    "        # Calculate mean\n",
    "        mcoefs_ = np.mean(coefs_)\n",
    "        epistasis.append(mcoefs_)\n",
    "\n",
    "    # Model evolution in the map\n",
    "    gpm.phenotype_type = \"fracfolded\"\n",
    "    G = gpm.add_networkx()\n",
    "    G.add_evolutionary_model(fixation)\n",
    "\n",
    "    paths1 = enumerate_all_subpaths(G)\n",
    "\n",
    "    # Build a predicted genotype-phenotype map from epistasis\n",
    "    overlaps = {}\n",
    "    for i in range(1, 8):\n",
    "        # Get subset of epistasis\n",
    "        em = model.epistasis.get_orders(*range(i+1))\n",
    "\n",
    "        # Build map from epistatic coefs\n",
    "        sim = NonlinearSimulation.from_coefs(\n",
    "            wildtype, mutations, em.labels, em.values, \n",
    "            function=lambda x: 1 / (1 + np.exp(x)), \n",
    "            model_type=\"local\")\n",
    "\n",
    "        # Build a network\n",
    "        Gsim = sim.add_networkx()\n",
    "\n",
    "        # Model evolution in simulation\n",
    "        Gsim.add_evolutionary_model(fixation)\n",
    "        paths2 = enumerate_all_subpaths(Gsim)\n",
    "\n",
    "        overlaps[i] = overlap_for_subpaths(paths1, paths2)\n",
    "\n",
    "    return epistasis, overlaps"
   ]
  },
  {
   "cell_type": "code",
   "execution_count": 65,
   "metadata": {
    "collapsed": true
   },
   "outputs": [],
   "source": [
    "def enumerate_all_subpaths(G):\n",
    "    \"\"\"Enumerate all paths to all nodes in the network, G. Then, calculate their \n",
    "    flux.\n",
    "    \n",
    "    Parameter\n",
    "    ---------\n",
    "    G : networkx graph\n",
    "        Graph with wildtype labeled as 0, and each edge has a `fixation` key.\n",
    "    \n",
    "    Returns\n",
    "    -------\n",
    "    paths : dict of dicts\n",
    "        Keys are number of mutational steps, values are dictionaries that have the path\n",
    "        mapped to the path's probability (product of fixation probabilties).\n",
    "    \n",
    "    Example\n",
    "    -------\n",
    "    paths = {\n",
    "        1 : {(0,3): 0.6, (0,2): 0.4 ... }\n",
    "        2 : {(0,3,6) : 0.51, (0,2,7), ... }\n",
    "    }\n",
    "    \"\"\"        \n",
    "    source = 0\n",
    "    nodes = list(G.nodes())\n",
    "    nodes.remove(source)\n",
    "    \n",
    "    # Begin enumerate paths to all nodes\n",
    "    paths = dict([(i, {}) for i in range(1, 7)])\n",
    "    for target in nodes:\n",
    "        # enumerate all paths to a given target\n",
    "        pathways = list(nx.all_shortest_paths(G, source, target))\n",
    "        nmuts = len(pathways[0])-1\n",
    "        \n",
    "        # Get flux from all paths\n",
    "        probabilities = {}\n",
    "        for path in pathways:\n",
    "            path = tuple(path)\n",
    "\n",
    "            # Don't repeat any calcs, use old calc and \n",
    "            if nmuts > 1:\n",
    "                current_prob = paths[nmuts-1][path[:nmuts]]\n",
    "                new_move_prob = G.edge[path[-2]][path[-1]][\"fixation\"]\n",
    "\n",
    "                # Calculate the probability of this new step\n",
    "                pi = current_prob * new_move_prob\n",
    "                probabilities[path] = pi\n",
    "            else: \n",
    "                probabilities[path] = G.edge[path[-2]][path[-1]][\"fixation\"]\n",
    "            \n",
    "        # Add these paths/probs to paths dictionary.\n",
    "        paths[nmuts].update(probabilities)\n",
    "        \n",
    "    return paths\n",
    "\n",
    "\n",
    "def overlap_for_subpaths(paths1, paths2):\n",
    "    \"\"\"\"\"\"\n",
    "    overlaps = []\n",
    "    for nsteps in range(1, len(paths1)+1):\n",
    "        pathways1 = paths1[nsteps]\n",
    "        pathways2 = paths2[nsteps]\n",
    "        # Built a spectrum of probabilities\n",
    "        probs1 = np.array([pathways1[key] for key in pathways1.keys()])\n",
    "        probs2 = np.array([pathways2[key] for key in pathways2.keys()])\n",
    "        # Calculate overlap\n",
    "        theta = overlap(probs1, probs2)\n",
    "        overlaps.append(theta)\n",
    "    return overlaps"
   ]
  },
  {
   "cell_type": "code",
   "execution_count": 141,
   "metadata": {
    "scrolled": false
   },
   "outputs": [
    {
     "name": "stdout",
     "output_type": "stream",
     "text": [
      "8.867363929748535\n"
     ]
    }
   ],
   "source": [
    "dfluxes = dict([(i, np.ones(100)*np.nan) for i in range(7)])\n",
    "gpms = {}\n",
    "targets = {}\n",
    "dbs = {}\n",
    "folder = \"full-state-predictions\"\n",
    "#d=125\n",
    "\n",
    "start = time.time()\n",
    "\n",
    "# Iterate through many datasets\n",
    "for d in range(100, 110):\n",
    "    \n",
    "    with open(folder+\"/results/walks-actual\"+str(d)+\".pickle\", \"rb\") as f:\n",
    "        data = pickle.load(f)\n",
    "        edges0 = data[\"edges\"]\n",
    "        seq = data[\"seq\"]\n",
    "        target = data[\"target\"]\n",
    "        temp = data[\"temp\"]\n",
    "        db = data[\"db\"]\n",
    "\n",
    "    with open(folder+\"/results/walks-predicted2-\"+str(d)+\".pickle\", \"rb\") as f:\n",
    "        data = pickle.load(f)\n",
    "        edges2 = data[\"edges\"]   \n",
    "\n",
    "    edges0 = [e for e in edges0 if e[1][\"weight\"] > 1e-9]\n",
    "    edges2 = [e for e in edges2 if e[1][\"weight\"] > 1e-9]\n",
    "\n",
    "    # Formulate as networks\n",
    "    try:\n",
    "        G0, G2, Gdiff = build_graphs(edges0, edges2, seq)\n",
    "        rings = ring_levels(Gdiff, seq)\n",
    "\n",
    "        # Add to summary statistic\n",
    "        for ring, sequences in rings.items():\n",
    "\n",
    "            if  ring < 8:\n",
    "\n",
    "                diff, denom1, denom2 = 0, 0, 0\n",
    "                for i in sequences:\n",
    "\n",
    "                    # Add up total flux exchange, and the difference between two networks\n",
    "                    for j in Gdiff.neighbors(i):\n",
    "\n",
    "                        diff += Gdiff.edge[i][j][\"weight\"]\n",
    "                        try: denom1 += G0.edge[i][j][\"delta_flux\"]\n",
    "                        except: pass\n",
    "\n",
    "                        try: denom2 += G2.edge[i][j][\"delta_flux\"]\n",
    "                        except: pass\n",
    "\n",
    "                denom = denom1 + denom2\n",
    "                #print(d, ring, denom, diff, seq)\n",
    "                # Normalize the flux exchange at this hamming distance\n",
    "                if denom != 0:\n",
    "                    dfluxes[ring][d-100] = diff/denom\n",
    "                else:\n",
    "                    dfluxes[ring][d-100] = 0\n",
    "\n",
    "        gpms[d-100] = top_path(G0, seq)\n",
    "        targets[d-100] = target\n",
    "        dbs[d-100] = db\n",
    "    except: pass\n",
    "\n",
    "stop = time.time()\n",
    "print(stop - start)"
   ]
  },
  {
   "cell_type": "code",
   "execution_count": 139,
   "metadata": {},
   "outputs": [
    {
     "data": {
      "text/plain": [
       "[0, 8, -0.05, 1.05]"
      ]
     },
     "execution_count": 139,
     "metadata": {},
     "output_type": "execute_result"
    },
    {
     "data": {
      "image/png": "[encoded data removed]",
      "text/plain": [
       "<matplotlib.figure.Figure at 0x11bc507b8>"
      ]
     },
     "metadata": {},
     "output_type": "display_data"
    }
   ],
   "source": [
    "fig, ax = plt.subplots()\n",
    "means = []\n",
    "for key, val in dfluxes.items(): \n",
    "    #if key > 0:\n",
    "    y = np.array(val)\n",
    "    ymean = np.nanmean(y)\n",
    "    x = np.ones(len(y)) * (key+1)\n",
    "    xjitter = x + np.random.randn(len(x))* .1\n",
    "    ax.scatter(xjitter,y, marker=\"o\", color=\"gray\", alpha=1)\n",
    "    means.append(ymean)\n",
    "\n",
    "x = range(1, 8)\n",
    "y = means\n",
    "ax.plot(x,y)\n",
    "ax.set_xlabel(\"hamming distance\")\n",
    "ax.set_ylabel(\"$\\\\theta$\")\n",
    "ax.axis([0,8,-0.05,1.05])\n",
    "#fig.savefig(\"/Users/Zsailer/Dropbox/epistasis-paper/02_he-comes-from-ensembles/figures/open-walk-divergence.pdf\", format=\"pdf\")"
   ]
  },
  {
   "cell_type": "code",
   "execution_count": 140,
   "metadata": {
    "collapsed": true
   },
   "outputs": [],
   "source": [
    "from gpmap.utils import binary_mutations_map, find_differences\n",
    "from latticegpm import LatticeGenotypePhenotypeMap\n",
    "from latticeproteins.conformations import Conformations, ConformationList\n",
    "from epistasis.models import EpistasisLinearRegression\n",
    "from epistasis.simulate import NonlinearSimulation\n",
    "from gpmap.evolve.models import fixation\n",
    "from gpmap.graph.draw import network\n",
    "from gpmap.graph.paths import paths_and_probabilities"
   ]
  },
  {
   "cell_type": "code",
   "execution_count": 129,
   "metadata": {},
   "outputs": [],
   "source": [
    "magn_epistasis = np.ones((100, 6), dtype=float) * np.nan\n",
    "overlaps = dict([(i, []) for i in range(1, 8)])\n",
    "\n",
    "for key, pair in gpms.items():\n",
    "    epist, over = epistasis_between_pair(pair, targets[key])#, dbs[key][0:2])\n",
    "    magn_epistasis[key, :len(epist)] = epist\n",
    "\n",
    "    for order in over:\n",
    "        overlaps[order].append(over[order])   "
   ]
  },
  {
   "cell_type": "code",
   "execution_count": 130,
   "metadata": {},
   "outputs": [
    {
     "data": {
      "text/plain": [
       "{1: [], 2: [], 3: [], 4: [], 5: [], 6: [], 7: []}"
      ]
     },
     "execution_count": 130,
     "metadata": {},
     "output_type": "execute_result"
    }
   ],
   "source": [
    "overlaps"
   ]
  },
  {
   "cell_type": "code",
   "execution_count": 128,
   "metadata": {},
   "outputs": [
    {
     "ename": "TypeError",
     "evalue": "object of type 'numpy.float64' has no len()",
     "output_type": "error",
     "traceback": [
      "\u001b[0;31m---------------------------------------------------------------------------\u001b[0m",
      "\u001b[0;31mTypeError\u001b[0m                                 Traceback (most recent call last)",
      "\u001b[0;32m<ipython-input-128-a18b330a24fc>\u001b[0m in \u001b[0;36m<module>\u001b[0;34m()\u001b[0m\n\u001b[1;32m     17\u001b[0m     \u001b[0my\u001b[0m \u001b[0;34m=\u001b[0m \u001b[0mnp\u001b[0m\u001b[0;34m.\u001b[0m\u001b[0marray\u001b[0m\u001b[0;34m(\u001b[0m\u001b[0moverlaps\u001b[0m\u001b[0;34m[\u001b[0m\u001b[0mi\u001b[0m\u001b[0;34m]\u001b[0m\u001b[0;34m)\u001b[0m\u001b[0;34m\u001b[0m\u001b[0m\n\u001b[1;32m     18\u001b[0m     \u001b[0mymean\u001b[0m \u001b[0;34m=\u001b[0m \u001b[0mnp\u001b[0m\u001b[0;34m.\u001b[0m\u001b[0mnanmean\u001b[0m\u001b[0;34m(\u001b[0m\u001b[0my\u001b[0m\u001b[0;34m,\u001b[0m \u001b[0maxis\u001b[0m\u001b[0;34m=\u001b[0m\u001b[0;36m0\u001b[0m\u001b[0;34m)\u001b[0m\u001b[0;34m\u001b[0m\u001b[0m\n\u001b[0;32m---> 19\u001b[0;31m     \u001b[0mx\u001b[0m \u001b[0;34m=\u001b[0m \u001b[0mnp\u001b[0m\u001b[0;34m.\u001b[0m\u001b[0marange\u001b[0m\u001b[0;34m(\u001b[0m\u001b[0;36m1\u001b[0m\u001b[0;34m,\u001b[0m \u001b[0mlen\u001b[0m\u001b[0;34m(\u001b[0m\u001b[0mymean\u001b[0m\u001b[0;34m)\u001b[0m\u001b[0;34m+\u001b[0m\u001b[0;36m1\u001b[0m\u001b[0;34m)\u001b[0m\u001b[0;34m\u001b[0m\u001b[0m\n\u001b[0m\u001b[1;32m     20\u001b[0m     \u001b[0max\u001b[0m\u001b[0;34m.\u001b[0m\u001b[0mplot\u001b[0m\u001b[0;34m(\u001b[0m\u001b[0mx\u001b[0m\u001b[0;34m,\u001b[0m \u001b[0;36m1\u001b[0m \u001b[0;34m-\u001b[0m \u001b[0mymean\u001b[0m\u001b[0;34m,\u001b[0m \u001b[0mcolor\u001b[0m\u001b[0;34m=\u001b[0m\u001b[0;34m'C'\u001b[0m \u001b[0;34m+\u001b[0m \u001b[0mstr\u001b[0m\u001b[0;34m(\u001b[0m\u001b[0mi\u001b[0m\u001b[0;34m-\u001b[0m\u001b[0;36m1\u001b[0m\u001b[0;34m)\u001b[0m\u001b[0;34m,\u001b[0m \u001b[0mlinestyle\u001b[0m\u001b[0;34m=\u001b[0m\u001b[0;34m\"-\"\u001b[0m\u001b[0;34m,\u001b[0m \u001b[0mmarker\u001b[0m\u001b[0;34m=\u001b[0m\u001b[0;34m\"o\"\u001b[0m\u001b[0;34m,\u001b[0m \u001b[0malpha\u001b[0m\u001b[0;34m=\u001b[0m\u001b[0;36m1\u001b[0m\u001b[0;34m)\u001b[0m\u001b[0;34m\u001b[0m\u001b[0m\n\u001b[1;32m     21\u001b[0m \u001b[0;34m\u001b[0m\u001b[0m\n",
      "\u001b[0;31mTypeError\u001b[0m: object of type 'numpy.float64' has no len()"
     ]
    },
    {
     "data": {
      "image/png": "[encoded data removed]",
      "text/plain": [
       "<matplotlib.figure.Figure at 0x114f11f28>"
      ]
     },
     "metadata": {},
     "output_type": "display_data"
    },
    {
     "data": {
      "image/png": "[encoded data removed]",
      "text/plain": [
       "<matplotlib.figure.Figure at 0x115dd79b0>"
      ]
     },
     "metadata": {},
     "output_type": "display_data"
    }
   ],
   "source": [
    "fig, ax = plt.subplots()\n",
    "for i in range(len(magn_epistasis)):\n",
    "    y = magn_epistasis[i]\n",
    "    x = np.arange(1, len(y)+1) + np.random.randn(len(y))*.1 \n",
    "    ax.scatter(x, y, color='gray')\n",
    "\n",
    "meanx = np.arange(1, 7)\n",
    "meany = np.nanmean(magn_epistasis, axis=0)\n",
    "ax.plot(meanx, meany, 'ro')\n",
    "ax.set_yscale('log')\n",
    "ax.set_ylim(ymin=1e-5)\n",
    "ax.set_xlabel(\"order of epistasis\")\n",
    "ax.set_ylabel(\"magnitude\")\n",
    "\n",
    "fig, ax = plt.subplots()\n",
    "for i in range(1, len(overlaps)+1):\n",
    "    y = np.array(overlaps[i])\n",
    "    ymean = np.nanmean(y, axis=0)\n",
    "    x = np.arange(1, len(ymean)+1)\n",
    "    ax.plot(x, 1 - ymean, color='C' + str(i-1), linestyle=\"-\", marker=\"o\", alpha=1)\n",
    "\n",
    "ax.set_xlabel(\"steps\")\n",
    "ax.set_ylabel(\"1 - $\\\\theta$\")\n",
    "#fig.savefig(\"/Users/Zsailer/Dropbox/epistasis-paper/02_he-comes-from-ensembles/figures/magnitude_of_epistasis.pdf\", format=\"pdf\")"
   ]
  },
  {
   "cell_type": "code",
   "execution_count": 113,
   "metadata": {
    "scrolled": false
   },
   "outputs": [
    {
     "data": {
      "text/plain": [
       "<matplotlib.text.Text at 0x10ffb3f28>"
      ]
     },
     "execution_count": 113,
     "metadata": {},
     "output_type": "execute_result"
    },
    {
     "data": {
      "image/png": "[encoded data removed]",
      "text/plain": [
       "<matplotlib.figure.Figure at 0x11ebd4080>"
      ]
     },
     "metadata": {},
     "output_type": "display_data"
    },
    {
     "data": {
      "image/png": "[encoded data removed]",
      "text/plain": [
       "<matplotlib.figure.Figure at 0x119d24da0>"
      ]
     },
     "metadata": {},
     "output_type": "display_data"
    }
   ],
   "source": [
    "magn_epistasis = np.ones((100, 6), dtype=float) * np.nan\n",
    "overlaps = dict([(i, []) for i in range(1, 8)])\n",
    "\n",
    "for key, pair in gpms.items():\n",
    "    epist, over = epistasis_between_pair(pair, targets[key], dbs[key][0:2])\n",
    "    magn_epistasis[key, :len(epist)] = epist\n",
    "\n",
    "    for order in over:\n",
    "        overlaps[order].append(over[order])   \n",
    "\n",
    "fig, ax = plt.subplots()\n",
    "for i in range(len(magn_epistasis)):\n",
    "    y = magn_epistasis[i]\n",
    "    x = np.arange(1, len(y)+1) + np.random.randn(len(y))*.1 \n",
    "    ax.scatter(x, y, color='gray')\n",
    "\n",
    "meanx = np.arange(1, 7)\n",
    "meany = np.nanmean(magn_epistasis, axis=0)\n",
    "ax.plot(meanx, meany, 'ro')\n",
    "ax.set_yscale('log')\n",
    "ax.set_ylim(ymin=1e-3)\n",
    "ax.set_xlabel(\"order of epistasis\")\n",
    "ax.set_ylabel(\"magnitude\")\n",
    "\n",
    "fig, ax = plt.subplots()\n",
    "for i in range(1, len(overlaps)+1):\n",
    "    y = np.array(overlaps[i])\n",
    "    ymean = np.nanmean(y, axis=0)\n",
    "    x = np.arange(1, len(ymean)+1)\n",
    "    ax.plot(x, 1 - ymean, color='C' + str(i-1), linestyle=\"-\", marker=\"o\", alpha=1)\n",
    "\n",
    "ax.set_xlabel(\"steps\")\n",
    "ax.set_ylabel(\"$\\\\theta$\")\n",
    "#fig.savefig(\"/Users/Zsailer/Dropbox/epistasis-paper/02_he-comes-from-ensembles/figures/magnitude_of_epistasis.pdf\", format=\"pdf\")"
   ]
  }
 ],
 "metadata": {
  "kernelspec": {
   "display_name": "py3",
   "language": "python",
   "name": "py3"
  },
  "language_info": {
   "codemirror_mode": {
    "name": "ipython",
    "version": 3
   },
   "file_extension": ".py",
   "mimetype": "text/x-python",
   "name": "python",
   "nbconvert_exporter": "python",
   "pygments_lexer": "ipython3",
   "version": "3.5.2"
  }
 },
 "nbformat": 4,
 "nbformat_minor": 2
}
