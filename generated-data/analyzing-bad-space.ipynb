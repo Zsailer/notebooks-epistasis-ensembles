{
 "cells": [
  {
   "cell_type": "code",
   "execution_count": 1,
   "metadata": {},
   "outputs": [],
   "source": [
    "%matplotlib inline\n",
    "import matplotlib.pyplot as plt\n",
    "import numpy as np\n",
    "import pickle\n",
    "from matplotlib import rcParams\n",
    "from latticeproteins.sequences import hamming_distance\n",
    "\n",
    "rcParams['font.family'] = 'sans-serif'\n",
    "rcParams['font.sans-serif'] = ['Arial']"
   ]
  },
  {
   "cell_type": "markdown",
   "metadata": {},
   "source": [
    "# Failed creations"
   ]
  },
  {
   "cell_type": "code",
   "execution_count": 2,
   "metadata": {},
   "outputs": [],
   "source": [
    "import glob"
   ]
  },
  {
   "cell_type": "code",
   "execution_count": 3,
   "metadata": {},
   "outputs": [],
   "source": [
    "dataset = \"full-state-predictions\"\n",
    "path = \"%s/results\" % dataset\n",
    "worked = glob.glob(path + \"/networks-*\")"
   ]
  },
  {
   "cell_type": "code",
   "execution_count": 4,
   "metadata": {},
   "outputs": [
    {
     "name": "stdout",
     "output_type": "stream",
     "text": [
      "500\n"
     ]
    }
   ],
   "source": [
    "indices = [int(s.split(\"-\")[-1].split(\".\")[0]) for s in worked]\n",
    "print(len(indices))"
   ]
  },
  {
   "cell_type": "markdown",
   "metadata": {},
   "source": [
    "# Errant predictions"
   ]
  },
  {
   "cell_type": "markdown",
   "metadata": {},
   "source": [
    "## Full space "
   ]
  },
  {
   "cell_type": "code",
   "execution_count": 2,
   "metadata": {},
   "outputs": [],
   "source": [
    "import pickle"
   ]
  },
  {
   "cell_type": "code",
   "execution_count": 115,
   "metadata": {},
   "outputs": [],
   "source": [
    "dataset = \"full-state-predictions\"\n",
    "filepath = \"%s/results/statistics-output.pickle\" % dataset\n",
    "\n",
    "# Read file\n",
    "with open(filepath, \"rb\") as f:\n",
    "    dfluxes = pickle.load(f)\n",
    "    dfluxes.pop(7)"
   ]
  },
  {
   "cell_type": "code",
   "execution_count": 120,
   "metadata": {},
   "outputs": [
    {
     "data": {
      "image/png": "[encoded data removed]",
      "text/plain": [
       "<matplotlib.figure.Figure at 0x7fc485d6b588>"
      ]
     },
     "metadata": {},
     "output_type": "display_data"
    }
   ],
   "source": [
    "fig, ax = plt.subplots(figsize=(3,2))\n",
    "\n",
    "means = []\n",
    "for key, val in dfluxes.items():\n",
    "    y = np.ma.masked_invalid(val)\n",
    "    if 0 < key < 2:\n",
    "        keep = np.where(val > 1e-2)[0]\n",
    "    ymean = np.nanmean(y)\n",
    "    x = np.ones(len(y)) * (key+1)\n",
    "    xjitter = x + np.random.randn(len(x))* .1\n",
    "    ax.scatter(xjitter,y, marker=\"o\", color=\"gray\", alpha=1, s=10)\n",
    "    means.append(ymean)\n",
    "\n",
    "x = range(1, 8)\n",
    "y = means\n",
    "ax.plot(x,y, \"-or\")\n",
    "ax.set_xlabel(\"hamming distance\")\n",
    "ax.set_ylabel(\"$\\\\theta$\")\n",
    "ax.axis([0,8,-0.05,1.05])\n",
    "ax.spines[\"right\"].set_visible(False)\n",
    "ax.spines[\"top\"].set_visible(False)\n",
    "ax.spines[\"bottom\"].set_bounds(1, 7)\n",
    "ax.spines[\"left\"].set_bounds(0,1)\n",
    "ax.set_yticks([0,.5,1])\n",
    "l = ax.set_xticks(range(1,8))\n",
    "#fig.savefig(\"figures/two-state-open-predictions.pdf\", format=\"pdf\")"
   ]
  },
  {
   "cell_type": "code",
   "execution_count": 5,
   "metadata": {},
   "outputs": [],
   "source": [
    "with open(dataset + \"/results/binary-input.pickle\", \"rb\") as f:\n",
    "    info = pickle.load(f)\n",
    "    seqs = info[\"seq_pairs\"]\n",
    "    targets = info[\"targets\"]\n",
    "    dbs = info[\"dbs\"]"
   ]
  },
  {
   "cell_type": "code",
   "execution_count": 121,
   "metadata": {},
   "outputs": [
    {
     "data": {
      "text/plain": [
       "array([ 14,  41, 272, 290, 392, 446, 712, 749, 771, 807, 824, 912, 924])"
      ]
     },
     "execution_count": 121,
     "metadata": {},
     "output_type": "execute_result"
    }
   ],
   "source": [
    "keep\n"
   ]
  },
  {
   "cell_type": "code",
   "execution_count": 126,
   "metadata": {},
   "outputs": [],
   "source": [
    "import networkx as nx\n",
    "\n",
    "def flux_out_of_node(G, node_i):\n",
    "    \"\"\"Determine \"\"\"\n",
    "    # Get flux coming from source\n",
    "    total_flux_avail = G.node[node_i][\"flux\"]\n",
    "    edges = {}\n",
    "    # Normalize the transition probability from source\n",
    "    norm = sum([G.edge[node_i][node_j][\"weight\"] for node_j in G.neighbors(node_i)])\n",
    "    # Iterate over neighbors divvy up flux across neighbors\n",
    "    for node_j in G.neighbors(node_i):\n",
    "        if norm != 0:\n",
    "            fixation = G.edge[node_i][node_j][\"weight\"]\n",
    "            dflux = (fixation/norm) * total_flux_avail\n",
    "            G.edge[node_i][node_j][\"delta_flux\"] = dflux\n",
    "            G.node[node_j][\"flux\"] += dflux\n",
    "        else:\n",
    "            G.edge[node_i][node_j][\"delta_flux\"] = 0\n",
    "    return edges\n",
    "\n",
    "def flux_from_source(G, source):\n",
    "    # Reset the flux of each node\n",
    "    init_flux = dict([(node, 0) for node in G.nodes()])\n",
    "    nx.set_node_attributes(G, \"flux\", init_flux)\n",
    "    G.node[source][\"flux\"] = 1\n",
    "    # Add flux to each node.\n",
    "    levels = ring_levels(G, source)\n",
    "    for l in levels:\n",
    "        for node_i in levels[l]:\n",
    "            edges = flux_out_of_node(G, node_i)\n",
    "            for key, flux_to_add in edges.items():\n",
    "                node_i, node_j = key\n",
    "                G.node[node_j][\"flux\"] += flux_to_add\n",
    "    return G\n",
    "\n",
    "def ring_levels(G, root):\n",
    "    levels = dict([(i,[]) for i in range(20)])\n",
    "    levels[0].append(root)\n",
    "    for node in G.nodes():\n",
    "        neighbors = G.neighbors(node)\n",
    "        for neigh in neighbors:\n",
    "            key = hamming_distance(root, neigh)\n",
    "            levels[key].append(neigh)\n",
    "    for key, val in levels.items():\n",
    "        z = sorted(list(set(val)))\n",
    "        levels[key] = z\n",
    "    return levels\n",
    "\n",
    "def build_graphs(edges1, edges2, source):\n",
    "    \"\"\"Construct two different networks from a set of edges.\n",
    "    \"\"\"\n",
    "    # -----------------------------------------------\n",
    "    # build initial graphs\n",
    "    # -----------------------------------------------\n",
    "    edges0 = edges1\n",
    "    # Build Graph\n",
    "    G0 = nx.DiGraph()\n",
    "    for key, weight in edges0:\n",
    "        i,j = key[0], key[1]\n",
    "        G0.add_edge(i,j, weight=weight[\"weight\"])\n",
    "\n",
    "    # Build Graph\n",
    "    G2 = nx.DiGraph()\n",
    "    for key, weight in edges2:\n",
    "        i,j = key[0], key[1]\n",
    "        G2.add_edge(i,j, weight=weight[\"weight\"])\n",
    "\n",
    "    seq = source\n",
    "    # -----------------------------------------------\n",
    "    # Calculate the flux at each node and edge\n",
    "    # -----------------------------------------------\n",
    "    G0 = flux_from_source(G0, seq)\n",
    "    G2 = flux_from_source(G2, seq)\n",
    "\n",
    "    # Get a dictionary of change in fluxes along each edge.\n",
    "    edges_0 = dict([((i, j), G0.edge[i][j][\"delta_flux\"]) for i,j in G0.edges()])\n",
    "    edges_2 = dict([((i, j), G2.edge[i][j][\"delta_flux\"]) for i,j in G2.edges()])\n",
    "\n",
    "    # -----------------------------------------------\n",
    "    # Calculate the change in delta_flux on each edge\n",
    "    # -----------------------------------------------\n",
    "    edges_diff = {}\n",
    "    # See what edges we lost\n",
    "    for key, val in edges_0.items():\n",
    "        if key in edges_2:\n",
    "            weight = edges_2[key] - edges_0[key]\n",
    "            if weight < 0:\n",
    "                # This edge gained flux\n",
    "                color = \"r\"\n",
    "            else:\n",
    "                # This edge lost flux\n",
    "                color = \"b\"\n",
    "            edges_diff[key] = dict(color=color, weight=abs(weight))\n",
    "        else:\n",
    "            # This edge was lost in our predictions\n",
    "            edges_diff[key] = dict(weight=val, color=\"r\")\n",
    "\n",
    "    # See what edges we gained.\n",
    "    for key, val in edges_2.items():\n",
    "        if key in edges_0:\n",
    "            pass\n",
    "        else:\n",
    "            # This edge was gained in our predictions\n",
    "            edges_diff[key] = dict(weight=val, color=\"b\")\n",
    "\n",
    "    # -----------------------------------------------\n",
    "    # Calculate the change in flux at each node\n",
    "    # -----------------------------------------------\n",
    "    nodes_0 = dict([(i, G0.node[i][\"flux\"]) for i in G0.nodes()])\n",
    "    nodes_2 = dict([(i, G2.node[i][\"flux\"]) for i in G2.nodes()])\n",
    "\n",
    "    node_diff = {}\n",
    "    for key, val in nodes_0.items():\n",
    "        if key in nodes_2:\n",
    "            diff = nodes_2[key] - val\n",
    "            if diff > 0:\n",
    "                color = \"b\"\n",
    "            else:\n",
    "                color = \"r\"\n",
    "            node_diff[key] = dict(color=color, outer=nodes_2[key], inner=val)\n",
    "        else:\n",
    "            node_diff[key] = dict(color=\"r\", outer=nodes_0[key], inner=0)\n",
    "\n",
    "    for key, val in nodes_2.items():\n",
    "        if key in nodes_0:\n",
    "            pass\n",
    "        else:\n",
    "            node_diff[key] = dict(color=\"b\", outer=val, inner=0)\n",
    "\n",
    "    # -----------------------------------------------\n",
    "    # Construct a network of differences\n",
    "    # -----------------------------------------------\n",
    "    Gdiff = nx.DiGraph()\n",
    "    for key, val in edges_diff.items():\n",
    "        Gdiff.add_edge(key[0],key[1],**val)\n",
    "\n",
    "    for key, val in node_diff.items():\n",
    "        Gdiff.node[key].update(**val)\n",
    "\n",
    "    return G0, G2, Gdiff\n"
   ]
  },
  {
   "cell_type": "code",
   "execution_count": 127,
   "metadata": {},
   "outputs": [
    {
     "name": "stdout",
     "output_type": "stream",
     "text": [
      "0.0 2.0\n",
      "0.0 2.52837083058\n",
      "0.0282196361156 1.98783371233\n",
      "0.291718167111 1.99657571604\n",
      "0.857972308667 2.38806656654\n",
      "0.904529349766 1.4551513557\n",
      "0.984373833006 0.775109673953\n"
     ]
    }
   ],
   "source": [
    "d = 41\n",
    "\n",
    "# Read in actual dataset\n",
    "with open(dataset+\"/results/walks-actual-\"+str(d)+\".pickle\", \"rb\") as f:\n",
    "    data = pickle.load(f)\n",
    "    edges0 = data[\"edges\"]\n",
    "    seq = data[\"seq\"]\n",
    "    target = data[\"target\"]\n",
    "    temp = data[\"temp\"]\n",
    "    db = data[\"db\"]\n",
    "\n",
    "# Read in predicted dataset\n",
    "with open(dataset+\"/results/walks-predicted2-\"+str(d)+\".pickle\", \"rb\") as f:\n",
    "    data = pickle.load(f)\n",
    "    edges2 = data[\"edges\"]\n",
    "\n",
    "    \n",
    "# Quality control. Prevents numerical errors\n",
    "#edges0 = [e for e in edges0 if e[1][\"weight\"] > 1e-9]\n",
    "#edges2 = [e for e in edges2 if e[1][\"weight\"] > 1e-9]\n",
    "\n",
    "\n",
    "G0, G2, Gdiff = build_graphs(edges0, edges2, seq)\n",
    "\n",
    "junk = \"\"\"\n",
    "with open(dataset+\"/results/networks-\"+str(d)+\".pickle\", \"rb\") as f:\n",
    "    data = pickle.load(f)\n",
    "    G0 = data[\"Gactual\"]\n",
    "    G2 = data[\"Gpredict\"]\n",
    "    Gdiff = data[\"Gdiff\"]\n",
    "\"\"\"\n",
    "\n",
    "\n",
    "\n",
    "def output(G0, G2, Gdiff, seq):\n",
    "    rings = ring_levels(Gdiff, seq)\n",
    "\n",
    "    # Add to summary statistic\n",
    "    for ring, sequences in rings.items():\n",
    "\n",
    "        if  ring < 8:\n",
    "\n",
    "            diff, denom1, denom2 = 0, 0, 0\n",
    "            for i in sequences:\n",
    "\n",
    "                # Add up total flux exchange, and the difference between two networks\n",
    "                for j in Gdiff.neighbors(i):\n",
    "\n",
    "                    diff += Gdiff.edge[i][j][\"weight\"]\n",
    "\n",
    "                    try: \n",
    "                        denom1 += G0.edge[i][j][\"delta_flux\"]\n",
    "                        #print(denom1)\n",
    "                    except: pass\n",
    "\n",
    "                    try: \n",
    "                        denom2 += G2.edge[i][j][\"delta_flux\"]\n",
    "                        #print(denom2)\n",
    "                    except: pass\n",
    "\n",
    "                    #if 0< ring < 2:\n",
    "                     #   print(diff, denom1, denom2)\n",
    "\n",
    "            denom = denom1 + denom2\n",
    "\n",
    "            # Normalize the flux exchange at this hamming distance\n",
    "            if denom != 0:\n",
    "                print( diff/denom , denom)\n",
    "            #else:\n",
    "        #    print( 0 )\n",
    "output(G0, G2, Gdiff, seq)"
   ]
  },
  {
   "cell_type": "code",
   "execution_count": 39,
   "metadata": {},
   "outputs": [
    {
     "ename": "SyntaxError",
     "evalue": "invalid syntax (<ipython-input-39-eabdab7d8cfa>, line 2)",
     "output_type": "error",
     "traceback": [
      "\u001b[1;36m  File \u001b[1;32m\"<ipython-input-39-eabdab7d8cfa>\"\u001b[1;36m, line \u001b[1;32m2\u001b[0m\n\u001b[1;33m    0.0 2.0\u001b[0m\n\u001b[1;37m          ^\u001b[0m\n\u001b[1;31mSyntaxError\u001b[0m\u001b[1;31m:\u001b[0m invalid syntax\n"
     ]
    }
   ],
   "source": [
    "\n",
    "0.0 2.0\n",
    "0.0304691779739 2.25318802575\n",
    "0.176094273388 1.70330535142\n",
    "0.509636845369 1.26200845788\n",
    "0.909322295776 0.557422363517\n",
    "0.983244018676 0.414529119486\n",
    "0.99960136676 0.142300721369"
   ]
  },
  {
   "cell_type": "code",
   "execution_count": 90,
   "metadata": {},
   "outputs": [
    {
     "name": "stderr",
     "output_type": "stream",
     "text": [
      "/home/zsailer/virtual/py3/lib/python3.5/site-packages/sklearn/base.py:175: DeprecationWarning: inspect.getargspec() is deprecated, use inspect.signature() instead\n",
      "  args, varargs, kw, default = inspect.getargspec(init)\n"
     ]
    }
   ],
   "source": [
    "import numpy as np\n",
    "import networkx as nx\n",
    "import pickle\n",
    "\n",
    "from gpmap.utils import binary_mutations_map, find_differences\n",
    "from latticegpm import LatticeGenotypePhenotypeMap\n",
    "from latticeproteins.conformations import Conformations, ConformationList\n",
    "from epistasis.models import EpistasisLinearRegression\n",
    "from epistasis.simulate import NonlinearSimulation, LinearSimulation\n",
    "from gpmap.evolve.models import fixation\n",
    "from gpmap.graph.draw import network\n",
    "from gpmap.graph.paths import paths_and_probabilities\n",
    "\n",
    "dataset = \"full-state-predictions\"\n",
    "\n",
    "\n",
    "with open(dataset + \"/results/binary-input.pickle\", \"rb\") as f:\n",
    "    info = pickle.load(f)\n",
    "    seqs = info[\"seq_pairs\"]\n",
    "    targets = info[\"targets\"]\n",
    "    dbs = info[\"dbs\"]\n",
    "\n",
    "j = 9\n",
    "pair = seqs[j]\n",
    "target = targets[j]\n",
    "db = None #dbs[j][0:2]\n",
    "\n",
    "\n",
    "# Prepare for GenotypePhenotypeMap\n",
    "wildtype = pair[0]\n",
    "length = len(wildtype)\n",
    "mutations = binary_mutations_map(*pair)\n",
    "\n",
    "# Determine the order of epistasis\n",
    "changes = find_differences(*pair)\n",
    "order = len(changes)\n",
    "\n",
    "if db is None:\n",
    "    c = Conformations(length)\n",
    "else:\n",
    "    c = ConformationList(length, db)\n",
    "\n",
    "# Construct a genotype-phenotype map\n",
    "gpm = LatticeGenotypePhenotypeMap(wildtype, mutations=mutations, target_conf=target)\n",
    "gpm.fold(Conformations=c)\n",
    "\n",
    "# Fit a high-order epistasis model\n",
    "model = EpistasisLinearRegression.from_gpm(gpm, order=order, model_type=\"local\")\n",
    "model.fit()\n",
    "\n",
    "# Calculate the average magnitude of epistasis\n",
    "epistasis = []\n",
    "for i in range(1,order+1):\n",
    "    z = model.epistasis.get_orders(i)\n",
    "    coefs_ = np.abs(z.values)\n",
    "    # Protect numerical errors\n",
    "    coefs_[coefs_ < 1e-9] = 0\n",
    "    # Calculate mean\n",
    "    mcoefs_ = np.mean(coefs_)\n",
    "    epistasis.append(mcoefs_)\n",
    "\n",
    "\n",
    "# Build a predicted genotype-phenotype map from epistasis\n",
    "overlaps = {}\n",
    "i = 2\n",
    "\n",
    "# Get subset of epistasis\n",
    "em = model.epistasis.get_orders(*range(i+1))\n",
    "\n",
    "# Build map from epistatic coefs\n",
    "sim2 = LinearSimulation.from_coefs(\n",
    "    wildtype, mutations, em.labels, em.values,\n",
    "    #function=lambda x: 1 / (1 + np.exp(x)),\n",
    "    model_type=\"local\")\n",
    "\n",
    "# Build a network\n",
    "#Gsim = sim.add_networkx()\n",
    "\n",
    "# Model evolution in simulation\n",
    "#Gsim.add_evolutionary_model(fixation)\n",
    "#paths2 = enumerate_all_subpaths(Gsim)\n",
    "\n",
    "#overlaps[i] = overlap_for_subpaths(paths1, paths2)\n",
    "\n"
   ]
  },
  {
   "cell_type": "code",
   "execution_count": 87,
   "metadata": {},
   "outputs": [
    {
     "data": {
      "text/plain": [
       "[<matplotlib.lines.Line2D at 0x7fc485fd8668>]"
      ]
     },
     "execution_count": 87,
     "metadata": {},
     "output_type": "execute_result"
    },
    {
     "data": {
      "image/png": "[encoded data removed]",
      "text/plain": [
       "<matplotlib.figure.Figure at 0x7fc4860d9b00>"
      ]
     },
     "metadata": {},
     "output_type": "display_data"
    }
   ],
   "source": [
    "plt.plot(sim.phenotypes, gpm.phenotypes,'.')"
   ]
  },
  {
   "cell_type": "code",
   "execution_count": 92,
   "metadata": {},
   "outputs": [],
   "source": [
    "n_muts = []\n",
    "for i in range(gpm.n):\n",
    "    n_muts.append(hamming_distance(gpm.wildtype, gpm.genotypes[i]))"
   ]
  },
  {
   "cell_type": "code",
   "execution_count": 94,
   "metadata": {},
   "outputs": [],
   "source": [
    "with open(\"additive-predictions.csv\", \"w\") as f:\n",
    "    f.write(\"genotypes,n_muts,actuals,first-order,second-order\\n\")\n",
    "    for i in range(sim.n):\n",
    "        f.write(\"{:},{:},{:},{:},{:}\\n\".format(gpm.genotypes[i], n_muts[i], gpm.phenotypes[i], sim1.phenotypes[i], sim2.phenotypes[i]))"
   ]
  },
  {
   "cell_type": "code",
   "execution_count": 131,
   "metadata": {},
   "outputs": [
    {
     "data": {
      "text/plain": [
       "['test']"
      ]
     },
     "execution_count": 131,
     "metadata": {},
     "output_type": "execute_result"
    }
   ],
   "source": [
    "list(set([\"test\"]))\n"
   ]
  },
  {
   "cell_type": "code",
   "execution_count": null,
   "metadata": {},
   "outputs": [],
   "source": []
  }
 ],
 "metadata": {
  "kernelspec": {
   "display_name": "py3",
   "language": "python",
   "name": "py3"
  },
  "language_info": {
   "codemirror_mode": {
    "name": "ipython",
    "version": 3
   },
   "file_extension": ".py",
   "mimetype": "text/x-python",
   "name": "python",
   "nbconvert_exporter": "python",
   "pygments_lexer": "ipython3",
   "version": "3.5.0"
  }
 },
 "nbformat": 4,
 "nbformat_minor": 2
}
