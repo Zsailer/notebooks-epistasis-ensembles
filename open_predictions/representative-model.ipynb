{
 "cells": [
  {
   "cell_type": "code",
   "execution_count": 1,
   "metadata": {
    "collapsed": true
   },
   "outputs": [],
   "source": [
    "%matplotlib inline\n",
    "import matplotlib.pyplot as plt\n",
    "\n",
    "import numpy as np\n",
    "import itertools as it\n",
    "\n",
    "from latticeproteins.thermodynamics import LatticeThermodynamics\n",
    "from latticeproteins.interactions import miyazawa_jernigan\n",
    "from latticeproteins.conformations import Conformations, ConformationList\n",
    "from latticeproteins.sequences import find_differences, _residues"
   ]
  },
  {
   "cell_type": "code",
   "execution_count": 2,
   "metadata": {
    "collapsed": true
   },
   "outputs": [],
   "source": [
    "class PredictedLattice(object):\n",
    "    \"\"\"Lattice model predictor using epistasis.\"\"\"\n",
    "    def __init__(self, wildtype, temp, confs, target=None):\n",
    "        self.wildtype = wildtype\n",
    "        self.temp = temp\n",
    "        self.conformations = confs\n",
    "        self.target = target\n",
    "        self._lattice = LatticeThermodynamics(self.temp, self.conformations)\n",
    "\n",
    "        combos = []\n",
    "        sites = list(range(self.conformations.length()))\n",
    "        self.dG0 = round(self._lattice.stability(self.wildtype, target=self.target), 9)\n",
    "\n",
    "        # Calculate first order coefs\n",
    "        self.dGs = {}\n",
    "        for i in sites:\n",
    "            other_sites = sites[:]\n",
    "            other_sites.remove(i)\n",
    "            for aa in _residues:\n",
    "                combos.append((i, aa))\n",
    "\n",
    "        for c in combos:\n",
    "            seq = list(self.wildtype[:])\n",
    "            seq[c[0]] = c[1]\n",
    "            # Calculate dG as dG_wt -\n",
    "            self.dGs[c] = round(self._lattice.stability(seq, target=self.target), 9) - self.dG0\n",
    "\n",
    "        # Calculate second order coefs\n",
    "        combos = []\n",
    "        sites = list(range(self.conformations.length()))\n",
    "        for i in sites:\n",
    "            other_sites = sites[:]\n",
    "            other_sites.remove(i)\n",
    "            for aa in _residues:\n",
    "                for j in other_sites:\n",
    "                    for aa2 in _residues:\n",
    "                        combos.append((i,aa,j,aa2))\n",
    "\n",
    "        for c in combos:\n",
    "            seq = list(self.wildtype[:])\n",
    "            seq[c[0]] = c[1]\n",
    "            seq[c[2]] = c[3]\n",
    "            # Calculate dG2\n",
    "            self.dGs[c] = round(self._lattice.stability(seq, target=self.target), 9) - (self.dG0 + self.dGs[(c[0],c[1])]+ self.dGs[(c[2],c[3])])\n",
    "\n",
    "    def stability(self, seq, target=None):\n",
    "        # Get additive coefs to build predictions\n",
    "        if target != self.target:\n",
    "            raise Exception(\"Target does not match wildtype target.\")\n",
    "        loci = find_differences(self.wildtype, seq)\n",
    "        add = [(pair[0], seq[pair[0]]) for pair in it.combinations(loci, 1)]\n",
    "        pairs = [(pair[0], seq[pair[0]], pair[1], seq[pair[1]]) for pair in it.combinations(loci, 2)]\n",
    "        dgs = add + pairs\n",
    "        stability = float(self.dG0)\n",
    "        for coef in dgs:\n",
    "            stability += self.dGs[coef]\n",
    "        return stability\n",
    "\n",
    "\n",
    "def kmin2d(arr, k):\n",
    "    \"\"\"Return the indices of the n largest arguments in the 2d array.\"\"\"\n",
    "    n, m = arr.shape\n",
    "    vec = arr.flatten()\n",
    "    vec_ = vec.argsort()\n",
    "    top_vec = vec_[:k]\n",
    "    top_n = top_vec // n\n",
    "    top_m = top_vec % n\n",
    "    return top_n, top_m"
   ]
  },
  {
   "cell_type": "code",
   "execution_count": 3,
   "metadata": {
    "collapsed": true
   },
   "outputs": [],
   "source": [
    "def fracfolded(dG,temp):\n",
    "    return 1.0 / (1.0 + np.exp(dG / temp))\n",
    "\n",
    "def walk(seq, lattice, n_top_mutations=3, target=None):\n",
    "    \"\"\"\"\"\"\n",
    "    # We create a matrix of possible mutations. Each row is site in the protein\n",
    "    # and each column is one of the 20 possible amino acids. We calculate the\n",
    "    # stability of each mutation in this matrix and choose the n_top_mutations.\n",
    "    # Each of these new mutations become the new starting genotypes for the next\n",
    "    # move. We repeat this process until all paths reach a dG max.\n",
    "    \n",
    "    dG0 = round(lattice.stability(seq, target=target), 9)\n",
    "    ff = fracfolded(dG0, 1)\n",
    "    unfinished_paths = [[seq]]\n",
    "    unfinished_stabilities = [[dG0]]\n",
    "    finished_paths = []\n",
    "    finished_stabilities = []\n",
    "    m = 0\n",
    "    while len(unfinished_paths) != 0:\n",
    "        finished = True\n",
    "        updated_unfinished_paths = []\n",
    "        updated_unfinished_stabilities = []\n",
    "        updated_finished_paths = []\n",
    "        updated_finished_stabilities = []\n",
    "        # Iterate through paths\n",
    "        for l, path in enumerate(unfinished_paths):\n",
    "            # construct new trajectories\n",
    "            path_stabilities = unfinished_stabilities[l]\n",
    "            # We're grow our set of paths by n_top_mutations.\n",
    "            new_paths = path * n_top_mutations\n",
    "            mutant = list(path[-1])\n",
    "            current_dG = path_stabilities[-1]\n",
    "\n",
    "            # Construct grid of all stabilities of all amino acids at all sites\n",
    "            AA_grid = np.array([_residues]*length)\n",
    "            dG = np.zeros(AA_grid.shape, dtype=float)\n",
    "            for (i,j), AA in np.ndenumerate(AA_grid):\n",
    "                seq1 = mutant[:]\n",
    "                seq1[i] = AA_grid[i,j]\n",
    "                dG[i,j] = lattice.stability(seq1, target=target)\n",
    "\n",
    "            dG = dG.round(decimals=9)\n",
    "            # Find the top moves in the stability grid\n",
    "            x, y = kmin2d(dG, n_top_mutations)\n",
    "\n",
    "            # construct moves from top moves\n",
    "            #new_paths = [path[:] for q in range(n_top_mutations)]\n",
    "            #new_dGs = [path_stabilities[:] for q in range(n_top_mutations)]\n",
    "            for k in range(n_top_mutations):\n",
    "                # Check that the new moves are better than the current position\n",
    "                newdG = dG[y[k], x[k]]\n",
    "                if newdG < current_dG:\n",
    "                    finished = False\n",
    "                    new_move = mutant[:]\n",
    "                    new_move[y[k]] = AA_grid[y[k], x[k]]\n",
    "                    new_move = \"\".join(new_move)\n",
    "                    # Add paths\n",
    "                    updated_unfinished_paths.append(path + [new_move])\n",
    "                    updated_unfinished_stabilities.append(path_stabilities + [newdG])\n",
    "                # If there is no stability change, stay at the current position\n",
    "                else:\n",
    "                    finished_paths.append(path)\n",
    "                    finished_stabilities.append(path_stabilities)\n",
    "        m += 1\n",
    "        unfinished_paths = updated_unfinished_paths\n",
    "        unfinished_stabilities = updated_unfinished_stabilities\n",
    "        print(m, len(unfinished_paths))\n",
    "\n",
    "        \n",
    "    return finished_paths, finished_stabilities"
   ]
  },
  {
   "cell_type": "code",
   "execution_count": 4,
   "metadata": {
    "collapsed": true
   },
   "outputs": [],
   "source": [
    "from latticeproteins.sequences import random_sequence"
   ]
  },
  {
   "cell_type": "code",
   "execution_count": 5,
   "metadata": {
    "collapsed": true
   },
   "outputs": [],
   "source": [
    "seq1 = \"DKCQCNWCRKFTDQR\"\n",
    "temp = 1 \n",
    "length = len(seq1)\n",
    "target = \"UUURDRURDDLLDR\"\n",
    "# Build the conformation database\n",
    "confs = Conformations(length, \"database\")"
   ]
  },
  {
   "cell_type": "code",
   "execution_count": 6,
   "metadata": {
    "collapsed": true
   },
   "outputs": [],
   "source": [
    "# Create a lattice protein calculator with given temperature and conf database.\n",
    "lattice = LatticeThermodynamics(temp, confs)\n",
    "lattice_p = PredictedLattice(seq1, temp, confs, target=target)"
   ]
  },
  {
   "cell_type": "code",
   "execution_count": 19,
   "metadata": {
    "collapsed": true
   },
   "outputs": [
    {
     "name": "stdout",
     "output_type": "stream",
     "text": [
      "1 3\n",
      "2 10\n",
      "3 24\n",
      "4 50\n",
      "5 91\n",
      "6 132\n",
      "7 162\n",
      "8 177\n",
      "9 120\n",
      "10 40\n",
      "11 26\n",
      "12 0\n"
     ]
    }
   ],
   "source": [
    "n_top_mutations = 9\n",
    "#seq1 = \"TGKGIHSICNQLMEL\" #\"\".join(random_sequence(15))\n",
    "a, stabsa = walk(seq1, lattice, n_top_mutations=n_top_mutations, target=target)\n",
    "#p, stabsp = walk(seq1, lattice_p, n_top_mutations=n_top_mutations, target=target)"
   ]
  },
  {
   "cell_type": "code",
   "execution_count": 18,
   "metadata": {},
   "outputs": [
    {
     "name": "stdout",
     "output_type": "stream",
     "text": [
      "1 3\n",
      "2 10\n",
      "3 30\n",
      "4 78\n",
      "5 147\n",
      "6 175\n",
      "7 146\n",
      "8 101\n",
      "9 62\n",
      "10 33\n",
      "11 0\n"
     ]
    }
   ],
   "source": [
    "n_top_mutations = 9\n",
    "p, stabsp = walk(seq1, lattice_p, n_top_mutations=n_top_mutations, target=target)"
   ]
  },
  {
   "cell_type": "code",
   "execution_count": 20,
   "metadata": {
    "collapsed": true
   },
   "outputs": [],
   "source": [
    "import networkx as nx"
   ]
  },
  {
   "cell_type": "markdown",
   "metadata": {},
   "source": [
    "# Construct networks\n"
   ]
  },
  {
   "cell_type": "code",
   "execution_count": 65,
   "metadata": {
    "collapsed": true
   },
   "outputs": [],
   "source": [
    "Ga = nx.DiGraph()\n",
    "paths = np.unique(np.array(a))\n",
    "for path in paths:\n",
    "    for i, source in enumerate(path[:-1]):\n",
    "        target_s = path[i+1]\n",
    "        Ga.add_edge(source,target_s)\n",
    "        \n",
    "Gp = nx.DiGraph()\n",
    "paths = np.unique(np.array(p))\n",
    "for path in paths:\n",
    "    for i, source in enumerate(path[:-1]):\n",
    "        target_s = path[i+1]\n",
    "        Gp.add_edge(source,target_s)\n",
    "        "
   ]
  },
  {
   "cell_type": "code",
   "execution_count": 69,
   "metadata": {
    "collapsed": true
   },
   "outputs": [],
   "source": [
    "# Find all shared nodes.\n",
    "anodes = set(Ga.nodes())\n",
    "pnodes = set(Gp.nodes())\n",
    "shared_nodes = anodes.intersection(pnodes)\n",
    "\n",
    "# Finde shared edges.\n",
    "aedges = set(Ga.edges())\n",
    "pedges = set(Gp.edges())\n",
    "shared_edges = aedges.intersection(pedges)\n",
    "\n",
    "        \n",
    "# ------------------------------------------\n",
    "# Set shared edges\n",
    "# ------------------------------------------\n",
    "for s, t in Ga.edges():\n",
    "    if (s,t) in shared_edges:\n",
    "        Ga.edge[s][t][\"shared\"] = 1\n",
    "    else:\n",
    "        Ga.edge[s][t][\"shared\"] = 0\n",
    "\n",
    "for s, t in Gp.edges():\n",
    "    if (s,t) in shared_edges:\n",
    "        Gp.edge[s][t][\"shared\"] = 1\n",
    "    else:\n",
    "        Gp.edge[s][t][\"shared\"] = 0\n",
    "        \n",
    "        \n",
    "# ------------------------------------------\n",
    "# Set shared nodes and their phenotype\n",
    "# ------------------------------------------\n",
    "for n in Ga.nodes():\n",
    "    if n in shared_nodes:\n",
    "        Ga.node[n][\"shared\"] = 1\n",
    "    else:\n",
    "        Ga.node[n][\"shared\"] = 0\n",
    "    # Calculate dG\n",
    "    Ga.node[n][\"dG\"] = lattice.stability(n, target=target) \n",
    "        \n",
    "for n in Gp.nodes():\n",
    "    if n in shared_nodes:\n",
    "        Gp.node[n][\"shared\"] = 1\n",
    "    else:\n",
    "        Gp.node[n][\"shared\"] = 0\n",
    "    Gp.node[n][\"dG\"] = lattice_p.stability(n, target=target) \n"
   ]
  },
  {
   "cell_type": "code",
   "execution_count": 70,
   "metadata": {
    "collapsed": true
   },
   "outputs": [],
   "source": [
    "nx.write_gml(Gp, \"/Users/Zsailer/Desktop/predicted.gml\")\n",
    "nx.write_gml(Ga, \"/Users/Zsailer/Desktop/actual.gml\")"
   ]
  }
 ],
 "metadata": {
  "kernelspec": {
   "display_name": "Python 3",
   "language": "python",
   "name": "python3"
  },
  "language_info": {
   "codemirror_mode": {
    "name": "ipython",
    "version": 3
   },
   "file_extension": ".py",
   "mimetype": "text/x-python",
   "name": "python",
   "nbconvert_exporter": "python",
   "pygments_lexer": "ipython3",
   "version": "3.5.2"
  }
 },
 "nbformat": 4,
 "nbformat_minor": 2
}
