{
 "cells": [
  {
   "cell_type": "code",
   "execution_count": 1,
   "metadata": {
    "collapsed": true
   },
   "outputs": [],
   "source": [
    "%matplotlib inline\n",
    "import matplotlib.pyplot as plt\n",
    "import numpy as np\n",
    "import pickle\n",
    "\n",
    "from gpmap.utils import hamming_distance\n",
    "from collections import Counter\n",
    "import networkx as nx\n",
    "from networkx.readwrite import json_graph"
   ]
  },
  {
   "cell_type": "code",
   "execution_count": 4,
   "metadata": {},
   "outputs": [
    {
     "name": "stdout",
     "output_type": "stream",
     "text": [
      "['VWPEAFCMEARNMMW' 'VWPEAFCMYARNMMW' 'VWPEEFCMEARNMMW' 'VWPEEFCMYARNMMW'\n",
      " 'VWPPAFCMEARNMMW' 'VWPPEFCMEARNMMW' 'VWPPEFCMYARNMMW'] ['VWPEAFCMEARNMMW' 'VWPEAFCMYARNMMW' 'VWPEEFCMEARNMMW' 'VWPEEFCMYARNMMW'\n",
      " 'VWPPAFCMEARNMMW' 'VWPPEFCMEARNMMW' 'VWPPEFCMYARNMMW']\n"
     ]
    }
   ],
   "source": [
    "with open(\"full-predictions/results/actual-walks-7-2.pickle\", \"rb\") as f:\n",
    "    a = pickle.load(f)\n",
    "    a = a[0] \n",
    "    \n",
    "# Annoying first sequence\n",
    "for i in range(len(a)):\n",
    "    for j in range(len(a[i])):\n",
    "        a[i][j] = \"\".join(a[i][j])\n",
    "\n",
    "a = np.array(a)\n",
    "\n",
    "with open(\"full-predictions/results/predicted-walks-7-2.pickle\", \"rb\") as f:\n",
    "    p = pickle.load(f)\n",
    "    p = p[0]\n",
    "    \n",
    "# Annoying first sequence\n",
    "for i in range(len(p)):\n",
    "    for j in range(len(p[i])):\n",
    "        p[i][j] = \"\".join(p[i][j])\n",
    "        \n",
    "p = np.array(p)\n",
    "print(np.unique(a[:,7]), np.unique(p[:,7]))"
   ]
  },
  {
   "cell_type": "code",
   "execution_count": 5,
   "metadata": {},
   "outputs": [],
   "source": [
    "for val in np.unique(p[:,7]):\n",
    "    hd = []\n",
    "    for val2 in np.unique(a[:,7]):\n",
    "        hd.append(hamming_distance(val, val2))\n",
    "    #print(min(hd))\n",
    "\n",
    "#print(\"\\n\")\n",
    "for val in np.unique(a[:,7]):\n",
    "    hd = []\n",
    "    for val2 in np.unique(p[:,7]):\n",
    "        hd.append(hamming_distance(val, val2))\n",
    "    #print(min(hd))"
   ]
  },
  {
   "cell_type": "code",
   "execution_count": 6,
   "metadata": {
    "collapsed": true
   },
   "outputs": [],
   "source": [
    "pos_hamming = np.empty((len(a[:,]), 8), dtype=int)\n",
    "for mut in range(8):\n",
    "    for i, seq1 in enumerate(p[:,mut]):\n",
    "        index = 3 ** 7 / 3 ** mut\n",
    "        subslice = index * np.arange(3**mut)\n",
    "        subslice = subslice.astype(int)\n",
    "        hd = np.empty(len(subslice), dtype=int)\n",
    "        for j, seq2 in enumerate(a[subslice,mut]):\n",
    "            hd[j] = hamming_distance(seq1, seq2)\n",
    "        pos_hamming[i, mut] = min(hd)"
   ]
  },
  {
   "cell_type": "code",
   "execution_count": 9,
   "metadata": {
    "collapsed": true
   },
   "outputs": [],
   "source": [
    "neg_hamming = np.empty((len(a[:,]), 8), dtype=int)\n",
    "for mut in range(8):\n",
    "    for i, seq1 in enumerate(a[:,mut]):\n",
    "        index = 3 ** 7 / 3 ** mut\n",
    "        subslice = index * np.arange(3**mut)\n",
    "        subslice = subslice.astype(int)\n",
    "        hd = np.empty(len(subslice), dtype=int)\n",
    "        for j, seq2 in enumerate(p[subslice,mut]):\n",
    "            hd[j] = hamming_distance(seq1, seq2)\n",
    "            if hd[j] < 0:\n",
    "                print(hd[j], seq1, seq2)\n",
    "        neg_hamming[i, mut] = min(hd)"
   ]
  },
  {
   "cell_type": "code",
   "execution_count": 10,
   "metadata": {},
   "outputs": [
    {
     "data": {
      "text/plain": [
       "(array([  48.,  388.,  523.,  732.,  435.,   61.,    0.]),\n",
       " array([ 0.,  1.,  2.,  3.,  4.,  5.,  6.,  7.]),\n",
       " <a list of 7 Patch objects>)"
      ]
     },
     "execution_count": 10,
     "metadata": {},
     "output_type": "execute_result"
    },
    {
     "data": {
      "image/png": "[encoded data removed]",
      "text/plain": [
       "<matplotlib.figure.Figure at 0x1099e7860>"
      ]
     },
     "metadata": {},
     "output_type": "display_data"
    }
   ],
   "source": [
    "plt.hist(pos_hamming[:,7], bins=7, range=(0,7))"
   ]
  },
  {
   "cell_type": "code",
   "execution_count": 11,
   "metadata": {},
   "outputs": [
    {
     "data": {
      "text/plain": [
       "(array([  61.,  175.,  410.,  703.,  638.,  196.,    4.]),\n",
       " array([ 0.,  1.,  2.,  3.,  4.,  5.,  6.,  7.]),\n",
       " <a list of 7 Patch objects>)"
      ]
     },
     "execution_count": 11,
     "metadata": {},
     "output_type": "execute_result"
    },
    {
     "data": {
      "image/png": "[encoded data removed]",
      "text/plain": [
       "<matplotlib.figure.Figure at 0x109983eb8>"
      ]
     },
     "metadata": {},
     "output_type": "display_data"
    }
   ],
   "source": [
    "plt.hist(neg_hamming[:,7], bins=7, range=(0,7))"
   ]
  },
  {
   "cell_type": "code",
   "execution_count": 13,
   "metadata": {},
   "outputs": [
    {
     "name": "stdout",
     "output_type": "stream",
     "text": [
      "Counter({(0, 0): 2187})\n",
      "Counter({(0, 0): 2187})\n",
      "Counter({(0, 1): 972, (0, 0): 810, (0, 2): 405})\n",
      "Counter({(1, 2): 702, (0, 0): 405, (2, 2): 216, (0, 2): 216, (0, 1): 189, (1, 1): 189, (2, 3): 135, (1, 3): 81, (2, 1): 54})\n",
      "Counter({(2, 3): 540, (2, 2): 468, (1, 2): 261, (0, 0): 189, (0, 1): 171, (3, 3): 162, (1, 1): 153, (2, 1): 108, (3, 2): 45, (0, 2): 45, (2, 4): 18, (1, 0): 18, (3, 4): 9})\n",
      "Counter({(2, 2): 402, (3, 3): 396, (2, 3): 360, (3, 4): 288, (1, 1): 258, (1, 2): 165, (0, 1): 111, (0, 0): 90, (2, 1): 54, (4, 3): 27, (3, 2): 18, (1, 0): 9, (0, 2): 6, (2, 4): 3})\n",
      "Counter({(3, 3): 466, (2, 2): 328, (1, 1): 296, (3, 4): 245, (2, 3): 225, (4, 4): 189, (1, 2): 124, (3, 2): 71, (4, 5): 61, (0, 1): 54, (0, 0): 45, (4, 3): 41, (2, 1): 37, (1, 0): 3, (3, 1): 1, (2, 4): 1})\n"
     ]
    }
   ],
   "source": [
    "G = nx.DiGraph()\n",
    "mutations = range(0,7)\n",
    "for n in mutations:\n",
    "    edges = Counter(zip(pos_hamming[:,n], pos_hamming[:,n+1]))\n",
    "    for key, val in edges.items():\n",
    "        G.add_edge((n, key[0]), (n+1, key[1]), value=val)\n",
    "    print(edges)"
   ]
  },
  {
   "cell_type": "code",
   "execution_count": 14,
   "metadata": {
    "collapsed": true
   },
   "outputs": [],
   "source": [
    "def make_json(hamming):\n",
    "    G = nx.DiGraph()\n",
    "    mutations = range(0,7)\n",
    "    for n in mutations:\n",
    "        edges = Counter(zip(hamming[:,n], hamming[:,n+1]))\n",
    "        for key, val in edges.items():\n",
    "            G.add_edge((n, key[0]), (n+1, key[1]), value=val)\n",
    "    return json_graph.node_link_data(G)"
   ]
  },
  {
   "cell_type": "code",
   "execution_count": 15,
   "metadata": {},
   "outputs": [
    {
     "data": {
      "text/plain": [
       "{'directed': True,\n",
       " 'graph': {},\n",
       " 'links': [{'source': 0, 'target': 15, 'value': 189},\n",
       "  {'source': 0, 'target': 6, 'value': 41},\n",
       "  {'source': 0, 'target': 22, 'value': 61},\n",
       "  {'source': 1, 'target': 10, 'value': 216},\n",
       "  {'source': 1, 'target': 17, 'value': 54},\n",
       "  {'source': 1, 'target': 3, 'value': 135},\n",
       "  {'source': 2, 'target': 12, 'value': 2187},\n",
       "  {'source': 3, 'target': 7, 'value': 9},\n",
       "  {'source': 3, 'target': 25, 'value': 45},\n",
       "  {'source': 3, 'target': 14, 'value': 162},\n",
       "  {'source': 5, 'target': 10, 'value': 216},\n",
       "  {'source': 5, 'target': 17, 'value': 189},\n",
       "  {'source': 5, 'target': 24, 'value': 405},\n",
       "  {'source': 7, 'target': 20, 'value': 27},\n",
       "  {'source': 8, 'target': 16, 'value': 45},\n",
       "  {'source': 8, 'target': 4, 'value': 54},\n",
       "  {'source': 9, 'target': 15, 'value': 1},\n",
       "  {'source': 9, 'target': 6, 'value': 225},\n",
       "  {'source': 9, 'target': 13, 'value': 328},\n",
       "  {'source': 9, 'target': 4, 'value': 37},\n",
       "  {'source': 10, 'target': 11, 'value': 108},\n",
       "  {'source': 10, 'target': 7, 'value': 18},\n",
       "  {'source': 10, 'target': 25, 'value': 468},\n",
       "  {'source': 10, 'target': 14, 'value': 540},\n",
       "  {'source': 11, 'target': 18, 'value': 258},\n",
       "  {'source': 11, 'target': 9, 'value': 165},\n",
       "  {'source': 11, 'target': 8, 'value': 9},\n",
       "  {'source': 12, 'target': 21, 'value': 2187},\n",
       "  {'source': 14, 'target': 20, 'value': 396},\n",
       "  {'source': 14, 'target': 0, 'value': 288},\n",
       "  {'source': 14, 'target': 9, 'value': 18},\n",
       "  {'source': 17, 'target': 11, 'value': 153},\n",
       "  {'source': 17, 'target': 25, 'value': 261},\n",
       "  {'source': 17, 'target': 23, 'value': 18},\n",
       "  {'source': 18, 'target': 16, 'value': 3},\n",
       "  {'source': 18, 'target': 13, 'value': 124},\n",
       "  {'source': 18, 'target': 4, 'value': 296},\n",
       "  {'source': 19, 'target': 10, 'value': 702},\n",
       "  {'source': 19, 'target': 17, 'value': 189},\n",
       "  {'source': 19, 'target': 3, 'value': 81},\n",
       "  {'source': 20, 'target': 15, 'value': 245},\n",
       "  {'source': 20, 'target': 6, 'value': 466},\n",
       "  {'source': 20, 'target': 13, 'value': 71},\n",
       "  {'source': 20, 'target': 4, 'value': 1},\n",
       "  {'source': 21, 'target': 5, 'value': 810},\n",
       "  {'source': 21, 'target': 1, 'value': 405},\n",
       "  {'source': 21, 'target': 19, 'value': 972},\n",
       "  {'source': 23, 'target': 18, 'value': 111},\n",
       "  {'source': 23, 'target': 9, 'value': 6},\n",
       "  {'source': 23, 'target': 8, 'value': 90},\n",
       "  {'source': 24, 'target': 11, 'value': 171},\n",
       "  {'source': 24, 'target': 25, 'value': 45},\n",
       "  {'source': 24, 'target': 23, 'value': 189},\n",
       "  {'source': 25, 'target': 20, 'value': 360},\n",
       "  {'source': 25, 'target': 0, 'value': 3},\n",
       "  {'source': 25, 'target': 18, 'value': 54},\n",
       "  {'source': 25, 'target': 9, 'value': 402}],\n",
       " 'multigraph': False,\n",
       " 'nodes': [{'id': (6, 4)},\n",
       "  {'id': (3, 2)},\n",
       "  {'id': (0, 0)},\n",
       "  {'id': (4, 3)},\n",
       "  {'id': (7, 1)},\n",
       "  {'id': (3, 0)},\n",
       "  {'id': (7, 3)},\n",
       "  {'id': (5, 4)},\n",
       "  {'id': (6, 0)},\n",
       "  {'id': (6, 2)},\n",
       "  {'id': (4, 2)},\n",
       "  {'id': (5, 1)},\n",
       "  {'id': (1, 0)},\n",
       "  {'id': (7, 2)},\n",
       "  {'id': (5, 3)},\n",
       "  {'id': (7, 4)},\n",
       "  {'id': (7, 0)},\n",
       "  {'id': (4, 1)},\n",
       "  {'id': (6, 1)},\n",
       "  {'id': (3, 1)},\n",
       "  {'id': (6, 3)},\n",
       "  {'id': (2, 0)},\n",
       "  {'id': (7, 5)},\n",
       "  {'id': (5, 0)},\n",
       "  {'id': (4, 0)},\n",
       "  {'id': (5, 2)}]}"
      ]
     },
     "execution_count": 15,
     "metadata": {},
     "output_type": "execute_result"
    }
   ],
   "source": [
    "make_json(pos_hamming)"
   ]
  },
  {
   "cell_type": "code",
   "execution_count": 16,
   "metadata": {},
   "outputs": [
    {
     "data": {
      "text/plain": [
       "{'directed': True,\n",
       " 'graph': {},\n",
       " 'links': [{'source': 0, 'target': 15, 'value': 267},\n",
       "  {'source': 0, 'target': 6, 'value': 38},\n",
       "  {'source': 0, 'target': 22, 'value': 163},\n",
       "  {'source': 1, 'target': 10, 'value': 270},\n",
       "  {'source': 1, 'target': 17, 'value': 27},\n",
       "  {'source': 1, 'target': 3, 'value': 351},\n",
       "  {'source': 2, 'target': 12, 'value': 2187},\n",
       "  {'source': 3, 'target': 7, 'value': 144},\n",
       "  {'source': 3, 'target': 26, 'value': 54},\n",
       "  {'source': 3, 'target': 14, 'value': 261},\n",
       "  {'source': 5, 'target': 10, 'value': 54},\n",
       "  {'source': 5, 'target': 17, 'value': 405},\n",
       "  {'source': 5, 'target': 25, 'value': 351},\n",
       "  {'source': 7, 'target': 20, 'value': 27},\n",
       "  {'source': 7, 'target': 0, 'value': 93},\n",
       "  {'source': 7, 'target': 13, 'value': 42},\n",
       "  {'source': 8, 'target': 16, 'value': 46},\n",
       "  {'source': 8, 'target': 4, 'value': 56},\n",
       "  {'source': 9, 'target': 6, 'value': 269},\n",
       "  {'source': 9, 'target': 23, 'value': 214},\n",
       "  {'source': 9, 'target': 4, 'value': 18},\n",
       "  {'source': 10, 'target': 11, 'value': 27},\n",
       "  {'source': 10, 'target': 7, 'value': 18},\n",
       "  {'source': 10, 'target': 26, 'value': 216},\n",
       "  {'source': 10, 'target': 14, 'value': 522},\n",
       "  {'source': 11, 'target': 18, 'value': 159},\n",
       "  {'source': 11, 'target': 9, 'value': 228},\n",
       "  {'source': 11, 'target': 8, 'value': 18},\n",
       "  {'source': 12, 'target': 21, 'value': 2187},\n",
       "  {'source': 13, 'target': 15, 'value': 5},\n",
       "  {'source': 13, 'target': 27, 'value': 4},\n",
       "  {'source': 13, 'target': 22, 'value': 33},\n",
       "  {'source': 14, 'target': 20, 'value': 402},\n",
       "  {'source': 14, 'target': 0, 'value': 375},\n",
       "  {'source': 14, 'target': 9, 'value': 33},\n",
       "  {'source': 17, 'target': 11, 'value': 198},\n",
       "  {'source': 17, 'target': 26, 'value': 306},\n",
       "  {'source': 17, 'target': 24, 'value': 36},\n",
       "  {'source': 17, 'target': 14, 'value': 27},\n",
       "  {'source': 18, 'target': 16, 'value': 15},\n",
       "  {'source': 18, 'target': 23, 'value': 172},\n",
       "  {'source': 18, 'target': 4, 'value': 101},\n",
       "  {'source': 19, 'target': 10, 'value': 459},\n",
       "  {'source': 19, 'target': 17, 'value': 135},\n",
       "  {'source': 19, 'target': 3, 'value': 108},\n",
       "  {'source': 19, 'target': 25, 'value': 27},\n",
       "  {'source': 20, 'target': 15, 'value': 366},\n",
       "  {'source': 20, 'target': 6, 'value': 396},\n",
       "  {'source': 20, 'target': 23, 'value': 24},\n",
       "  {'source': 21, 'target': 5, 'value': 810},\n",
       "  {'source': 21, 'target': 1, 'value': 648},\n",
       "  {'source': 21, 'target': 19, 'value': 729},\n",
       "  {'source': 24, 'target': 18, 'value': 114},\n",
       "  {'source': 24, 'target': 8, 'value': 84},\n",
       "  {'source': 25, 'target': 11, 'value': 180},\n",
       "  {'source': 25, 'target': 26, 'value': 36},\n",
       "  {'source': 25, 'target': 24, 'value': 162},\n",
       "  {'source': 26, 'target': 20, 'value': 357},\n",
       "  {'source': 26, 'target': 18, 'value': 15},\n",
       "  {'source': 26, 'target': 9, 'value': 240}],\n",
       " 'multigraph': False,\n",
       " 'nodes': [{'id': (6, 4)},\n",
       "  {'id': (3, 2)},\n",
       "  {'id': (0, 0)},\n",
       "  {'id': (4, 3)},\n",
       "  {'id': (7, 1)},\n",
       "  {'id': (3, 0)},\n",
       "  {'id': (7, 3)},\n",
       "  {'id': (5, 4)},\n",
       "  {'id': (6, 0)},\n",
       "  {'id': (6, 2)},\n",
       "  {'id': (4, 2)},\n",
       "  {'id': (5, 1)},\n",
       "  {'id': (1, 0)},\n",
       "  {'id': (6, 5)},\n",
       "  {'id': (5, 3)},\n",
       "  {'id': (7, 4)},\n",
       "  {'id': (7, 0)},\n",
       "  {'id': (4, 1)},\n",
       "  {'id': (6, 1)},\n",
       "  {'id': (3, 1)},\n",
       "  {'id': (6, 3)},\n",
       "  {'id': (2, 0)},\n",
       "  {'id': (7, 5)},\n",
       "  {'id': (7, 2)},\n",
       "  {'id': (5, 0)},\n",
       "  {'id': (4, 0)},\n",
       "  {'id': (5, 2)},\n",
       "  {'id': (7, 6)}]}"
      ]
     },
     "execution_count": 16,
     "metadata": {},
     "output_type": "execute_result"
    }
   ],
   "source": [
    "make_json(neg_hamming)"
   ]
  },
  {
   "cell_type": "code",
   "execution_count": null,
   "metadata": {
    "collapsed": true
   },
   "outputs": [],
   "source": []
  }
 ],
 "metadata": {
  "kernelspec": {
   "display_name": "Python 3",
   "language": "python",
   "name": "python3"
  },
  "language_info": {
   "codemirror_mode": {
    "name": "ipython",
    "version": 3
   },
   "file_extension": ".py",
   "mimetype": "text/x-python",
   "name": "python",
   "nbconvert_exporter": "python",
   "pygments_lexer": "ipython3",
   "version": "3.5.0"
  }
 },
 "nbformat": 4,
 "nbformat_minor": 2
}
