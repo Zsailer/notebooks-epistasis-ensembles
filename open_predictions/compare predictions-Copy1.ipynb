{
 "cells": [
  {
   "cell_type": "code",
   "execution_count": 1,
   "metadata": {
    "collapsed": true
   },
   "outputs": [],
   "source": [
    "%matplotlib inline\n",
    "import matplotlib.pyplot as plt\n",
    "import numpy as np\n",
    "import numpy.ma as ma\n",
    "import pickle\n",
    "\n",
    "from gpmap.utils import hamming_distance\n",
    "from collections import Counter\n",
    "import networkx as nx\n",
    "from networkx.readwrite import json_graph"
   ]
  },
  {
   "cell_type": "code",
   "execution_count": 42,
   "metadata": {
    "collapsed": true
   },
   "outputs": [],
   "source": [
    "with open(\"two-state-predictions/results/double-mutant-4-hamming.pickle\", \"rb\") as f:\n",
    "    a = pickle.load(f)\n",
    "    pos_hamming = a[0]\n",
    "    neg_hamming = a[1]"
   ]
  },
  {
   "cell_type": "code",
   "execution_count": 43,
   "metadata": {
    "collapsed": true
   },
   "outputs": [],
   "source": [
    "pos_hamming = ma.masked_invalid(pos_hamming)\n",
    "neg_hamming = ma.masked_invalid(neg_hamming)"
   ]
  },
  {
   "cell_type": "code",
   "execution_count": 44,
   "metadata": {},
   "outputs": [
    {
     "data": {
      "text/plain": [
       "(array([  288.,  1899.,     0.,     0.,     0.,     0.,     0.]),\n",
       " array([ 0.,  1.,  2.,  3.,  4.,  5.,  6.,  7.]),\n",
       " <a list of 7 Patch objects>)"
      ]
     },
     "execution_count": 44,
     "metadata": {},
     "output_type": "execute_result"
    },
    {
     "data": {
      "image/png": "[encoded data removed]",
      "text/plain": [
       "<matplotlib.figure.Figure at 0x110e1b588>"
      ]
     },
     "metadata": {},
     "output_type": "display_data"
    }
   ],
   "source": [
    "plt.hist(pos_hamming[:,5], bins=7, range=(0,7))"
   ]
  },
  {
   "cell_type": "code",
   "execution_count": 45,
   "metadata": {},
   "outputs": [
    {
     "data": {
      "text/plain": [
       "(array([ 2187.,     0.,     0.,     0.,     0.,     0.,     0.]),\n",
       " array([ 0.,  1.,  2.,  3.,  4.,  5.,  6.,  7.]),\n",
       " <a list of 7 Patch objects>)"
      ]
     },
     "execution_count": 45,
     "metadata": {},
     "output_type": "execute_result"
    },
    {
     "data": {
      "image/png": "[encoded data removed]",
      "text/plain": [
       "<matplotlib.figure.Figure at 0x1111eb7b8>"
      ]
     },
     "metadata": {},
     "output_type": "display_data"
    }
   ],
   "source": [
    "plt.hist(neg_hamming[:,4], bins=7, range=(0,7))"
   ]
  },
  {
   "cell_type": "code",
   "execution_count": 14,
   "metadata": {},
   "outputs": [
    {
     "ename": "FileNotFoundError",
     "evalue": "[Errno 2] No such file or directory: 'two-state-predictions/results/.pickle'",
     "output_type": "error",
     "traceback": [
      "\u001b[0;31m---------------------------------------------------------------------------\u001b[0m",
      "\u001b[0;31mFileNotFoundError\u001b[0m                         Traceback (most recent call last)",
      "\u001b[0;32m<ipython-input-14-788dc98f0237>\u001b[0m in \u001b[0;36m<module>\u001b[0;34m()\u001b[0m\n\u001b[0;32m----> 1\u001b[0;31m \u001b[0;32mwith\u001b[0m \u001b[0mopen\u001b[0m\u001b[0;34m(\u001b[0m\u001b[0;34m\"two-state-predictions/results/.pickle\"\u001b[0m\u001b[0;34m,\u001b[0m \u001b[0;34m\"rb\"\u001b[0m\u001b[0;34m)\u001b[0m \u001b[0;32mas\u001b[0m \u001b[0mf\u001b[0m\u001b[0;34m:\u001b[0m\u001b[0;34m\u001b[0m\u001b[0m\n\u001b[0m\u001b[1;32m      2\u001b[0m     \u001b[0ma\u001b[0m \u001b[0;34m=\u001b[0m \u001b[0mpickle\u001b[0m\u001b[0;34m.\u001b[0m\u001b[0mload\u001b[0m\u001b[0;34m(\u001b[0m\u001b[0mf\u001b[0m\u001b[0;34m)\u001b[0m\u001b[0;34m\u001b[0m\u001b[0m\n",
      "\u001b[0;31mFileNotFoundError\u001b[0m: [Errno 2] No such file or directory: 'two-state-predictions/results/.pickle'"
     ]
    }
   ],
   "source": [
    "with open(\"two-state-predictions/results/.pickle\", \"rb\") as f:\n",
    "    a = pickle.load(f)"
   ]
  },
  {
   "cell_type": "code",
   "execution_count": 44,
   "metadata": {
    "collapsed": true
   },
   "outputs": [],
   "source": [
    "def make_json(hamming):\n",
    "    import json\n",
    "\n",
    "    G = nx.DiGraph()\n",
    "    mutations = range(0,7)\n",
    "    for n in mutations:\n",
    "        edges = Counter(zip(hamming[:,n], hamming[:,n+1]))\n",
    "        for key, val in edges.items():\n",
    "            G.add_edge((n, key[0]), (n+1, key[1]), value=val)\n",
    "    x = json_graph.node_link_data(G)\n",
    "    for item in x[\"nodes\"]:\n",
    "        val = item[\"id\"] \n",
    "        new = (int(val[0]),int(val[1]))\n",
    "        item[\"id\"] = new\n",
    "\n",
    "    return json.dumps(x)"
   ]
  },
  {
   "cell_type": "code",
   "execution_count": 7,
   "metadata": {},
   "outputs": [
    {
     "data": {
      "text/plain": [
       "'{\"directed\": true, \"nodes\": [{\"id\": [2, 0]}, {\"id\": [0, 0]}, {\"id\": [7, 0]}, {\"id\": [5, 0]}, {\"id\": [3, 0]}, {\"id\": [1, 0]}, {\"id\": [6, 0]}, {\"id\": [4, 0]}], \"links\": [{\"value\": 2187, \"source\": 0, \"target\": 4}, {\"value\": 2187, \"source\": 1, \"target\": 5}, {\"value\": 2187, \"source\": 3, \"target\": 6}, {\"value\": 2187, \"source\": 4, \"target\": 7}, {\"value\": 2187, \"source\": 5, \"target\": 0}, {\"value\": 2187, \"source\": 6, \"target\": 2}, {\"value\": 2187, \"source\": 7, \"target\": 3}], \"multigraph\": false, \"graph\": {}}'"
      ]
     },
     "execution_count": 7,
     "metadata": {},
     "output_type": "execute_result"
    }
   ],
   "source": [
    "make_json(pos_hamming)"
   ]
  },
  {
   "cell_type": "code",
   "execution_count": 8,
   "metadata": {},
   "outputs": [
    {
     "data": {
      "text/plain": [
       "'{\"directed\": true, \"nodes\": [{\"id\": [6, 4]}, {\"id\": [0, 0]}, {\"id\": [7, 1]}, {\"id\": [3, 0]}, {\"id\": [6, 0]}, {\"id\": [6, 2]}, {\"id\": [5, 1]}, {\"id\": [4, 0]}, {\"id\": [4, 2]}, {\"id\": [1, 0]}, {\"id\": [7, 2]}, {\"id\": [5, 3]}, {\"id\": [7, 4]}, {\"id\": [7, 0]}, {\"id\": [4, 1]}, {\"id\": [6, 1]}, {\"id\": [3, 1]}, {\"id\": [6, 3]}, {\"id\": [2, 0]}, {\"id\": [7, 5]}, {\"id\": [5, 0]}, {\"id\": [7, 3]}, {\"id\": [5, 2]}], \"links\": [{\"value\": 16, \"source\": 0, \"target\": 12}, {\"value\": 2, \"source\": 0, \"target\": 19}, {\"value\": 2187, \"source\": 1, \"target\": 9}, {\"value\": 216, \"source\": 3, \"target\": 14}, {\"value\": 1809, \"source\": 3, \"target\": 7}, {\"value\": 1341, \"source\": 4, \"target\": 13}, {\"value\": 114, \"source\": 4, \"target\": 2}, {\"value\": 148, \"source\": 5, \"target\": 21}, {\"value\": 74, \"source\": 5, \"target\": 10}, {\"value\": 186, \"source\": 6, \"target\": 15}, {\"value\": 165, \"source\": 6, \"target\": 5}, {\"value\": 198, \"source\": 7, \"target\": 6}, {\"value\": 1611, \"source\": 7, \"target\": 20}, {\"value\": 27, \"source\": 8, \"target\": 22}, {\"value\": 54, \"source\": 8, \"target\": 11}, {\"value\": 2187, \"source\": 9, \"target\": 18}, {\"value\": 36, \"source\": 11, \"target\": 17}, {\"value\": 18, \"source\": 11, \"target\": 0}, {\"value\": 153, \"source\": 14, \"target\": 6}, {\"value\": 144, \"source\": 14, \"target\": 22}, {\"value\": 156, \"source\": 15, \"target\": 10}, {\"value\": 186, \"source\": 15, \"target\": 2}, {\"value\": 81, \"source\": 16, \"target\": 8}, {\"value\": 81, \"source\": 16, \"target\": 14}, {\"value\": 49, \"source\": 17, \"target\": 12}, {\"value\": 101, \"source\": 17, \"target\": 21}, {\"value\": 2025, \"source\": 18, \"target\": 3}, {\"value\": 162, \"source\": 18, \"target\": 16}, {\"value\": 156, \"source\": 20, \"target\": 15}, {\"value\": 1455, \"source\": 20, \"target\": 4}, {\"value\": 114, \"source\": 22, \"target\": 17}, {\"value\": 57, \"source\": 22, \"target\": 5}], \"multigraph\": false, \"graph\": {}}'"
      ]
     },
     "execution_count": 8,
     "metadata": {},
     "output_type": "execute_result"
    }
   ],
   "source": [
    "make_json(neg_hamming)"
   ]
  },
  {
   "cell_type": "code",
   "execution_count": 9,
   "metadata": {},
   "outputs": [
    {
     "ename": "ImportError",
     "evalue": "No module named 'py_d3'",
     "output_type": "error",
     "traceback": [
      "\u001b[0;31m---------------------------------------------------------------------------\u001b[0m",
      "\u001b[0;31mImportError\u001b[0m                               Traceback (most recent call last)",
      "\u001b[0;32m<ipython-input-9-fa3e80b6e91f>\u001b[0m in \u001b[0;36m<module>\u001b[0;34m()\u001b[0m\n\u001b[0;32m----> 1\u001b[0;31m \u001b[0mget_ipython\u001b[0m\u001b[0;34m(\u001b[0m\u001b[0;34m)\u001b[0m\u001b[0;34m.\u001b[0m\u001b[0mmagic\u001b[0m\u001b[0;34m(\u001b[0m\u001b[0;34m'load_ext py_d3'\u001b[0m\u001b[0;34m)\u001b[0m\u001b[0;34m\u001b[0m\u001b[0m\n\u001b[0m",
      "\u001b[0;32m/Users/Zsailer/.virtualenvs/py3/lib/python3.5/site-packages/IPython/core/interactiveshell.py\u001b[0m in \u001b[0;36mmagic\u001b[0;34m(self, arg_s)\u001b[0m\n\u001b[1;32m   2156\u001b[0m         \u001b[0mmagic_name\u001b[0m\u001b[0;34m,\u001b[0m \u001b[0m_\u001b[0m\u001b[0;34m,\u001b[0m \u001b[0mmagic_arg_s\u001b[0m \u001b[0;34m=\u001b[0m \u001b[0marg_s\u001b[0m\u001b[0;34m.\u001b[0m\u001b[0mpartition\u001b[0m\u001b[0;34m(\u001b[0m\u001b[0;34m' '\u001b[0m\u001b[0;34m)\u001b[0m\u001b[0;34m\u001b[0m\u001b[0m\n\u001b[1;32m   2157\u001b[0m         \u001b[0mmagic_name\u001b[0m \u001b[0;34m=\u001b[0m \u001b[0mmagic_name\u001b[0m\u001b[0;34m.\u001b[0m\u001b[0mlstrip\u001b[0m\u001b[0;34m(\u001b[0m\u001b[0mprefilter\u001b[0m\u001b[0;34m.\u001b[0m\u001b[0mESC_MAGIC\u001b[0m\u001b[0;34m)\u001b[0m\u001b[0;34m\u001b[0m\u001b[0m\n\u001b[0;32m-> 2158\u001b[0;31m         \u001b[0;32mreturn\u001b[0m \u001b[0mself\u001b[0m\u001b[0;34m.\u001b[0m\u001b[0mrun_line_magic\u001b[0m\u001b[0;34m(\u001b[0m\u001b[0mmagic_name\u001b[0m\u001b[0;34m,\u001b[0m \u001b[0mmagic_arg_s\u001b[0m\u001b[0;34m)\u001b[0m\u001b[0;34m\u001b[0m\u001b[0m\n\u001b[0m\u001b[1;32m   2159\u001b[0m \u001b[0;34m\u001b[0m\u001b[0m\n\u001b[1;32m   2160\u001b[0m     \u001b[0;31m#-------------------------------------------------------------------------\u001b[0m\u001b[0;34m\u001b[0m\u001b[0;34m\u001b[0m\u001b[0m\n",
      "\u001b[0;32m/Users/Zsailer/.virtualenvs/py3/lib/python3.5/site-packages/IPython/core/interactiveshell.py\u001b[0m in \u001b[0;36mrun_line_magic\u001b[0;34m(self, magic_name, line)\u001b[0m\n\u001b[1;32m   2077\u001b[0m                 \u001b[0mkwargs\u001b[0m\u001b[0;34m[\u001b[0m\u001b[0;34m'local_ns'\u001b[0m\u001b[0;34m]\u001b[0m \u001b[0;34m=\u001b[0m \u001b[0msys\u001b[0m\u001b[0;34m.\u001b[0m\u001b[0m_getframe\u001b[0m\u001b[0;34m(\u001b[0m\u001b[0mstack_depth\u001b[0m\u001b[0;34m)\u001b[0m\u001b[0;34m.\u001b[0m\u001b[0mf_locals\u001b[0m\u001b[0;34m\u001b[0m\u001b[0m\n\u001b[1;32m   2078\u001b[0m             \u001b[0;32mwith\u001b[0m \u001b[0mself\u001b[0m\u001b[0;34m.\u001b[0m\u001b[0mbuiltin_trap\u001b[0m\u001b[0;34m:\u001b[0m\u001b[0;34m\u001b[0m\u001b[0m\n\u001b[0;32m-> 2079\u001b[0;31m                 \u001b[0mresult\u001b[0m \u001b[0;34m=\u001b[0m \u001b[0mfn\u001b[0m\u001b[0;34m(\u001b[0m\u001b[0;34m*\u001b[0m\u001b[0margs\u001b[0m\u001b[0;34m,\u001b[0m\u001b[0;34m**\u001b[0m\u001b[0mkwargs\u001b[0m\u001b[0;34m)\u001b[0m\u001b[0;34m\u001b[0m\u001b[0m\n\u001b[0m\u001b[1;32m   2080\u001b[0m             \u001b[0;32mreturn\u001b[0m \u001b[0mresult\u001b[0m\u001b[0;34m\u001b[0m\u001b[0m\n\u001b[1;32m   2081\u001b[0m \u001b[0;34m\u001b[0m\u001b[0m\n",
      "\u001b[0;32m<decorator-gen-62>\u001b[0m in \u001b[0;36mload_ext\u001b[0;34m(self, module_str)\u001b[0m\n",
      "\u001b[0;32m/Users/Zsailer/.virtualenvs/py3/lib/python3.5/site-packages/IPython/core/magic.py\u001b[0m in \u001b[0;36m<lambda>\u001b[0;34m(f, *a, **k)\u001b[0m\n\u001b[1;32m    186\u001b[0m     \u001b[0;31m# but it's overkill for just that one bit of state.\u001b[0m\u001b[0;34m\u001b[0m\u001b[0;34m\u001b[0m\u001b[0m\n\u001b[1;32m    187\u001b[0m     \u001b[0;32mdef\u001b[0m \u001b[0mmagic_deco\u001b[0m\u001b[0;34m(\u001b[0m\u001b[0marg\u001b[0m\u001b[0;34m)\u001b[0m\u001b[0;34m:\u001b[0m\u001b[0;34m\u001b[0m\u001b[0m\n\u001b[0;32m--> 188\u001b[0;31m         \u001b[0mcall\u001b[0m \u001b[0;34m=\u001b[0m \u001b[0;32mlambda\u001b[0m \u001b[0mf\u001b[0m\u001b[0;34m,\u001b[0m \u001b[0;34m*\u001b[0m\u001b[0ma\u001b[0m\u001b[0;34m,\u001b[0m \u001b[0;34m**\u001b[0m\u001b[0mk\u001b[0m\u001b[0;34m:\u001b[0m \u001b[0mf\u001b[0m\u001b[0;34m(\u001b[0m\u001b[0;34m*\u001b[0m\u001b[0ma\u001b[0m\u001b[0;34m,\u001b[0m \u001b[0;34m**\u001b[0m\u001b[0mk\u001b[0m\u001b[0;34m)\u001b[0m\u001b[0;34m\u001b[0m\u001b[0m\n\u001b[0m\u001b[1;32m    189\u001b[0m \u001b[0;34m\u001b[0m\u001b[0m\n\u001b[1;32m    190\u001b[0m         \u001b[0;32mif\u001b[0m \u001b[0mcallable\u001b[0m\u001b[0;34m(\u001b[0m\u001b[0marg\u001b[0m\u001b[0;34m)\u001b[0m\u001b[0;34m:\u001b[0m\u001b[0;34m\u001b[0m\u001b[0m\n",
      "\u001b[0;32m/Users/Zsailer/.virtualenvs/py3/lib/python3.5/site-packages/IPython/core/magics/extension.py\u001b[0m in \u001b[0;36mload_ext\u001b[0;34m(self, module_str)\u001b[0m\n\u001b[1;32m     35\u001b[0m         \u001b[0;32mif\u001b[0m \u001b[0;32mnot\u001b[0m \u001b[0mmodule_str\u001b[0m\u001b[0;34m:\u001b[0m\u001b[0;34m\u001b[0m\u001b[0m\n\u001b[1;32m     36\u001b[0m             \u001b[0;32mraise\u001b[0m \u001b[0mUsageError\u001b[0m\u001b[0;34m(\u001b[0m\u001b[0;34m'Missing module name.'\u001b[0m\u001b[0;34m)\u001b[0m\u001b[0;34m\u001b[0m\u001b[0m\n\u001b[0;32m---> 37\u001b[0;31m         \u001b[0mres\u001b[0m \u001b[0;34m=\u001b[0m \u001b[0mself\u001b[0m\u001b[0;34m.\u001b[0m\u001b[0mshell\u001b[0m\u001b[0;34m.\u001b[0m\u001b[0mextension_manager\u001b[0m\u001b[0;34m.\u001b[0m\u001b[0mload_extension\u001b[0m\u001b[0;34m(\u001b[0m\u001b[0mmodule_str\u001b[0m\u001b[0;34m)\u001b[0m\u001b[0;34m\u001b[0m\u001b[0m\n\u001b[0m\u001b[1;32m     38\u001b[0m \u001b[0;34m\u001b[0m\u001b[0m\n\u001b[1;32m     39\u001b[0m         \u001b[0;32mif\u001b[0m \u001b[0mres\u001b[0m \u001b[0;34m==\u001b[0m \u001b[0;34m'already loaded'\u001b[0m\u001b[0;34m:\u001b[0m\u001b[0;34m\u001b[0m\u001b[0m\n",
      "\u001b[0;32m/Users/Zsailer/.virtualenvs/py3/lib/python3.5/site-packages/IPython/core/extensions.py\u001b[0m in \u001b[0;36mload_extension\u001b[0;34m(self, module_str)\u001b[0m\n\u001b[1;32m     81\u001b[0m             \u001b[0;32mif\u001b[0m \u001b[0mmodule_str\u001b[0m \u001b[0;32mnot\u001b[0m \u001b[0;32min\u001b[0m \u001b[0msys\u001b[0m\u001b[0;34m.\u001b[0m\u001b[0mmodules\u001b[0m\u001b[0;34m:\u001b[0m\u001b[0;34m\u001b[0m\u001b[0m\n\u001b[1;32m     82\u001b[0m                 \u001b[0;32mwith\u001b[0m \u001b[0mprepended_to_syspath\u001b[0m\u001b[0;34m(\u001b[0m\u001b[0mself\u001b[0m\u001b[0;34m.\u001b[0m\u001b[0mipython_extension_dir\u001b[0m\u001b[0;34m)\u001b[0m\u001b[0;34m:\u001b[0m\u001b[0;34m\u001b[0m\u001b[0m\n\u001b[0;32m---> 83\u001b[0;31m                     \u001b[0m__import__\u001b[0m\u001b[0;34m(\u001b[0m\u001b[0mmodule_str\u001b[0m\u001b[0;34m)\u001b[0m\u001b[0;34m\u001b[0m\u001b[0m\n\u001b[0m\u001b[1;32m     84\u001b[0m             \u001b[0mmod\u001b[0m \u001b[0;34m=\u001b[0m \u001b[0msys\u001b[0m\u001b[0;34m.\u001b[0m\u001b[0mmodules\u001b[0m\u001b[0;34m[\u001b[0m\u001b[0mmodule_str\u001b[0m\u001b[0;34m]\u001b[0m\u001b[0;34m\u001b[0m\u001b[0m\n\u001b[1;32m     85\u001b[0m             \u001b[0;32mif\u001b[0m \u001b[0mself\u001b[0m\u001b[0;34m.\u001b[0m\u001b[0m_call_load_ipython_extension\u001b[0m\u001b[0;34m(\u001b[0m\u001b[0mmod\u001b[0m\u001b[0;34m)\u001b[0m\u001b[0;34m:\u001b[0m\u001b[0;34m\u001b[0m\u001b[0m\n",
      "\u001b[0;31mImportError\u001b[0m: No module named 'py_d3'"
     ]
    }
   ],
   "source": [
    "%load_ext py_d3"
   ]
  },
  {
   "cell_type": "code",
   "execution_count": null,
   "metadata": {
    "collapsed": true
   },
   "outputs": [],
   "source": [
    "\n",
    "neg_hamming = np.zeros((len(a), 5), dtype=float)\n",
    "for mut in range(5):\n",
    "    index = 3 ** 7 / 3 ** mut\n",
    "    subslice = index * np.arange(3**mut)\n",
    "    subslice = subslice.astype(int)\n",
    "    for index, i in enumerate(subslice[:-1]):\n",
    "        try:\n",
    "            seq1 = a[i, mut]\n",
    "            print(i)\n",
    "            hd = [hamming_distance(seq1, p[position][mut]) for position in subslice]\n",
    "            try:\n",
    "                neg_hamming[subslice[index]:subslice[index+1], mut] = min(hd)\n",
    "            except IndexError:\n",
    "                neg_hamming[subslice[index]:subslice[index+1], mut] = np.inf\n",
    "        except IndexError:\n",
    "            neg_hamming[subslice[index]:subslice[index+1], mut] = np.nan\n",
    "            \n",
    "            \n",
    "            \n",
    "z = \"\"\"\n",
    "neg_hamming = np.zeros((len(p), 8), dtype=float)\n",
    "for mut in range(8):\n",
    "    for i, path in enumerate(a):\n",
    "        try:\n",
    "            seq1 = path[mut]\n",
    "            index = 3 ** 7 / 3 ** mut\n",
    "            subslice = index * np.arange(3**mut)\n",
    "            subslice = subslice.astype(int)\n",
    "            hd = []\n",
    "            for j, position in enumerate(subslice):\n",
    "                try:\n",
    "                    seq2 = p[position][mut]\n",
    "                    hd.append(hamming_distance(seq1, seq2))\n",
    "                    neg_hamming[i, mut] = min(hd)\n",
    "                except IndexError:\n",
    "                    neg_hamming[i, mut] = np.inf\n",
    "        except IndexError:\n",
    "            neg_hamming[i, mut] = np.nan\n",
    "\"\"\""
   ]
  },
  {
   "cell_type": "code",
   "execution_count": 62,
   "metadata": {
    "collapsed": true
   },
   "outputs": [],
   "source": [
    "import numpy as np\n",
    "import itertools as it\n",
    "\n",
    "from latticeproteins.thermodynamics import LatticeThermodynamics\n",
    "from latticeproteins.interactions import miyazawa_jernigan\n",
    "from latticeproteins.conformations import Conformations, ConformationList\n",
    "from latticeproteins.sequences import find_differences, _residues"
   ]
  },
  {
   "cell_type": "code",
   "execution_count": 63,
   "metadata": {
    "collapsed": true
   },
   "outputs": [],
   "source": [
    "class PredictedLattice(object):\n",
    "    \"\"\"Lattice model predictor using epistasis.\n",
    "    \"\"\"\n",
    "    def __init__(self, wildtype, temp, confs, target=None):\n",
    "        self.wildtype = wildtype\n",
    "        self.temp = temp\n",
    "        self.conformations = confs\n",
    "        self.target = target\n",
    "        self._lattice = LatticeThermodynamics(self.temp, self.conformations)\n",
    "\n",
    "        combos = []\n",
    "        sites = list(range(self.conformations.length()))\n",
    "        self.dG0 = self._lattice.stability(self.wildtype, target=self.target)\n",
    "\n",
    "        # Calculate first order coefs\n",
    "        self.dGs = {}\n",
    "        for i in sites:\n",
    "            other_sites = sites[:]\n",
    "            other_sites.remove(i)\n",
    "            for aa in _residues:\n",
    "                combos.append((i, aa))\n",
    "\n",
    "        for c in combos:\n",
    "            seq = list(self.wildtype[:])\n",
    "            seq[c[0]] = c[1]\n",
    "            self.dGs[c] = self._lattice.stability(seq, target=self.target) - self.dG0\n",
    "\n",
    "        # Calculate second order coefs\n",
    "        combos = []\n",
    "        sites = list(range(self.conformations.length()))\n",
    "        for i in sites:\n",
    "            other_sites = sites[:]\n",
    "            other_sites.remove(i)\n",
    "            for aa in _residues:\n",
    "                for j in other_sites:\n",
    "                    for aa2 in _residues:\n",
    "                        combos.append((i,aa,j,aa2))\n",
    "\n",
    "        for c in combos:\n",
    "            seq = list(self.wildtype[:])\n",
    "            seq[c[0]] = c[1]\n",
    "            seq[c[2]] = c[3]\n",
    "            # Calculate dG2\n",
    "            self.dGs[c] = self._lattice.stability(seq, target=self.target) - (self.dG0 + self.dGs[(c[0],c[1])] + self.dGs[(c[2],c[3])])\n",
    "\n",
    "    def stability(self, seq, target=None):\n",
    "        # Get additive coefs to build predictions\n",
    "        if target != self.target:\n",
    "            raise Exception(\"Target does not match wildtype target.\")\n",
    "        loci = find_differences(self.wildtype, seq)\n",
    "        add = [(pair[0], seq[pair[0]]) for pair in it.combinations(loci, 1)]\n",
    "        pairs = [(pair[0], seq[pair[0]], pair[1], seq[pair[1]]) for pair in it.combinations(loci, 2)]\n",
    "        dgs = add + pairs\n",
    "        stability = float(self.dG0)\n",
    "        for coef in dgs:\n",
    "            stability += self.dGs[coef]\n",
    "        return stability"
   ]
  },
  {
   "cell_type": "code",
   "execution_count": 64,
   "metadata": {
    "collapsed": true
   },
   "outputs": [],
   "source": [
    "wt =  \"HWEMHEKWEM\"\n",
    "seq = \"FLWEMGLWEL\"\n",
    "temp = 1\n",
    "target = None\n",
    "\n",
    "length = len(seq)\n",
    "# Build the conformation database\n",
    "full_confs = Conformations(length, \"database\")\n",
    "# Top 20 conformations\n",
    "top_confs = full_confs.k_lowest_confs(seq, temp, 20)\n",
    "# Choose random confs from this list\n",
    "landscape = np.random.choice(top_confs[:19], size=1)\n",
    "# Build a new conformation database from this list\n",
    "if target is None:\n",
    "    target = top_confs[-1]\n",
    "landscape = np.concatenate((top_confs, [target]))\n",
    "confs = ConformationList(length, landscape)\n",
    "\n",
    "l = PredictedLattice(wt, 1, confs)"
   ]
  },
  {
   "cell_type": "code",
   "execution_count": 67,
   "metadata": {},
   "outputs": [
    {
     "data": {
      "text/plain": [
       "11.174514650631522"
      ]
     },
     "execution_count": 67,
     "metadata": {},
     "output_type": "execute_result"
    }
   ],
   "source": [
    "l.stability(seq)"
   ]
  },
  {
   "cell_type": "code",
   "execution_count": 69,
   "metadata": {},
   "outputs": [
    {
     "name": "stdout",
     "output_type": "stream",
     "text": [
      "[0, 1, 2, 3, 4, 5, 6, 9]\n",
      "[(0, 'F'), (1, 'L'), (2, 'W'), (3, 'E'), (4, 'M'), (5, 'G'), (6, 'L'), (9, 'L'), (0, 'F', 1, 'L'), (0, 'F', 2, 'W'), (0, 'F', 3, 'E'), (0, 'F', 4, 'M'), (0, 'F', 5, 'G'), (0, 'F', 6, 'L'), (0, 'F', 9, 'L'), (1, 'L', 2, 'W'), (1, 'L', 3, 'E'), (1, 'L', 4, 'M'), (1, 'L', 5, 'G'), (1, 'L', 6, 'L'), (1, 'L', 9, 'L'), (2, 'W', 3, 'E'), (2, 'W', 4, 'M'), (2, 'W', 5, 'G'), (2, 'W', 6, 'L'), (2, 'W', 9, 'L'), (3, 'E', 4, 'M'), (3, 'E', 5, 'G'), (3, 'E', 6, 'L'), (3, 'E', 9, 'L'), (4, 'M', 5, 'G'), (4, 'M', 6, 'L'), (4, 'M', 9, 'L'), (5, 'G', 6, 'L'), (5, 'G', 9, 'L'), (6, 'L', 9, 'L')]\n"
     ]
    }
   ],
   "source": [
    "loci = find_differences(wt, seq)\n",
    "print(loci)\n",
    "add = [(pair[0], seq[pair[0]]) for pair in it.combinations(loci, 1)]\n",
    "pairs = [(pair[0], seq[pair[0]], pair[1], seq[pair[1]]) for pair in it.combinations(loci, 2)]\n",
    "dgs = add + pairs\n",
    "print(dgs)"
   ]
  },
  {
   "cell_type": "code",
   "execution_count": 70,
   "metadata": {
    "collapsed": true
   },
   "outputs": [],
   "source": [
    "    add = [(pair[0], seq[pair[0]]) for pair in it.combinations(loci, 1)]\n",
    "    pairs = [(pair[0], seq[pair[0]], pair[1], seq[pair[1]]) for pair in it.combinations(loci, 2)]\n",
    "    dgs = add + pairs"
   ]
  },
  {
   "cell_type": "code",
   "execution_count": 71,
   "metadata": {},
   "outputs": [
    {
     "data": {
      "text/plain": [
       "1.4979425176274415"
      ]
     },
     "execution_count": 71,
     "metadata": {},
     "output_type": "execute_result"
    }
   ],
   "source": [
    "l.dG0"
   ]
  },
  {
   "cell_type": "code",
   "execution_count": 44,
   "metadata": {},
   "outputs": [
    {
     "data": {
      "text/plain": [
       "[array([[ 0.,  1.,  1., ...,  1.,  1.,  1.],\n",
       "        [ 0.,  1.,  1., ...,  1.,  1.,  0.],\n",
       "        [ 0.,  1.,  1., ...,  1.,  1.,  1.],\n",
       "        ..., \n",
       "        [ 0.,  0.,  0., ...,  0.,  0.,  2.],\n",
       "        [ 0.,  0.,  0., ...,  0.,  0.,  1.],\n",
       "        [ 0.,  0.,  0., ...,  0.,  0.,  0.]]),\n",
       " array([[ 0.,  0.,  0., ...,  0.,  0.,  0.],\n",
       "        [ 0.,  0.,  0., ...,  0.,  0.,  1.],\n",
       "        [ 0.,  0.,  0., ...,  0.,  0.,  0.],\n",
       "        ..., \n",
       "        [ 0.,  0.,  0., ...,  0.,  0.,  1.],\n",
       "        [ 0.,  0.,  0., ...,  0.,  0.,  0.],\n",
       "        [ 0.,  0.,  0., ...,  0.,  0.,  0.]])]"
      ]
     },
     "execution_count": 44,
     "metadata": {},
     "output_type": "execute_result"
    }
   ],
   "source": [
    "a"
   ]
  },
  {
   "cell_type": "code",
   "execution_count": 46,
   "metadata": {
    "collapsed": true
   },
   "outputs": [],
   "source": [
    "with open(\"two-state-predictions/results/double-mutant-walks-7-3.pickle\", \"rb\") as f:\n",
    "    out = pickle.load(f)\n",
    "    a, dG = out[0], out[1] # = pickle.load()"
   ]
  }
 ],
 "metadata": {
  "kernelspec": {
   "display_name": "Python 3",
   "language": "python",
   "name": "python3"
  },
  "language_info": {
   "codemirror_mode": {
    "name": "ipython",
    "version": 3
   },
   "file_extension": ".py",
   "mimetype": "text/x-python",
   "name": "python",
   "nbconvert_exporter": "python",
   "pygments_lexer": "ipython3",
   "version": "3.5.2"
  }
 },
 "nbformat": 4,
 "nbformat_minor": 2
}
