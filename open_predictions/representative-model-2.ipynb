{
 "cells": [
  {
   "cell_type": "code",
   "execution_count": 1,
   "metadata": {
    "collapsed": true
   },
   "outputs": [],
   "source": [
    "%matplotlib inline\n",
    "import matplotlib.pyplot as plt\n",
    "\n",
    "import numpy as np\n",
    "import itertools as it\n",
    "\n",
    "from latticeproteins.thermodynamics import LatticeThermodynamics\n",
    "from latticeproteins.interactions import miyazawa_jernigan\n",
    "from latticeproteins.conformations import Conformations, ConformationList\n",
    "from latticeproteins.sequences import find_differences, _residues"
   ]
  },
  {
   "cell_type": "code",
   "execution_count": 2,
   "metadata": {
    "collapsed": true
   },
   "outputs": [],
   "source": [
    "class PredictedLattice(object):\n",
    "    \"\"\"Lattice model predictor using epistasis.\"\"\"\n",
    "    def __init__(self, wildtype, temp, confs, target=None):\n",
    "        self.wildtype = wildtype\n",
    "        self.temp = temp\n",
    "        self.conformations = confs\n",
    "        self.target = target\n",
    "        self._lattice = LatticeThermodynamics(self.temp, self.conformations)\n",
    "\n",
    "        combos = []\n",
    "        sites = list(range(self.conformations.length()))\n",
    "        self.dG0 = round(self._lattice.stability(self.wildtype, target=self.target), 9)\n",
    "\n",
    "        # Calculate first order coefs\n",
    "        self.dGs = {}\n",
    "        for i in sites:\n",
    "            other_sites = sites[:]\n",
    "            other_sites.remove(i)\n",
    "            for aa in _residues:\n",
    "                combos.append((i, aa))\n",
    "\n",
    "        for c in combos:\n",
    "            seq = list(self.wildtype[:])\n",
    "            seq[c[0]] = c[1]\n",
    "            # Calculate dG as dG_wt -\n",
    "            self.dGs[c] = round(self._lattice.stability(seq, target=self.target), 9) - self.dG0\n",
    "\n",
    "        # Calculate second order coefs\n",
    "        combos = []\n",
    "        sites = list(range(self.conformations.length()))\n",
    "        for i in sites:\n",
    "            other_sites = sites[:]\n",
    "            other_sites.remove(i)\n",
    "            for aa in _residues:\n",
    "                for j in other_sites:\n",
    "                    for aa2 in _residues:\n",
    "                        combos.append((i,aa,j,aa2))\n",
    "\n",
    "        for c in combos:\n",
    "            seq = list(self.wildtype[:])\n",
    "            seq[c[0]] = c[1]\n",
    "            seq[c[2]] = c[3]\n",
    "            # Calculate dG2\n",
    "            self.dGs[c] = round(self._lattice.stability(seq, target=self.target), 9) - (self.dG0 + self.dGs[(c[0],c[1])]+ self.dGs[(c[2],c[3])])\n",
    "\n",
    "    def stability(self, seq, target=None):\n",
    "        # Get additive coefs to build predictions\n",
    "        if target != self.target:\n",
    "            raise Exception(\"Target does not match wildtype target.\")\n",
    "        loci = find_differences(self.wildtype, seq)\n",
    "        add = [(pair[0], seq[pair[0]]) for pair in it.combinations(loci, 1)]\n",
    "        pairs = [(pair[0], seq[pair[0]], pair[1], seq[pair[1]]) for pair in it.combinations(loci, 2)]\n",
    "        dgs = add + pairs\n",
    "        stability = float(self.dG0)\n",
    "        for coef in dgs:\n",
    "            stability += self.dGs[coef]\n",
    "        return stability\n",
    "\n",
    "\n",
    "def kmax2d(arr, k):\n",
    "    n, m = arr.shape\n",
    "    vec = arr.flatten()\n",
    "    vec_ = vec.argsort()[::-1]\n",
    "    top_vec = vec_[:k]\n",
    "    row = top_vec // n\n",
    "    col = top_vec % n\n",
    "    return row, col"
   ]
  },
  {
   "cell_type": "code",
   "execution_count": 13,
   "metadata": {
    "collapsed": true
   },
   "outputs": [],
   "source": [
    "def fracfolded(dG):\n",
    "    return 1.0 / (1.0 + np.exp(dG))\n",
    "\n",
    "def fixation(fitness1, fitness2, N=10e8, *args, **kwargs):\n",
    "    \"\"\" Simple fixation probability between two organism with fitnesses 1 and 2.\n",
    "    Note that N is the effective population size.\n",
    "    .. math::\n",
    "        p_{\\\\text{fixation}} = \\\\frac{1 - e^{-N \\\\frac{f_2-f_1}{f1}}}{1 - e^{-\\\\frac{f_2-f_1}{f1}}}\n",
    "    \"\"\"\n",
    "    sij = (fitness2 - fitness1)/abs(fitness1)\n",
    "    # Check the value of denominator\n",
    "    denominator = 1 - np.exp(-N * sij)\n",
    "    numerator = 1 - np.exp(- sij)\n",
    "    # Calculate the fixation probability\n",
    "    fixation = numerator / denominator\n",
    "    fixation = np.nan_to_num(fixation) \n",
    "    return fixation\n",
    "\n",
    "def walk(seq, lattice, pdensity=0.95, target=None):\n",
    "    \"\"\"\"\"\"\n",
    "    # We create a matrix of possible mutations. Each row is site in the protein\n",
    "    # and each column is one of the 20 possible amino acids. We calculate the\n",
    "    # stability of each mutation in this matrix and choose the n_top_mutations.\n",
    "    # Each of these new mutations become the new starting genotypes for the next\n",
    "    # move. We repeat this process until all paths reach a dG max.\n",
    "    \n",
    "    dG0 = round(lattice.stability(seq, target=target), 9)\n",
    "    ff0 = fracfolded(dG0)\n",
    "    unfinished_paths = [[seq]]\n",
    "    unfinished_ff = [[ff0]]\n",
    "    unfinished_fix = [[0]]\n",
    "    finished_paths = []\n",
    "    finished_ff = []\n",
    "    finished_fix = []\n",
    "    \n",
    "    m = 0\n",
    "    \n",
    "    while len(unfinished_paths) != 0:\n",
    "        finished = True\n",
    "        updated_unfinished_paths = []\n",
    "        updated_unfinished_ff = []\n",
    "        updated_unfinished_fix = []\n",
    "        updated_finished_paths = []\n",
    "        updated_finished_ff = []\n",
    "        updated_finished_fix = []\n",
    "        \n",
    "        # Iterate through paths\n",
    "        for l, path in enumerate(unfinished_paths):\n",
    "            \n",
    "            # construct new trajectories\n",
    "            path_ff = unfinished_ff[l]\n",
    "            path_fix = unfinished_fix[l]\n",
    "            # We're grow our set of paths by n_top_mutations.\n",
    "            mutant = list(path[-1])\n",
    "            current_ff = path_ff[-1]\n",
    "            current_fix = path_fix[-1]\n",
    "\n",
    "            # Construct grid of all stabilities of all amino acids at all sites\n",
    "            AA_grid = np.array([_residues]*length)\n",
    "            dG = np.zeros(AA_grid.shape, dtype=float)\n",
    "            for (i,j), AA in np.ndenumerate(AA_grid):\n",
    "                seq1 = mutant[:]\n",
    "                seq1[i] = AA_grid[i,j]\n",
    "                dG[i,j] = lattice.stability(seq1, target=target)\n",
    "\n",
    "            dG = dG.round(decimals=9)\n",
    "            # Calculate the fraction folded\n",
    "            ff = fracfolded(dG)\n",
    "            # normalized fixation probabilities\n",
    "            fix = fixation(current_ff, ff)\n",
    "            fix = fix / fix.sum()\n",
    "            #print(fix)\n",
    "            \n",
    "            # Find where 95% of the probability density goes.\n",
    "            x, y = kmax2d(fix, fix.size)\n",
    "            prob = []\n",
    "            for k in range(ff.size):\n",
    "                prob.append(fix[y[k], x[k]])\n",
    "                if sum(prob) > pdensity:\n",
    "                    n_top_mutations = k - 1\n",
    "                    break\n",
    "                    \n",
    "            # Walk out to the 95% density paths\n",
    "            for k in range(n_top_mutations):\n",
    "                \n",
    "                # Check that the new moves are better than the current position\n",
    "                newff = ff[y[k], x[k]]\n",
    "                newfix = fix[y[k], x[k]]\n",
    "                \n",
    "                if newff < current_ff:\n",
    "                    finished = False\n",
    "                    new_move = mutant[:]\n",
    "                    new_move[y[k]] = AA_grid[y[k], x[k]]\n",
    "                    new_move = \"\".join(new_move)\n",
    "                    \n",
    "                    # Add paths\n",
    "                    updated_unfinished_paths.append(path + [new_move])\n",
    "                    updated_unfinished_ff.append(path_ff + [newff])\n",
    "                    updated_unfinished_fix.append(path_fix + [newfix])\n",
    "                    \n",
    "                # If there is no fracfolded change, stay at the current position\n",
    "                else:\n",
    "                    finished_paths.append(path)\n",
    "                    finished_ff.append(path_ff)\n",
    "                    finished_fix.append(path_fix)\n",
    "        m += 1\n",
    "        unfinished_paths = updated_unfinished_paths\n",
    "        unfinished_ff = updated_unfinished_ff\n",
    "        unfinished_fix = updated_unfinished_fix\n",
    "        print(m, len(unfinished_paths), n_top_mutations, )\n",
    "\n",
    "    return finished_paths, finished_ff, finished_fix"
   ]
  },
  {
   "cell_type": "code",
   "execution_count": 4,
   "metadata": {
    "collapsed": true
   },
   "outputs": [],
   "source": [
    "from latticeproteins.sequences import random_sequence"
   ]
  },
  {
   "cell_type": "code",
   "execution_count": 5,
   "metadata": {
    "collapsed": true
   },
   "outputs": [],
   "source": [
    "seq1 = \"DKCQCNWCRKFTDQR\"\n",
    "temp = 1 \n",
    "length = len(seq1)\n",
    "target = \"UUURDRURDDLLDR\"\n",
    "# Build the conformation database\n",
    "confs = Conformations(length, \"database\")"
   ]
  },
  {
   "cell_type": "code",
   "execution_count": 6,
   "metadata": {
    "collapsed": true
   },
   "outputs": [],
   "source": [
    "# Create a lattice protein calculator with given temperature and conf database.\n",
    "lattice = LatticeThermodynamics(temp, confs)\n",
    "#lattice_p = PredictedLattice(seq1, temp, confs, target=target)"
   ]
  },
  {
   "cell_type": "code",
   "execution_count": 38,
   "metadata": {},
   "outputs": [
    {
     "name": "stderr",
     "output_type": "stream",
     "text": [
      "/Users/Zsailer/.virtualenvs/py3/lib/python3.5/site-packages/ipykernel_launcher.py:12: RuntimeWarning: overflow encountered in exp\n",
      "  if sys.path[0] == '':\n",
      "/Users/Zsailer/.virtualenvs/py3/lib/python3.5/site-packages/ipykernel_launcher.py:15: RuntimeWarning: invalid value encountered in true_divide\n",
      "  from ipykernel import kernelapp as app\n"
     ]
    },
    {
     "name": "stdout",
     "output_type": "stream",
     "text": [
      "1 7 11\n",
      "2 78 20\n"
     ]
    },
    {
     "ename": "KeyboardInterrupt",
     "evalue": "",
     "output_type": "error",
     "traceback": [
      "\u001b[0;31m---------------------------------------------------------------------------\u001b[0m",
      "\u001b[0;31mKeyboardInterrupt\u001b[0m                         Traceback (most recent call last)",
      "\u001b[0;32m<ipython-input-38-697621a092c7>\u001b[0m in \u001b[0;36m<module>\u001b[0;34m()\u001b[0m\n\u001b[1;32m      1\u001b[0m \u001b[0mn_top_mutations\u001b[0m \u001b[0;34m=\u001b[0m \u001b[0;36m9\u001b[0m\u001b[0;34m\u001b[0m\u001b[0m\n\u001b[1;32m      2\u001b[0m \u001b[0;31m#seq1 = \"TGKGIHSICNQLMEL\" #\"\".join(random_sequence(15))\u001b[0m\u001b[0;34m\u001b[0m\u001b[0;34m\u001b[0m\u001b[0m\n\u001b[0;32m----> 3\u001b[0;31m \u001b[0ma\u001b[0m\u001b[0;34m,\u001b[0m \u001b[0mstabsa\u001b[0m \u001b[0;34m=\u001b[0m \u001b[0mwalk\u001b[0m\u001b[0;34m(\u001b[0m\u001b[0mseq1\u001b[0m\u001b[0;34m,\u001b[0m \u001b[0mlattice\u001b[0m\u001b[0;34m,\u001b[0m \u001b[0mpdensity\u001b[0m\u001b[0;34m=\u001b[0m\u001b[0;36m.05\u001b[0m\u001b[0;34m,\u001b[0m \u001b[0mtarget\u001b[0m\u001b[0;34m=\u001b[0m\u001b[0mtarget\u001b[0m\u001b[0;34m)\u001b[0m\u001b[0;34m\u001b[0m\u001b[0m\n\u001b[0m\u001b[1;32m      4\u001b[0m \u001b[0;31m#p, stabsp = walk(seq1, lattice_p, n_top_mutations=n_top_mutations, target=target)\u001b[0m\u001b[0;34m\u001b[0m\u001b[0;34m\u001b[0m\u001b[0m\n",
      "\u001b[0;32m<ipython-input-35-1aa61a1d837b>\u001b[0m in \u001b[0;36mwalk\u001b[0;34m(seq, lattice, pdensity, target)\u001b[0m\n\u001b[1;32m     62\u001b[0m                 \u001b[0mseq1\u001b[0m \u001b[0;34m=\u001b[0m \u001b[0mmutant\u001b[0m\u001b[0;34m[\u001b[0m\u001b[0;34m:\u001b[0m\u001b[0;34m]\u001b[0m\u001b[0;34m\u001b[0m\u001b[0m\n\u001b[1;32m     63\u001b[0m                 \u001b[0mseq1\u001b[0m\u001b[0;34m[\u001b[0m\u001b[0mi\u001b[0m\u001b[0;34m]\u001b[0m \u001b[0;34m=\u001b[0m \u001b[0mAA_grid\u001b[0m\u001b[0;34m[\u001b[0m\u001b[0mi\u001b[0m\u001b[0;34m,\u001b[0m\u001b[0mj\u001b[0m\u001b[0;34m]\u001b[0m\u001b[0;34m\u001b[0m\u001b[0m\n\u001b[0;32m---> 64\u001b[0;31m                 \u001b[0mdG\u001b[0m\u001b[0;34m[\u001b[0m\u001b[0mi\u001b[0m\u001b[0;34m,\u001b[0m\u001b[0mj\u001b[0m\u001b[0;34m]\u001b[0m \u001b[0;34m=\u001b[0m \u001b[0mlattice\u001b[0m\u001b[0;34m.\u001b[0m\u001b[0mstability\u001b[0m\u001b[0;34m(\u001b[0m\u001b[0mseq1\u001b[0m\u001b[0;34m,\u001b[0m \u001b[0mtarget\u001b[0m\u001b[0;34m=\u001b[0m\u001b[0mtarget\u001b[0m\u001b[0;34m)\u001b[0m\u001b[0;34m\u001b[0m\u001b[0m\n\u001b[0m\u001b[1;32m     65\u001b[0m \u001b[0;34m\u001b[0m\u001b[0m\n\u001b[1;32m     66\u001b[0m             \u001b[0mdG\u001b[0m \u001b[0;34m=\u001b[0m \u001b[0mdG\u001b[0m\u001b[0;34m.\u001b[0m\u001b[0mround\u001b[0m\u001b[0;34m(\u001b[0m\u001b[0mdecimals\u001b[0m\u001b[0;34m=\u001b[0m\u001b[0;36m9\u001b[0m\u001b[0;34m)\u001b[0m\u001b[0;34m\u001b[0m\u001b[0m\n",
      "\u001b[0;32m/Users/Zsailer/Documents/Research/projects/pkgs/latticeproteins/latticeproteins/thermodynamics.py\u001b[0m in \u001b[0;36mstability\u001b[0;34m(self, seq, target)\u001b[0m\n\u001b[1;32m    117\u001b[0m             \u001b[0mFolding\u001b[0m \u001b[0mstability\u001b[0m \u001b[0mof\u001b[0m \u001b[0mthe\u001b[0m \u001b[0mnative\u001b[0m \u001b[0mstate\u001b[0m\u001b[0;34m.\u001b[0m\u001b[0;34m\u001b[0m\u001b[0m\n\u001b[1;32m    118\u001b[0m         \"\"\"\n\u001b[0;32m--> 119\u001b[0;31m         \u001b[0mnativeE_results\u001b[0m \u001b[0;34m=\u001b[0m \u001b[0mself\u001b[0m\u001b[0;34m.\u001b[0m\u001b[0m_nativeE\u001b[0m\u001b[0;34m(\u001b[0m\u001b[0mseq\u001b[0m\u001b[0;34m)\u001b[0m\u001b[0;34m\u001b[0m\u001b[0m\n\u001b[0m\u001b[1;32m    120\u001b[0m         \u001b[0;32mif\u001b[0m \u001b[0mtarget\u001b[0m \u001b[0;32mis\u001b[0m \u001b[0;32mnot\u001b[0m \u001b[0;32mNone\u001b[0m\u001b[0;34m:\u001b[0m\u001b[0;34m\u001b[0m\u001b[0m\n\u001b[1;32m    121\u001b[0m             \u001b[0mminE\u001b[0m \u001b[0;34m=\u001b[0m \u001b[0mfold_energy\u001b[0m\u001b[0;34m(\u001b[0m\u001b[0mseq\u001b[0m\u001b[0;34m,\u001b[0m \u001b[0mtarget\u001b[0m\u001b[0;34m,\u001b[0m \u001b[0mself\u001b[0m\u001b[0;34m.\u001b[0m\u001b[0m_conformations\u001b[0m\u001b[0;34m.\u001b[0m\u001b[0m_interaction_energies\u001b[0m\u001b[0;34m)\u001b[0m\u001b[0;34m\u001b[0m\u001b[0m\n",
      "\u001b[0;32m/Users/Zsailer/Documents/Research/projects/pkgs/latticeproteins/latticeproteins/thermodynamics.py\u001b[0m in \u001b[0;36m_nativeE\u001b[0;34m(self, seq)\u001b[0m\n\u001b[1;32m    102\u001b[0m         \u001b[0;32mif\u001b[0m \u001b[0mlen\u001b[0m\u001b[0;34m(\u001b[0m\u001b[0mseq\u001b[0m\u001b[0;34m)\u001b[0m \u001b[0;34m!=\u001b[0m \u001b[0mself\u001b[0m\u001b[0;34m.\u001b[0m\u001b[0mlength\u001b[0m\u001b[0;34m(\u001b[0m\u001b[0;34m)\u001b[0m\u001b[0;34m:\u001b[0m\u001b[0;34m\u001b[0m\u001b[0m\n\u001b[1;32m    103\u001b[0m             \u001b[0;32mraise\u001b[0m \u001b[0mThermodynamicsError\u001b[0m\u001b[0;34m(\u001b[0m\u001b[0;34m\"Invalid 'seq' of %r.\"\u001b[0m \u001b[0;34m%\u001b[0m \u001b[0mseq\u001b[0m\u001b[0;34m)\u001b[0m\u001b[0;34m\u001b[0m\u001b[0m\n\u001b[0;32m--> 104\u001b[0;31m         \u001b[0;32mreturn\u001b[0m \u001b[0mself\u001b[0m\u001b[0;34m.\u001b[0m\u001b[0m_conformations\u001b[0m\u001b[0;34m.\u001b[0m\u001b[0mfold_sequence\u001b[0m\u001b[0;34m(\u001b[0m\u001b[0mseq\u001b[0m\u001b[0;34m,\u001b[0m \u001b[0mself\u001b[0m\u001b[0;34m.\u001b[0m\u001b[0m_temp\u001b[0m\u001b[0;34m)\u001b[0m\u001b[0;34m\u001b[0m\u001b[0m\n\u001b[0m\u001b[1;32m    105\u001b[0m     \u001b[0;31m#---------------------------------------------------------------------\u001b[0m\u001b[0;34m\u001b[0m\u001b[0;34m\u001b[0m\u001b[0m\n\u001b[1;32m    106\u001b[0m     \u001b[0;32mdef\u001b[0m \u001b[0mstability\u001b[0m\u001b[0;34m(\u001b[0m\u001b[0mself\u001b[0m\u001b[0;34m,\u001b[0m \u001b[0mseq\u001b[0m\u001b[0;34m,\u001b[0m \u001b[0mtarget\u001b[0m\u001b[0;34m=\u001b[0m\u001b[0;32mNone\u001b[0m\u001b[0;34m)\u001b[0m\u001b[0;34m:\u001b[0m\u001b[0;34m\u001b[0m\u001b[0m\n",
      "\u001b[0;32m/Users/Zsailer/Documents/Research/projects/pkgs/latticeproteins/latticeproteins/conformations.py\u001b[0m in \u001b[0;36mfold_sequence\u001b[0;34m(self, seq, temp)\u001b[0m\n\u001b[1;32m    453\u001b[0m \u001b[0;34m\u001b[0m\u001b[0m\n\u001b[1;32m    454\u001b[0m         \u001b[0;31m# Use C function to loop through contacts\u001b[0m\u001b[0;34m\u001b[0m\u001b[0;34m\u001b[0m\u001b[0m\n\u001b[0;32m--> 455\u001b[0;31m         \u001b[0;34m(\u001b[0m\u001b[0mminE\u001b[0m\u001b[0;34m,\u001b[0m \u001b[0mibest\u001b[0m\u001b[0;34m,\u001b[0m \u001b[0mpartitionsum\u001b[0m\u001b[0;34m,\u001b[0m \u001b[0mfolds\u001b[0m\u001b[0;34m)\u001b[0m \u001b[0;34m=\u001b[0m \u001b[0mContactLooper\u001b[0m\u001b[0;34m(\u001b[0m\u001b[0mres_interactions\u001b[0m\u001b[0;34m,\u001b[0m \u001b[0mself\u001b[0m\u001b[0;34m.\u001b[0m\u001b[0m_contactsets\u001b[0m\u001b[0;34m,\u001b[0m \u001b[0mself\u001b[0m\u001b[0;34m.\u001b[0m\u001b[0m_contactsetdegeneracy\u001b[0m\u001b[0;34m,\u001b[0m \u001b[0mfloat\u001b[0m\u001b[0;34m(\u001b[0m\u001b[0mtemp\u001b[0m\u001b[0;34m)\u001b[0m\u001b[0;34m)\u001b[0m\u001b[0;34m\u001b[0m\u001b[0m\n\u001b[0m\u001b[1;32m    456\u001b[0m \u001b[0;34m\u001b[0m\u001b[0m\n\u001b[1;32m    457\u001b[0m         \u001b[0;31m# Set folds to boolean\u001b[0m\u001b[0;34m\u001b[0m\u001b[0;34m\u001b[0m\u001b[0m\n",
      "\u001b[0;31mKeyboardInterrupt\u001b[0m: "
     ]
    }
   ],
   "source": [
    "#n_top_mutations = 9\n",
    "#seq1 = \"TGKGIHSICNQLMEL\" #\"\".join(random_sequence(15))\n",
    "a, stabsa = walk(seq1, lattice, pdensity=.05, target=target)\n",
    "#p, stabsp = walk(seq1, lattice_p, n_top_mutations=n_top_mutations, target=target)"
   ]
  },
  {
   "cell_type": "code",
   "execution_count": 14,
   "metadata": {
    "scrolled": true
   },
   "outputs": [
    {
     "name": "stderr",
     "output_type": "stream",
     "text": [
      "/Users/Zsailer/.virtualenvs/py3/lib/python3.5/site-packages/ipykernel_launcher.py:12: RuntimeWarning: overflow encountered in exp\n",
      "  if sys.path[0] == '':\n",
      "/Users/Zsailer/.virtualenvs/py3/lib/python3.5/site-packages/ipykernel_launcher.py:15: RuntimeWarning: invalid value encountered in true_divide\n",
      "  from ipykernel import kernelapp as app\n"
     ]
    },
    {
     "name": "stdout",
     "output_type": "stream",
     "text": [
      "1 3 9\n",
      "2 12 10\n",
      "3 54 10\n",
      "4 287 8\n",
      "5 1603 30\n",
      "6 8493 28\n"
     ]
    },
    {
     "ename": "KeyboardInterrupt",
     "evalue": "",
     "output_type": "error",
     "traceback": [
      "\u001b[0;31m---------------------------------------------------------------------------\u001b[0m",
      "\u001b[0;31mKeyboardInterrupt\u001b[0m                         Traceback (most recent call last)",
      "\u001b[0;32m<ipython-input-14-5dbf35990900>\u001b[0m in \u001b[0;36m<module>\u001b[0;34m()\u001b[0m\n\u001b[1;32m      1\u001b[0m \u001b[0;31m#n_top_mutations = 9\u001b[0m\u001b[0;34m\u001b[0m\u001b[0;34m\u001b[0m\u001b[0m\n\u001b[0;32m----> 2\u001b[0;31m \u001b[0mp\u001b[0m\u001b[0;34m,\u001b[0m \u001b[0mstabsp\u001b[0m \u001b[0;34m=\u001b[0m \u001b[0mwalk\u001b[0m\u001b[0;34m(\u001b[0m\u001b[0mseq1\u001b[0m\u001b[0;34m,\u001b[0m \u001b[0mlattice_p\u001b[0m\u001b[0;34m,\u001b[0m \u001b[0mpdensity\u001b[0m\u001b[0;34m=\u001b[0m\u001b[0;36m.05\u001b[0m\u001b[0;34m,\u001b[0m \u001b[0mtarget\u001b[0m\u001b[0;34m=\u001b[0m\u001b[0mtarget\u001b[0m\u001b[0;34m)\u001b[0m\u001b[0;34m\u001b[0m\u001b[0m\n\u001b[0m",
      "\u001b[0;32m<ipython-input-13-f5cfc978b0fd>\u001b[0m in \u001b[0;36mwalk\u001b[0;34m(seq, lattice, pdensity, target)\u001b[0m\n\u001b[1;32m     76\u001b[0m             \u001b[0mprob\u001b[0m \u001b[0;34m=\u001b[0m \u001b[0;34m[\u001b[0m\u001b[0;34m]\u001b[0m\u001b[0;34m\u001b[0m\u001b[0m\n\u001b[1;32m     77\u001b[0m             \u001b[0;32mfor\u001b[0m \u001b[0mk\u001b[0m \u001b[0;32min\u001b[0m \u001b[0mrange\u001b[0m\u001b[0;34m(\u001b[0m\u001b[0mff\u001b[0m\u001b[0;34m.\u001b[0m\u001b[0msize\u001b[0m\u001b[0;34m)\u001b[0m\u001b[0;34m:\u001b[0m\u001b[0;34m\u001b[0m\u001b[0m\n\u001b[0;32m---> 78\u001b[0;31m                 \u001b[0mprob\u001b[0m\u001b[0;34m.\u001b[0m\u001b[0mappend\u001b[0m\u001b[0;34m(\u001b[0m\u001b[0mfix\u001b[0m\u001b[0;34m[\u001b[0m\u001b[0my\u001b[0m\u001b[0;34m[\u001b[0m\u001b[0mk\u001b[0m\u001b[0;34m]\u001b[0m\u001b[0;34m,\u001b[0m \u001b[0mx\u001b[0m\u001b[0;34m[\u001b[0m\u001b[0mk\u001b[0m\u001b[0;34m]\u001b[0m\u001b[0;34m]\u001b[0m\u001b[0;34m)\u001b[0m\u001b[0;34m\u001b[0m\u001b[0m\n\u001b[0m\u001b[1;32m     79\u001b[0m                 \u001b[0;32mif\u001b[0m \u001b[0msum\u001b[0m\u001b[0;34m(\u001b[0m\u001b[0mprob\u001b[0m\u001b[0;34m)\u001b[0m \u001b[0;34m>\u001b[0m \u001b[0mpdensity\u001b[0m\u001b[0;34m:\u001b[0m\u001b[0;34m\u001b[0m\u001b[0m\n\u001b[1;32m     80\u001b[0m                     \u001b[0mn_top_mutations\u001b[0m \u001b[0;34m=\u001b[0m \u001b[0mk\u001b[0m \u001b[0;34m-\u001b[0m \u001b[0;36m1\u001b[0m\u001b[0;34m\u001b[0m\u001b[0m\n",
      "\u001b[0;31mKeyboardInterrupt\u001b[0m: "
     ]
    }
   ],
   "source": [
    "#n_top_mutations = 9\n",
    "p, stabsp = walk(seq1, lattice_p, pdensity=.05, target=target)"
   ]
  },
  {
   "cell_type": "code",
   "execution_count": 20,
   "metadata": {
    "collapsed": true
   },
   "outputs": [],
   "source": [
    "import networkx as nx"
   ]
  },
  {
   "cell_type": "markdown",
   "metadata": {},
   "source": [
    "# Construct networks\n"
   ]
  },
  {
   "cell_type": "code",
   "execution_count": 65,
   "metadata": {
    "collapsed": true
   },
   "outputs": [],
   "source": [
    "Ga = nx.DiGraph()\n",
    "paths = np.unique(np.array(a))\n",
    "for path in paths:\n",
    "    for i, source in enumerate(path[:-1]):\n",
    "        target_s = path[i+1]\n",
    "        Ga.add_edge(source,target_s)\n",
    "        \n",
    "Gp = nx.DiGraph()\n",
    "paths = np.unique(np.array(p))\n",
    "for path in paths:\n",
    "    for i, source in enumerate(path[:-1]):\n",
    "        target_s = path[i+1]\n",
    "        Gp.add_edge(source,target_s)\n",
    "        "
   ]
  },
  {
   "cell_type": "code",
   "execution_count": 69,
   "metadata": {
    "collapsed": true
   },
   "outputs": [],
   "source": [
    "# Find all shared nodes.\n",
    "anodes = set(Ga.nodes())\n",
    "pnodes = set(Gp.nodes())\n",
    "shared_nodes = anodes.intersection(pnodes)\n",
    "\n",
    "# Finde shared edges.\n",
    "aedges = set(Ga.edges())\n",
    "pedges = set(Gp.edges())\n",
    "shared_edges = aedges.intersection(pedges)\n",
    "        \n",
    "# ------------------------------------------\n",
    "# Set shared edges\n",
    "# ------------------------------------------\n",
    "for s, t in Ga.edges():\n",
    "    if (s,t) in shared_edges:\n",
    "        Ga.edge[s][t][\"shared\"] = 1\n",
    "    else:\n",
    "        Ga.edge[s][t][\"shared\"] = 0\n",
    "\n",
    "for s, t in Gp.edges():\n",
    "    if (s,t) in shared_edges:\n",
    "        Gp.edge[s][t][\"shared\"] = 1\n",
    "    else:\n",
    "        Gp.edge[s][t][\"shared\"] = 0\n",
    "        \n",
    "        \n",
    "# ------------------------------------------\n",
    "# Set shared nodes and their phenotype\n",
    "# ------------------------------------------\n",
    "for n in Ga.nodes():\n",
    "    if n in shared_nodes:\n",
    "        Ga.node[n][\"shared\"] = 1\n",
    "    else:\n",
    "        Ga.node[n][\"shared\"] = 0\n",
    "    # Calculate dG\n",
    "    Ga.node[n][\"dG\"] = lattice.stability(n, target=target) \n",
    "        \n",
    "for n in Gp.nodes():\n",
    "    if n in shared_nodes:\n",
    "        Gp.node[n][\"shared\"] = 1\n",
    "    else:\n",
    "        Gp.node[n][\"shared\"] = 0\n",
    "    Gp.node[n][\"dG\"] = lattice_p.stability(n, target=target) \n"
   ]
  },
  {
   "cell_type": "code",
   "execution_count": 70,
   "metadata": {
    "collapsed": true
   },
   "outputs": [],
   "source": [
    "nx.write_gml(Gp, \"/Users/Zsailer/Desktop/predicted.gml\")\n",
    "nx.write_gml(Ga, \"/Users/Zsailer/Desktop/actual.gml\")"
   ]
  },
  {
   "cell_type": "code",
   "execution_count": 2,
   "metadata": {
    "collapsed": true
   },
   "outputs": [],
   "source": [
    "def fracfolded(dG):\n",
    "    return 1.0 / (1.0 + np.exp(dG))"
   ]
  },
  {
   "cell_type": "code",
   "execution_count": 30,
   "metadata": {
    "collapsed": true
   },
   "outputs": [],
   "source": [
    "def fixation(fitness1, fitness2, N=10e8, *args, **kwargs):\n",
    "    \"\"\" Simple fixation probability between two organism with fitnesses 1 and 2.\n",
    "    Note that N is the effective population size.\n",
    "    .. math::\n",
    "        p_{\\\\text{fixation}} = \\\\frac{1 - e^{-N \\\\frac{f_2-f_1}{f1}}}{1 - e^{-\\\\frac{f_2-f_1}{f1}}}\n",
    "    \"\"\"\n",
    "    sij = (fitness2 - fitness1)/abs(fitness1)\n",
    "    # Check the value of denominator\n",
    "    denominator = 1 - np.exp(-N * sij)\n",
    "    numerator = 1 - np.exp(- sij)\n",
    "    # Calculate the fixation probability\n",
    "    fixation = numerator / denominator\n",
    "    print(sij)\n",
    "    fixation = np.nan_to_num(fixation) \n",
    "    return fixation"
   ]
  },
  {
   "cell_type": "code",
   "execution_count": 31,
   "metadata": {},
   "outputs": [
    {
     "name": "stdout",
     "output_type": "stream",
     "text": [
      "[[ 0.60255954  0.23735457 -0.20503909 -0.41382138]\n",
      " [ 0.29101621 -0.99407846 -0.18426202 -0.68698845]\n",
      " [ 0.47680034  0.26821303  0.89402296  0.08421895]\n",
      " [ 0.39488356  0.67169487 -0.26096162  0.55545776]\n",
      " [-0.83965227  0.4764156   0.5008277  -0.72730853]]\n"
     ]
    },
    {
     "name": "stderr",
     "output_type": "stream",
     "text": [
      "/Users/Zsailer/.virtualenvs/py3/lib/python3.5/site-packages/ipykernel_launcher.py:9: RuntimeWarning: overflow encountered in exp\n",
      "  if __name__ == '__main__':\n"
     ]
    },
    {
     "data": {
      "text/plain": [
       "array([[ 0.45259127,  0.21128841,  0.        ,  0.        ],\n",
       "       [ 0.25249644,  0.        ,  0.        ,  0.        ],\n",
       "       [ 0.37923354,  0.23525515,  0.59099298,  0.08077003],\n",
       "       [ 0.32624151,  0.48915797,  0.        ,  0.42619046],\n",
       "       [ 0.        ,  0.37899466,  0.39397116,  0.        ]])"
      ]
     },
     "execution_count": 31,
     "metadata": {},
     "output_type": "execute_result"
    }
   ],
   "source": [
    "x = np.random.uniform(size=(5,4))\n",
    "fixation(.5, x)"
   ]
  },
  {
   "cell_type": "code",
   "execution_count": 55,
   "metadata": {
    "collapsed": true
   },
   "outputs": [],
   "source": [
    "x = np.arange(5)\n",
    "y = np.random.choice(5, size=5)\n",
    "coor = np.column_stack((x,y))"
   ]
  },
  {
   "cell_type": "code",
   "execution_count": 56,
   "metadata": {},
   "outputs": [
    {
     "data": {
      "text/plain": [
       "array([[0, 1],\n",
       "       [1, 4],\n",
       "       [2, 4],\n",
       "       [3, 4],\n",
       "       [4, 2]])"
      ]
     },
     "execution_count": 56,
     "metadata": {},
     "output_type": "execute_result"
    }
   ],
   "source": [
    "coor"
   ]
  },
  {
   "cell_type": "code",
   "execution_count": 19,
   "metadata": {
    "collapsed": true
   },
   "outputs": [],
   "source": [
    "z = np.random.uniform(0,10, size=(5,5))"
   ]
  },
  {
   "cell_type": "code",
   "execution_count": 24,
   "metadata": {},
   "outputs": [
    {
     "name": "stdout",
     "output_type": "stream",
     "text": [
      "(0, 3) 6.13686059416\n",
      "(1, 0) 9.38058855215\n",
      "(2, 3) 4.30063764448\n",
      "(3, 1) 2.91769813651\n",
      "(4, 1) 5.39408914596\n"
     ]
    }
   ],
   "source": [
    "for c in coor:\n",
    "    print(c, z[c])"
   ]
  },
  {
   "cell_type": "code",
   "execution_count": 58,
   "metadata": {},
   "outputs": [
    {
     "data": {
      "text/plain": [
       "array([[[ 0.58563509,  1.60956577,  6.58750551,  6.13686059,  4.22713002],\n",
       "        [ 9.38058855,  8.63684649,  2.36109723,  3.72194388,  0.88740004]],\n",
       "\n",
       "       [[ 9.38058855,  8.63684649,  2.36109723,  3.72194388,  0.88740004],\n",
       "        [ 9.27166269,  5.39408915,  8.65816294,  0.85811775,  3.97609685]],\n",
       "\n",
       "       [[ 4.28943712,  1.80100189,  5.72056801,  4.30063764,  4.02819849],\n",
       "        [ 9.27166269,  5.39408915,  8.65816294,  0.85811775,  3.97609685]],\n",
       "\n",
       "       [[ 6.22522665,  2.91769814,  4.23479357,  6.28037383,  2.93640258],\n",
       "        [ 9.27166269,  5.39408915,  8.65816294,  0.85811775,  3.97609685]],\n",
       "\n",
       "       [[ 9.27166269,  5.39408915,  8.65816294,  0.85811775,  3.97609685],\n",
       "        [ 4.28943712,  1.80100189,  5.72056801,  4.30063764,  4.02819849]]])"
      ]
     },
     "execution_count": 58,
     "metadata": {},
     "output_type": "execute_result"
    }
   ],
   "source": [
    "z[coor]"
   ]
  },
  {
   "cell_type": "code",
   "execution_count": 62,
   "metadata": {},
   "outputs": [
    {
     "data": {
      "text/plain": [
       "array([ 1.60956577,  0.88740004,  4.02819849,  2.93640258,  8.65816294])"
      ]
     },
     "execution_count": 62,
     "metadata": {},
     "output_type": "execute_result"
    }
   ],
   "source": [
    "z[x,y]"
   ]
  },
  {
   "cell_type": "code",
   "execution_count": 75,
   "metadata": {
    "collapsed": true
   },
   "outputs": [],
   "source": [
    "def kmax(arr, k):\n",
    "    \"\"\"Return the (row, col) indices of the n largest arguments in the 2d array.\n",
    "\n",
    "    Parameters\n",
    "    ----------\n",
    "    arr : array\n",
    "        2d numpy array\n",
    "    k : int\n",
    "        number of arguments to select.\n",
    "\n",
    "    Returns\n",
    "    -------\n",
    "    elements : 1-D array\n",
    "        \n",
    "    \"\"\"\n",
    "    if len(arr.shape) != 2:\n",
    "        \n",
    "    n, m = arr.shape\n",
    "    vec = arr.flatten()\n",
    "    vec_ = vec.argsort()[::-1]\n",
    "    top_vec = vec_[:k]\n",
    "    row = top_vec // n\n",
    "    col = top_vec % n\n",
    "    indices = np.column_stack((row, col))\n",
    "    return arr[row, col], indices"
   ]
  },
  {
   "cell_type": "code",
   "execution_count": 76,
   "metadata": {
    "collapsed": true
   },
   "outputs": [],
   "source": [
    "x = np.random.uniform(0,10, size=(3,3))"
   ]
  },
  {
   "cell_type": "code",
   "execution_count": 80,
   "metadata": {},
   "outputs": [
    {
     "name": "stdout",
     "output_type": "stream",
     "text": [
      "[ 9.6750564   9.17476171]\n",
      "[[0 2]\n",
      " [1 0]]\n"
     ]
    }
   ],
   "source": [
    "stuff, coor = kmax(x, 2)\n",
    "print(stuff)\n",
    "print(coor)"
   ]
  },
  {
   "cell_type": "code",
   "execution_count": 86,
   "metadata": {},
   "outputs": [
    {
     "data": {
      "text/plain": [
       "array([2, 0])"
      ]
     },
     "execution_count": 86,
     "metadata": {},
     "output_type": "execute_result"
    }
   ],
   "source": [
    "coor[:,1]"
   ]
  },
  {
   "cell_type": "code",
   "execution_count": 2,
   "metadata": {
    "collapsed": true
   },
   "outputs": [],
   "source": [
    "import numpy as np\n",
    "from latticeproteins.sequences import _residues"
   ]
  },
  {
   "cell_type": "code",
   "execution_count": 4,
   "metadata": {
    "collapsed": true
   },
   "outputs": [],
   "source": [
    "AA_grid = np.array([_residues]*10)"
   ]
  },
  {
   "cell_type": "code",
   "execution_count": 6,
   "metadata": {},
   "outputs": [
    {
     "data": {
      "text/plain": [
       "array(['A', 'C', 'D', 'E', 'F', 'G', 'H', 'I', 'K', 'L', 'M', 'N', 'P',\n",
       "       'Q', 'R', 'S', 'T', 'V', 'W', 'Y'], \n",
       "      dtype='<U1')"
      ]
     },
     "execution_count": 6,
     "metadata": {},
     "output_type": "execute_result"
    }
   ],
   "source": [
    "AA_grid[0]"
   ]
  },
  {
   "cell_type": "code",
   "execution_count": 67,
   "metadata": {
    "collapsed": true
   },
   "outputs": [],
   "source": [
    "import numpy as np\n",
    "from latticeproteins.sequences import _residues\n",
    "import np2d\n",
    "\n",
    "def fixation(fitness1, fitness2, N=10e8, *args, **kwargs):\n",
    "    \"\"\" Simple fixation probability between two organism with fitnesses 1 and 2.\n",
    "    Note that N is the effective population size.\n",
    "    .. math::\n",
    "        p_{\\\\text{fixation}} = \\\\frac{1 - e^{-N \\\\frac{f_2-f_1}{f1}}}{1 - e^{-\\\\frac{f_2-f_1}{f1}}}\n",
    "    \"\"\"\n",
    "    sij = (fitness2 - fitness1)/abs(fitness1)\n",
    "    # Check the value of denominator\n",
    "    denominator = 1 - np.exp(-N * sij)\n",
    "    numerator = 1 - np.exp(- sij)\n",
    "    # Calculate the fixation probability\n",
    "    fixation = numerator / denominator\n",
    "    fixation = np.nan_to_num(fixation) \n",
    "    return fixation\n",
    "\n",
    "def mont_carlo_fixation_walk(seq, lattice, selected_trait=\"fracfolded\", fix_threshold=0.5, max_mutations=15, target=None):\n",
    "    \"\"\"Use Monte Carlo method to walk\n",
    "    \n",
    "    Parameters\n",
    "    ----------\n",
    "    seq : str \n",
    "        seq\n",
    "    lattice : LatticeThermodynamics object \n",
    "        Lattice protein calculator\n",
    "    selected_trait : str\n",
    "        The trait to select. \n",
    "    fix_threshold : float\n",
    "        Fixation threshold.\n",
    "    max_mutations : int (default = 15)\n",
    "        Max number of mutations to make in the walk. \n",
    "    target : str \n",
    "        selected lattice target conformation. If None, the lattice will\n",
    "        fold to the natural native conformation.\n",
    "    \"\"\"\n",
    "    fitness_method = getattr(lattice, selected_trait)\n",
    "    fitness0 = fitness_method(seq, target=target)\n",
    "    finished = False\n",
    "    mutant = list(seq[:])\n",
    "    path, fitness, probs = (seq,), (fitness0,), (0,)\n",
    "    # Monte Carlo move.\n",
    "    m = 0\n",
    "    while finished is False and m < max_mutations:\n",
    "\n",
    "        # Construct grid of all stabilities of all amino acids at all sites\n",
    "        AA_grid = np.array([_residues]*length)\n",
    "        fits = np.zeros(AA_grid.shape, dtype=float)\n",
    "        for (i,j), AA in np.ndenumerate(AA_grid):\n",
    "            seq1 = mutant[:]\n",
    "            seq1[i] = AA_grid[i,j]\n",
    "            fits[i,j] = fitness_method(seq1, target=target)\n",
    "            \n",
    "            \n",
    "        # Calculate fitness for all neighbors in sequence space\n",
    "        fix = fixation(fitness0, fits)\n",
    "        \n",
    "        # Normalize\n",
    "        denom = fix.sum()\n",
    "        p = fix / denom\n",
    "        \n",
    "        # Sample moves\n",
    "        mutation, indices = np2d.random.choice(AA_grid, p=p)\n",
    "        site = indices[0,0]\n",
    "        AA = indices[0,1]\n",
    "        mutant[site] = mutation\n",
    "\n",
    "        # Update our trajectory\n",
    "        path += (\"\".join(mutant),)\n",
    "        fitness += (fits[site, AA],)\n",
    "        probs += (fix[site, AA],)\n",
    "        fitness0 = fits[site, AA]\n",
    "    \n",
    "        # Check criteria to kill the trajectory\n",
    "        # If the total probability of a mutation fixing is < 5%,\n",
    "        # then kill the loop.\n",
    "        if denom < fix_threshold:\n",
    "            finished = True\n",
    "        m += 1\n",
    "        \n",
    "    return path, fitness, probs"
   ]
  },
  {
   "cell_type": "code",
   "execution_count": 68,
   "metadata": {
    "collapsed": true
   },
   "outputs": [],
   "source": [
    "#seq1 = \"DKCQCNWCRKFTDQR\"\n",
    "temp = 1 \n",
    "length = len(seq1)\n",
    "target = \"UUURDRURDDLLDR\"\n",
    "# Build the conformation database\n",
    "confs = Conformations(length, \"database\")\n",
    "lattice = LatticeThermodynamics(temp, confs)"
   ]
  },
  {
   "cell_type": "code",
   "execution_count": 69,
   "metadata": {
    "scrolled": false
   },
   "outputs": [
    {
     "name": "stderr",
     "output_type": "stream",
     "text": [
      "/Users/Zsailer/.virtualenvs/py3/lib/python3.5/site-packages/ipykernel_launcher.py:13: RuntimeWarning: overflow encountered in exp\n",
      "  del sys.path[0]\n",
      "/Users/Zsailer/.virtualenvs/py3/lib/python3.5/site-packages/ipykernel_launcher.py:16: RuntimeWarning: invalid value encountered in true_divide\n",
      "  app.launch_new_instance()\n"
     ]
    }
   ],
   "source": [
    "#for i in range(1000):\n",
    "path, fitness, probs = mont_carlo_fixation_walk(seq1, lattice, target=target, max_mutations=40)"
   ]
  }
 ],
 "metadata": {
  "kernelspec": {
   "display_name": "Python 3",
   "language": "python",
   "name": "python3"
  },
  "language_info": {
   "codemirror_mode": {
    "name": "ipython",
    "version": 3
   },
   "file_extension": ".py",
   "mimetype": "text/x-python",
   "name": "python",
   "nbconvert_exporter": "python",
   "pygments_lexer": "ipython3",
   "version": "3.5.2"
  }
 },
 "nbformat": 4,
 "nbformat_minor": 2
}
