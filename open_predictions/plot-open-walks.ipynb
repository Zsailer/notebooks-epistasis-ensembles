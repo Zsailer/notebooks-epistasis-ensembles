{
 "cells": [
  {
   "cell_type": "markdown",
   "metadata": {},
   "source": [
    "# Imports and functions"
   ]
  },
  {
   "cell_type": "code",
   "execution_count": 1,
   "metadata": {
    "collapsed": true
   },
   "outputs": [],
   "source": [
    "%matplotlib inline\n",
    "import pickle\n",
    "import numpy as np\n",
    "import matplotlib.pyplot as plt\n",
    "from open_walk_analysis import *"
   ]
  },
  {
   "cell_type": "markdown",
   "metadata": {},
   "source": [
    "# Load data"
   ]
  },
  {
   "cell_type": "code",
   "execution_count": 2,
   "metadata": {
    "collapsed": true
   },
   "outputs": [],
   "source": [
    "folder = \"full-state-predictions\"\n",
    "dataset = 0\n",
    "\n",
    "with open(folder+\"/results/walks-actual\"+str(dataset)+\".pickle\", \"rb\") as f:\n",
    "    edges0 = pickle.load(f)\n",
    "with open(folder+\"/results/walks-predicted2-\"+str(dataset)+\".pickle\", \"rb\") as f:\n",
    "    edges2 = pickle.load(f)\n",
    "\n",
    "seq = edges0[0][0][0]"
   ]
  },
  {
   "cell_type": "code",
   "execution_count": 3,
   "metadata": {},
   "outputs": [],
   "source": [
    "def top_path(G): \n",
    "    # Find center of G\n",
    "    source = get_source_node(G)\n",
    "    # Find moves away from center\n",
    "    rings = ring_levels(G, source)\n",
    "    # Get further derived sequences\n",
    "    try:\n",
    "        ends = rings[6] # only 6 moves away\n",
    "\n",
    "        # Build a dictionary of node flux to \n",
    "        options = dict([(end, G.node[end]['flux']) for end in ends])\n",
    "\n",
    "        sequences = np.array(list(options.keys()))\n",
    "        fluxes = np.array(list(options.values()))\n",
    "\n",
    "        # Find the highest flux sequence\n",
    "        most_probable_node = np.argmax(fluxes)\n",
    "        max_seq = sequences[most_probable_node]\n",
    "\n",
    "        # Return that sequence\n",
    "        return (source, max_seq)\n",
    "    except: \n",
    "        return None"
   ]
  },
  {
   "cell_type": "code",
   "execution_count": 4,
   "metadata": {
    "scrolled": false
   },
   "outputs": [],
   "source": [
    "dfluxes = dict([(i, []) for i in range(7)])\n",
    "gpms = {}\n",
    "\n",
    "# Iterate through many datasets\n",
    "for d in range(0, 5):\n",
    "    \n",
    "    # Load dataset\n",
    "    with open(folder+\"/results/walks-actual\"+str(d)+\".pickle\", \"rb\") as f:\n",
    "        edges0 = pickle.load(f)\n",
    "    \n",
    "    with open(folder+\"/results/walks-predicted2-\"+str(d)+\".pickle\", \"rb\") as f:\n",
    "        edges2 = pickle.load(f)    \n",
    "    \n",
    "    # Formulate as networks\n",
    "    G0, G2, Gdiff = build_graphs(edges0, edges2)\n",
    "    rings = ring_levels(Gdiff, get_source_node(Gdiff))\n",
    "\n",
    "    # Add to summary statistic\n",
    "    for ring, sequences in rings.items():\n",
    "\n",
    "        if  ring < 7:\n",
    "\n",
    "            diff, denom1, denom2 = 0, 0, 0\n",
    "            for i in sequences:\n",
    "\n",
    "                # Add up total flux exchange, and the difference between two networks\n",
    "                for j in Gdiff.neighbors(i):\n",
    "\n",
    "                    diff += Gdiff.edge[i][j][\"weight\"]\n",
    "                    try: denom1 += G0.edge[i][j][\"delta_flux\"]\n",
    "                    except: pass\n",
    "\n",
    "                    try: denom2 += G2.edge[i][j][\"delta_flux\"]\n",
    "                    except: pass\n",
    "\n",
    "            denom = denom1 + denom2\n",
    "\n",
    "            # Normalize the flux exchange at this hamming distance\n",
    "            if denom != 0:\n",
    "                dfluxes[ring].append(diff/denom)\n",
    "            elif diff == 0: pass\n",
    "            else:\n",
    "                dfluxes[ring].append(0)\n",
    "\n",
    "    gpms[d] = top_path(G0)"
   ]
  },
  {
   "cell_type": "code",
   "execution_count": 5,
   "metadata": {},
   "outputs": [
    {
     "name": "stderr",
     "output_type": "stream",
     "text": [
      "/Users/Zsailer/.virtualenvs/py3/lib/python3.5/site-packages/numpy/core/fromnumeric.py:2889: RuntimeWarning: Mean of empty slice.\n",
      "  out=out, **kwargs)\n",
      "/Users/Zsailer/.virtualenvs/py3/lib/python3.5/site-packages/numpy/core/_methods.py:80: RuntimeWarning: invalid value encountered in double_scalars\n",
      "  ret = ret.dtype.type(ret / rcount)\n"
     ]
    },
    {
     "data": {
      "text/plain": [
       "<matplotlib.text.Text at 0x106dc9978>"
      ]
     },
     "execution_count": 5,
     "metadata": {},
     "output_type": "execute_result"
    },
    {
     "data": {
      "image/png": "[encoded data removed]",
      "text/plain": [
       "<matplotlib.figure.Figure at 0x107298668>"
      ]
     },
     "metadata": {},
     "output_type": "display_data"
    }
   ],
   "source": [
    "fig, ax = plt.subplots()\n",
    "means = []\n",
    "for key, val in dfluxes.items(): \n",
    "    #if key > 0:\n",
    "    y = np.array(val)\n",
    "    ymean = np.mean(y)\n",
    "    x = np.ones(len(y)) * (key+1)\n",
    "    xjitter = x + np.random.randn(len(x))* .1\n",
    "    ax.scatter(xjitter,y, marker=\"o\", color=\"gray\", alpha=1)\n",
    "    means.append(ymean)\n",
    "\n",
    "x = range(1, 8)\n",
    "y = means\n",
    "ax.plot(x,y)\n",
    "ax.set_xlabel(\"hamming distance\")\n",
    "ax.set_ylabel(\"$\\\\theta$\")"
   ]
  },
  {
   "cell_type": "code",
   "execution_count": 6,
   "metadata": {},
   "outputs": [],
   "source": [
    "from gpmap.utils import binary_mutations_map\n",
    "from latticegpm import LatticeGenotypePhenotypeMap\n",
    "from latticeproteins.conformations import Conformations\n",
    "from epistasis.models import EpistasisLinearRegression"
   ]
  },
  {
   "cell_type": "code",
   "execution_count": 49,
   "metadata": {},
   "outputs": [],
   "source": [
    "def epistasis_between_pair(pair, target):\n",
    "    \"\"\"Calculate the epistasis between two sequences\"\"\"\n",
    "    # Prepare for GenotypePhenotypeMap\n",
    "    wildtype = pair[0]\n",
    "    length = len(wildtype)\n",
    "    mutations = binary_mutations_map(*pair)\n",
    "    c = Conformations(length)\n",
    "\n",
    "    # Construct a genotype-phenotype map\n",
    "    gpm = LatticeGenotypePhenotypeMap(wildtype, mutations=mutations, target_conf=target)\n",
    "    gpm.fold(Conformations=Conformations(12))\n",
    "\n",
    "    # Fit a high-order epistasis model\n",
    "    model = EpistasisLinearRegression.from_gpm(gpm, order=7, model_type=\"local\")\n",
    "    model.fit()\n",
    "\n",
    "    epistasis = []\n",
    "    for i in range(1,8):\n",
    "        z = model.epistasis.get_orders(i)\n",
    "        epistasis.append(np.mean(z.values))\n",
    "\n",
    "    return epistasis"
   ]
  },
  {
   "cell_type": "code",
   "execution_count": null,
   "metadata": {
    "collapsed": true
   },
   "outputs": [],
   "source": []
  }
 ],
 "metadata": {
  "kernelspec": {
   "display_name": "py3",
   "language": "python",
   "name": "py3"
  },
  "language_info": {
   "codemirror_mode": {
    "name": "ipython",
    "version": 3
   },
   "file_extension": ".py",
   "mimetype": "text/x-python",
   "name": "python",
   "nbconvert_exporter": "python",
   "pygments_lexer": "ipython3",
   "version": "3.5.2"
  }
 },
 "nbformat": 4,
 "nbformat_minor": 2
}
