{
 "cells": [
  {
   "cell_type": "code",
   "execution_count": 54,
   "metadata": {
    "collapsed": true
   },
   "outputs": [],
   "source": [
    "%matplotlib inline\n",
    "import matplotlib.pyplot as plt\n",
    "import numpy as np\n",
    "import h5py"
   ]
  },
  {
   "cell_type": "code",
   "execution_count": 56,
   "metadata": {
    "collapsed": true
   },
   "outputs": [],
   "source": [
    "class Data(object):\n",
    "    def __init__(self, fname):\n",
    "        self.f = h5py.File(fname, \"r\")\n",
    "        \n",
    "    @property\n",
    "    def sequences(self):\n",
    "        return self.f[\"sequences\"].value\n",
    "    \n",
    "    @property\n",
    "    def phi2(self):\n",
    "        return self.f[\"phi-2\"].value\n",
    "\n",
    "    @property\n",
    "    def phi3(self):\n",
    "        return self.f[\"phi-3\"].value\n",
    "    \n",
    "    @property\n",
    "    def phifull(self):\n",
    "        return self.f[\"phi-full\"].value\n",
    "    \n",
    "    @property\n",
    "    def rsquared2(self):\n",
    "        return self.f[\"rsquared-2\"].value\n",
    "\n",
    "    @property\n",
    "    def rsquared3(self):\n",
    "        return self.f[\"rsquared-3\"].value"
   ]
  },
  {
   "cell_type": "code",
   "execution_count": 57,
   "metadata": {
    "collapsed": true
   },
   "outputs": [],
   "source": [
    "d = Data(\"scripts/lattice-8site-full.hdf5\")"
   ]
  },
  {
   "cell_type": "code",
   "execution_count": 62,
   "metadata": {},
   "outputs": [],
   "source": [
    "with open(\"phifull.csv\", \"w\") as f:\n",
    "    for i in range(100):\n",
    "        wildtype = d.sequences[i][0].astype(str)\n",
    "        mutant = d.sequences[i][1].astype(str) \n",
    "        vals = \",\".join([str(val) for val in d.phifull[i]])\n",
    "        f.write(\",\".join([wildtype,mutant,vals]) + \"\\n\")"
   ]
  },
  {
   "cell_type": "code",
   "execution_count": 58,
   "metadata": {},
   "outputs": [
    {
     "data": {
      "image/png": "[encoded data removed]",
      "text/plain": [
       "<matplotlib.figure.Figure at 0x7fcad8ccca20>"
      ]
     },
     "metadata": {},
     "output_type": "display_data"
    }
   ],
   "source": [
    "m = np.mean(d.phifull, axis=0)\n",
    "s = np.std(d.phifull, axis=0)\n",
    "for i in range(0,8):\n",
    "    plt.bar(i+1, m[i], yerr=s[i], color=\"C\"+str(i))"
   ]
  },
  {
   "cell_type": "code",
   "execution_count": 4,
   "metadata": {
    "collapsed": false
   },
   "outputs": [
    {
     "data": {
      "image/png": "[encoded data removed]",
      "text/plain": [
       "<matplotlib.figure.Figure at 0x7fcadb2cbe48>"
      ]
     },
     "metadata": {},
     "output_type": "display_data"
    }
   ],
   "source": [
    "m = np.mean(d.phi2, axis=0)\n",
    "s = np.std(d.phi2, axis=0)\n",
    "for i in range(0,8):\n",
    "    plt.bar(i+1, m[i], yerr=s[i], color=\"C\"+str(i))"
   ]
  },
  {
   "cell_type": "code",
   "execution_count": 10,
   "metadata": {
    "collapsed": false
   },
   "outputs": [
    {
     "data": {
      "image/png": "[encoded data removed]",
      "text/plain": [
       "<matplotlib.figure.Figure at 0x7fe1f96e8358>"
      ]
     },
     "metadata": {},
     "output_type": "display_data"
    }
   ],
   "source": [
    "m = np.mean(d.phi3, axis=0)\n",
    "s = np.std(d.phi3, axis=0)\n",
    "for i in range(0,8):\n",
    "    plt.bar(i+1, m[i], yerr=s[i], color=\"C\"+str(i))"
   ]
  },
  {
   "cell_type": "code",
   "execution_count": 37,
   "metadata": {},
   "outputs": [],
   "source": [
    "def stats(vals):\n",
    "    vals.sort(axis=0)\n",
    "    mean = np.mean(vals, axis=0)\n",
    "    #print(vals)\n",
    "    lower = vals[15]\n",
    "    upper = vals[85]\n",
    "    return mean, mean - lower, upper - mean"
   ]
  },
  {
   "cell_type": "code",
   "execution_count": 52,
   "metadata": {},
   "outputs": [
    {
     "data": {
      "image/png": "[encoded data removed]",
      "text/plain": [
       "<matplotlib.figure.Figure at 0x7fcad8caa588>"
      ]
     },
     "metadata": {},
     "output_type": "display_data"
    }
   ],
   "source": [
    "fig, ax = plt.subplots(figsize=(3,2))\n",
    "for i in range(8):\n",
    "    m, lower, upper = stats(d.rsquared2[:, i, :])\n",
    "    #m = np.mean(d.rsquared2[:, i, :], axis=0)\n",
    "    #s = np.std(d.rsquared2[:, i, :], axis=0)\n",
    "    ax.plot(range(1,9), m)#, yerr=[lower,upper])\n",
    "\n",
    "ticks = ax.set_xticks(range(1,9))\n",
    "ticks = ax.set_yticks([0,.5,1])\n",
    "ax.spines[\"right\"].set_visible(False)\n",
    "ax.spines[\"top\"].set_visible(False)\n",
    "\n",
    "fig.savefig(\"2-state-predictions.pdf\", format=\"pdf\")"
   ]
  },
  {
   "cell_type": "code",
   "execution_count": 53,
   "metadata": {
    "collapsed": false
   },
   "outputs": [
    {
     "data": {
      "image/png": "[encoded data removed]",
      "text/plain": [
       "<matplotlib.figure.Figure at 0x7fcad8c89a90>"
      ]
     },
     "metadata": {},
     "output_type": "display_data"
    }
   ],
   "source": [
    "fig, ax = plt.subplots(figsize=(3,2))\n",
    "\n",
    "for i in range(8):\n",
    "    m, lower, upper = stats(d.rsquared3[:, i, :])\n",
    "    ax.plot(range(1,9), m)#, yerr=[lower, upper])\n",
    "    \n",
    "ticks = ax.set_xticks(range(1,9))\n",
    "ticks = ax.set_yticks([0,.5,1])\n",
    "\n",
    "ax.spines[\"right\"].set_visible(False)\n",
    "ax.spines[\"top\"].set_visible(False)\n",
    "\n",
    "fig.savefig(\"3-state-predictions.pdf\", format=\"pdf\")"
   ]
  },
  {
   "cell_type": "markdown",
   "metadata": {},
   "source": [
    "# FOR TESTING"
   ]
  },
  {
   "cell_type": "code",
   "execution_count": 48,
   "metadata": {
    "collapsed": true
   },
   "outputs": [],
   "source": [
    "import numpy as np\n",
    "import h5py\n",
    "import networkx as nx\n",
    "\n",
    "from epistasis.models.linear import EpistasisLinearRegression\n",
    "from epistasis.simulate import LinearSimulation, NonlinearSimulation\n",
    "from epistasis.stats import pearson\n",
    "from epistasis.plot import coefs\n",
    "\n",
    "from gpmap.evolve.models import fixation\n",
    "from gpmap.graph.paths import path_probabilities, paths_and_probabilities\n",
    "\n",
    "from latticeproteins.sequences import RandomSequence\n",
    "\n",
    "from latticegpm import LatticeGenotypePhenotypeMap\n",
    "from latticegpm.thermo import LatticeThermodynamics\n",
    "from latticegpm.search import adaptive_walk, get_lowest_confs"
   ]
  },
  {
   "cell_type": "code",
   "execution_count": 44,
   "metadata": {},
   "outputs": [],
   "source": [
    "def prob_walk_to_other_genotypes(local_model, subpaths):\n",
    "    \"\"\"Calculate the probability of walking to nodes away from ancestor.\n",
    "\n",
    "    - Output is a list of lists of lists containing (model-order, probabilites).\n",
    "    - output[0][0] is a list predicted probabilities using model 0 to genotypes\n",
    "      1 mutation away.\n",
    "    \"\"\"\n",
    "    # Quick check.\n",
    "    if local_model.model_type != \"local\":\n",
    "        raise Exception(\"Argument must be a local model.\")\n",
    "\n",
    "    def frac_folded(x):\n",
    "        return 1 / (1 + np.exp(x))\n",
    "\n",
    "    output = []\n",
    "    for order in range(1, 9):\n",
    "        # Build truncated simulation from local model coefs\n",
    "        em = local_model.epistasis.get_orders(*list(range(order+1)))\n",
    "        sim = NonlinearSimulation.from_coefs(\n",
    "            local_model.gpm.wildtype,\n",
    "            local_model.gpm.mutations,\n",
    "            em.labels,\n",
    "            em.values,\n",
    "            function=frac_folded,\n",
    "            model_type=\"local\")\n",
    "        mapping = sim.map(\"genotypes\", \"indices\")\n",
    "        source = mapping[wildtype]\n",
    "        Gsim = sim.add_networkx()\n",
    "        Gsim.add_evolutionary_model(fixation)\n",
    "\n",
    "        # Probability of moves away.\n",
    "        probs = []\n",
    "        for n_mut, trajs in enumerate(subpaths):\n",
    "            probs.append(path_probabilities(Gsim, trajs))\n",
    "        output.append(probs)\n",
    "\n",
    "    return output\n",
    "\n",
    "def rsquared_between_paths(summary):\n",
    "    \"\"\"Compare truncated model trajectory predictions to the full order model.\n",
    "\n",
    "    Summary is the output from `prob_walk_to_other_genotypes`\n",
    "    \"\"\"\n",
    "    rsquareds = []\n",
    "    actual = summary[-1]\n",
    "    for i, trajs in enumerate(summary):\n",
    "        results = []\n",
    "        for n_muts, trunc_ in enumerate(summary[i]):\n",
    "            real = np.array(actual[n_muts])\n",
    "            trunc = np.array(trunc_)\n",
    "            r2 = pearson(real, trunc)**2\n",
    "            if np.isnan(r2):\n",
    "                r2 = 0\n",
    "            results.append(r2)\n",
    "        rsquareds.append(results)\n",
    "    return rsquareds"
   ]
  },
  {
   "cell_type": "code",
   "execution_count": 36,
   "metadata": {
    "collapsed": false
   },
   "outputs": [],
   "source": [
    "i = 1\n",
    "wildtype = d.sequences[i][0].astype(str)\n",
    "mutant = d.sequences[i][1].astype(str)"
   ]
  },
  {
   "cell_type": "code",
   "execution_count": 51,
   "metadata": {
    "collapsed": false
   },
   "outputs": [],
   "source": [
    "cs = get_lowest_confs(wildtype, 3, database=\"scripts/database\")\n",
    "wt = LatticeThermodynamics(wildtype, conf_list=cs[0:2], temperature=1)\n",
    "mut = LatticeThermodynamics(mutant, conf_list=cs[0:2], temperature=1)"
   ]
  },
  {
   "cell_type": "code",
   "execution_count": 64,
   "metadata": {
    "collapsed": false
   },
   "outputs": [
    {
     "name": "stderr",
     "output_type": "stream",
     "text": [
      "/home/zsailer/virtual/py3/lib/python3.5/site-packages/sklearn/base.py:175: DeprecationWarning: inspect.getargspec() is deprecated, use inspect.signature() instead\n",
      "  args, varargs, kw, default = inspect.getargspec(init)\n",
      "/home/zsailer/virtual/py3/lib/python3.5/site-packages/sklearn/base.py:175: DeprecationWarning: inspect.getargspec() is deprecated, use inspect.signature() instead\n",
      "  args, varargs, kw, default = inspect.getargspec(init)\n"
     ]
    }
   ],
   "source": [
    "# Build a list of subpaths that we care about\n",
    "gpm = LatticeGenotypePhenotypeMap.from_Lattice(wt, mut, target_conf=wt.conf_list[0])\n",
    "G = gpm.add_networkx()\n",
    "mapping = gpm.map(\"genotypes\", \"indices\")\n",
    "source = mapping[wildtype]\n",
    "target = mapping[mutant]\n",
    "\n",
    "subpaths = [[] for i in range(8)]\n",
    "for g in gpm.genotypes[1:]:\n",
    "    target = mapping[g]\n",
    "    paths = list(nx.all_shortest_paths(G, source, target))\n",
    "    binary = gpm.binary.genotypes[target]\n",
    "    n = binary.count(\"1\")-1\n",
    "    subpaths[n] += (paths)\n",
    "\n",
    "gpm.phenotype_type = \"stabilities\"\n",
    "lmodel2 = EpistasisLinearRegression.from_gpm(gpm, order=8, model_type=\"local\")\n",
    "lmodel2.fit()\n",
    "            \n",
    "#gpm = LatticeGenotypePhenotypeMap.from_Lattice(wt, mut, temperature=1, target_conf=wt.conf_list[0])\n",
    "gpm.phenotype_type = \"stabilities\"\n",
    "gmodel2 = EpistasisLinearRegression.from_gpm(gpm, order=8, model_type=\"global\")\n",
    "gmodel2.fit()"
   ]
  },
  {
   "cell_type": "code",
   "execution_count": 68,
   "metadata": {},
   "outputs": [],
   "source": [
    "from epistasis.plot import coefs"
   ]
  },
  {
   "cell_type": "code",
   "execution_count": 72,
   "metadata": {},
   "outputs": [
    {
     "data": {
      "text/plain": [
       "(<matplotlib.figure.Figure at 0x7f163f4916a0>,\n",
       " [<matplotlib.axes._subplots.AxesSubplot at 0x7f163f44ff28>,\n",
       "  <matplotlib.axes._subplots.AxesSubplot at 0x7f163f060390>])"
      ]
     },
     "execution_count": 72,
     "metadata": {},
     "output_type": "execute_result"
    },
    {
     "data": {
      "image/png": "[encoded data removed]",
      "text/plain": [
       "<matplotlib.figure.Figure at 0x7f163f4916a0>"
      ]
     },
     "metadata": {},
     "output_type": "display_data"
    }
   ],
   "source": [
    "coefs(lmodel2.epistasis.values, lmodel2.epistasis.labels)"
   ]
  },
  {
   "cell_type": "code",
   "execution_count": 70,
   "metadata": {
    "collapsed": true
   },
   "outputs": [
    {
     "name": "stderr",
     "output_type": "stream",
     "text": [
      "/home/zsailer/github/gpmap/gpmap/evolve/models.py:13: RuntimeWarning: overflow encountered in exp\n",
      "  denominator = 1 - np.exp(-N * sij)\n"
     ]
    }
   ],
   "source": [
    "summary2 = prob_walk_to_other_genotypes(lmodel2, subpaths)"
   ]
  },
  {
   "cell_type": "code",
   "execution_count": 71,
   "metadata": {},
   "outputs": [
    {
     "name": "stderr",
     "output_type": "stream",
     "text": [
      "/home/zsailer/github/epistasis/epistasis/stats.py:210: RuntimeWarning: invalid value encountered in double_scalars\n",
      "  return numerator/denominator\n"
     ]
    },
    {
     "data": {
      "text/plain": [
       "[[1.0,\n",
       "  0.97507486884340377,\n",
       "  0.85363584003694271,\n",
       "  0.56188723578282684,\n",
       "  0.012750281959077363,\n",
       "  2.0490984830149931e-05,\n",
       "  0,\n",
       "  0],\n",
       " [1.0,\n",
       "  1.0,\n",
       "  1.0000000000000004,\n",
       "  1.0000000000000009,\n",
       "  1.0000000000000009,\n",
       "  0.99999999999992228,\n",
       "  0.9999999999986855,\n",
       "  0.72617316489542993],\n",
       " [1.0,\n",
       "  1.0,\n",
       "  1.0000000000000004,\n",
       "  0.99999999999999956,\n",
       "  1.0000000000000053,\n",
       "  0.99999999999993272,\n",
       "  0.99999999999867861,\n",
       "  0.85551595117716983],\n",
       " [1.0,\n",
       "  1.0,\n",
       "  1.0000000000000004,\n",
       "  1.0000000000000004,\n",
       "  1.0000000000000009,\n",
       "  0.99999999999994826,\n",
       "  0.99999999999909339,\n",
       "  0.76616513764299032],\n",
       " [1.0,\n",
       "  1.0,\n",
       "  1.0000000000000004,\n",
       "  1.0000000000000004,\n",
       "  1.0,\n",
       "  0.99999999999996247,\n",
       "  0.99999999999925704,\n",
       "  0.78054905153196497],\n",
       " [1.0,\n",
       "  1.0,\n",
       "  1.0000000000000004,\n",
       "  1.0000000000000004,\n",
       "  1.0,\n",
       "  1.0,\n",
       "  0.99999999999923661,\n",
       "  0.82793928493611479],\n",
       " [1.0,\n",
       "  1.0,\n",
       "  1.0000000000000004,\n",
       "  1.0000000000000004,\n",
       "  1.0,\n",
       "  1.0,\n",
       "  1.0,\n",
       "  0.86839035089239069],\n",
       " [1.0, 1.0, 1.0000000000000004, 1.0000000000000004, 1.0, 1.0, 1.0, 1.0]]"
      ]
     },
     "execution_count": 71,
     "metadata": {},
     "output_type": "execute_result"
    }
   ],
   "source": [
    "rsquared_between_paths(summary2)"
   ]
  },
  {
   "cell_type": "code",
   "execution_count": null,
   "metadata": {},
   "outputs": [],
   "source": []
  }
 ],
 "metadata": {
  "kernelspec": {
   "display_name": "py3",
   "language": "python",
   "name": "py3"
  },
  "language_info": {
   "codemirror_mode": {
    "name": "ipython",
    "version": 3
   },
   "file_extension": ".py",
   "mimetype": "text/x-python",
   "name": "python",
   "nbconvert_exporter": "python",
   "pygments_lexer": "ipython3",
   "version": "3.5.0"
  }
 },
 "nbformat": 4,
 "nbformat_minor": 2
}
