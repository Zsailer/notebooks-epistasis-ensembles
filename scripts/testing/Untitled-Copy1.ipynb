{
 "cells": [
  {
   "cell_type": "code",
   "execution_count": 1,
   "metadata": {},
   "outputs": [],
   "source": [
    "%matplotlib inline\n",
    "import matplotlib.pyplot as plt"
   ]
  },
  {
   "cell_type": "code",
   "execution_count": 2,
   "metadata": {},
   "outputs": [],
   "source": [
    "import np2d\n",
    "import numpy as np\n",
    "import pandas as pd\n",
    "import networkx as nx\n",
    "\n",
    "from latticeproteins.sequences import _residues\n",
    "from latticeproteins.conformations import Conformations\n",
    "from latticeproteins.thermodynamics import LatticeThermodynamics"
   ]
  },
  {
   "cell_type": "code",
   "execution_count": 3,
   "metadata": {},
   "outputs": [],
   "source": [
    "def fixation(fitness1, fitness2, *args, **kwargs):\n",
    "    \"\"\" Simple Gillespie fixation probability between two organism with fitnesses 1 and 2.\n",
    "    (With infinite population size!)\n",
    "\n",
    "    .. math::\n",
    "        p_{\\\\text{fixation}} = \\\\frac{1 - e^{-N \\\\frac{f_2-f_1}{f1}}}{1 - e^{-\\\\frac{f_2-f_1}{f1}}}\n",
    "    \"\"\"\n",
    "    sij = (fitness2 - fitness1)/abs(fitness1)\n",
    "    # Check if any nans exist if an array of fitnesses is given.\n",
    "    popsize = np.inf\n",
    "    fixation = (1 - np.exp(-sij)) / (1 - np.exp(-popsize*sij))\n",
    "    return  fixation"
   ]
  },
  {
   "cell_type": "code",
   "execution_count": 4,
   "metadata": {},
   "outputs": [],
   "source": [
    "confs = Conformations(6)\n",
    "lattice = LatticeThermodynamics(1.0, confs)"
   ]
  },
  {
   "cell_type": "code",
   "execution_count": 5,
   "metadata": {},
   "outputs": [],
   "source": [
    "def build_M_fixation(anc, lattice):\n",
    "    \"\"\"Construct a transiton matrix for a given lattice sequence.\"\"\"\n",
    "    # Calculate \n",
    "    seq = list(anc)\n",
    "    target = lattice.native_conf(anc)\n",
    "    fitness_ref = lattice.fracfolded(seq, target=target)\n",
    "    \n",
    "    # Zip site number to site\n",
    "    index = tuple(zip(range(len(anc)), anc))\n",
    "    M_fitness = pd.DataFrame(index=index, columns=_residues, dtype=float)\n",
    "    \n",
    "    # Fit in fitnesses\n",
    "    for AA in M_fitness.columns:\n",
    "        for i, site in M_fitness[AA].index:\n",
    "            seq2 = seq[:]\n",
    "            seq2[i] = AA\n",
    "            M_fitness[AA][(i,site)] = lattice.fracfolded(seq2, target=target)\n",
    "            \n",
    "    # Calculate a transition matrix\n",
    "    M_fixation = fixation(fitness_ref, M_fitness)\n",
    "    M_fixation.fillna(0, inplace=True)\n",
    "    return M_fixation"
   ]
  },
  {
   "cell_type": "code",
   "execution_count": null,
   "metadata": {},
   "outputs": [],
   "source": [
    "\n",
    "\n",
    "\n",
    "\n"
   ]
  },
  {
   "cell_type": "code",
   "execution_count": 190,
   "metadata": {},
   "outputs": [],
   "source": [
    "def sample(anc, n_branch=3):\n",
    "    \"\"\"Sample evolutionary moves in sequence space that are a single mutation away.\n",
    "    \n",
    "    The two things we care about are \n",
    "    1. sequences\n",
    "    2. fixation probability of that sequence (normalized over 3 moves)\n",
    "    \"\"\"\n",
    "    # Fixation matrix\n",
    "    M_fixation = build_M_fixation(anc, lattice)\n",
    "    \n",
    "    # normalize to get transition matrix\n",
    "    M_transition = M_fixation / M_fixation.sum().sum()\n",
    "\n",
    "    # Sample moves, if moves are not possible, break\n",
    "    try:\n",
    "        fixations, ilocs = np2d.random.choice(M_transition, size=n_branch, replace=False, p=M_transition)\n",
    "        \n",
    "        # Get new sequences\n",
    "        edges = []\n",
    "        for ith, iloc in enumerate(ilocs):\n",
    "            site = M_fixation.index[iloc[0]][0]\n",
    "            mutation = M_fixation.columns[iloc[1]]\n",
    "            seq = list(anc)\n",
    "            seq[site] = mutation\n",
    "                        \n",
    "            # Build an edge tuple\n",
    "            tup = (anc, \"\".join(seq), fixations[ith] / fixations.sum())\n",
    "            edges.append(tup)\n",
    "\n",
    "        return edges\n",
    "\n",
    "    # If there are not 3 possible moves, \n",
    "    except ValueError:\n",
    "        return []"
   ]
  },
  {
   "cell_type": "code",
   "execution_count": 191,
   "metadata": {},
   "outputs": [],
   "source": [
    "anc = \"MACMAC\"\n",
    "n_moves = 4\n",
    "n_branches = 3 \n",
    "\n",
    "# Store each move in a dictionary\n",
    "# Keys are the step number, values are dictionaries.\n",
    "# these sub-dictionaries are edges { (anc, neighbor) : \"fixation (normed)\"}\n",
    "# The fixation probabilities are normalized to 3 neighbors a particular\n",
    "# egde is facing. \n",
    "moves = {i : [] for i in range(1, n_moves+1)}\n",
    "moves[0] = [anc]\n",
    "edges = []\n",
    "neighbors = {}\n",
    "\n",
    "# Walk n_moves.\n",
    "for ith_move in range(1,n_moves+1):\n",
    "    \n",
    "    # Get current moves to explore\n",
    "    current = moves[ith_move-1]\n",
    "\n",
    "    for der in current:\n",
    "\n",
    "        # Sample 3 moves\n",
    "        edge = sample(der, n_branch=n_branches)\n",
    "\n",
    "        future = [link[1] for link in edge]\n",
    "        moves[ith_move] += future\n",
    "\n",
    "        edges += edge"
   ]
  },
  {
   "cell_type": "code",
   "execution_count": 195,
   "metadata": {},
   "outputs": [],
   "source": [
    "G = nx.DiGraph()\n",
    "G.add_weighted_edges_from(edges)"
   ]
  },
  {
   "cell_type": "code",
   "execution_count": 196,
   "metadata": {},
   "outputs": [],
   "source": [
    "trajectory_list = []\n",
    "for target in G.nodes():\n",
    "    trajectory_list += nx.all_simple_paths(G, anc, target)"
   ]
  },
  {
   "cell_type": "code",
   "execution_count": 198,
   "metadata": {},
   "outputs": [
    {
     "name": "stdout",
     "output_type": "stream",
     "text": [
      "MACMAC NACMAC\n"
     ]
    },
    {
     "ename": "KeyError",
     "evalue": "'NACMAC'",
     "output_type": "error",
     "traceback": [
      "\u001b[0;31m---------------------------------------------------------------------------\u001b[0m",
      "\u001b[0;31mKeyError\u001b[0m                                  Traceback (most recent call last)",
      "\u001b[0;32m<ipython-input-198-bd62ec1e1085>\u001b[0m in \u001b[0;36m<module>\u001b[0;34m()\u001b[0m\n\u001b[1;32m     23\u001b[0m         \u001b[0;31m#norm = sum([G.edge[source][n][\"weight\"] for n in G.neighbors(source)])\u001b[0m\u001b[0;34m\u001b[0m\u001b[0;34m\u001b[0m\u001b[0m\n\u001b[1;32m     24\u001b[0m         \u001b[0mprint\u001b[0m\u001b[0;34m(\u001b[0m\u001b[0msource\u001b[0m\u001b[0;34m,\u001b[0m \u001b[0mtarget\u001b[0m\u001b[0;34m)\u001b[0m\u001b[0;34m\u001b[0m\u001b[0m\n\u001b[0;32m---> 25\u001b[0;31m         \u001b[0mfix\u001b[0m \u001b[0;34m*=\u001b[0m \u001b[0mG\u001b[0m\u001b[0;34m.\u001b[0m\u001b[0medge\u001b[0m\u001b[0;34m[\u001b[0m\u001b[0msource\u001b[0m\u001b[0;34m]\u001b[0m\u001b[0;34m[\u001b[0m\u001b[0mtarget\u001b[0m\u001b[0;34m]\u001b[0m\u001b[0;34m[\u001b[0m\u001b[0;34m\"weight\"\u001b[0m\u001b[0;34m]\u001b[0m\u001b[0;31m# / norm\u001b[0m\u001b[0;34m\u001b[0m\u001b[0m\n\u001b[0m\u001b[1;32m     26\u001b[0m \u001b[0;34m\u001b[0m\u001b[0m\n\u001b[1;32m     27\u001b[0m         \u001b[0;31m#fix *= moves[length][(source, target)]\u001b[0m\u001b[0;34m\u001b[0m\u001b[0;34m\u001b[0m\u001b[0m\n",
      "\u001b[0;31mKeyError\u001b[0m: 'NACMAC'"
     ]
    }
   ],
   "source": [
    "# Get all trajectories\n",
    "trajectory_list = []\n",
    "for target in G.nodes():\n",
    "    trajectory_list += nx.all_simple_paths(G, anc, target)\n",
    "    \n",
    "# Organize trajectories and calc their probability\n",
    "trajectories = {i : {} for i in range(1,n_moves+1)}\n",
    "\n",
    "for traj in trajectory_dict.values():\n",
    "    # trajectory length\n",
    "    length = len(traj)-1\n",
    "    if length < 1:\n",
    "        continue\n",
    "    \n",
    "    traj = tuple(traj)\n",
    "    \n",
    "    # trajectorie probability\n",
    "    fix = 1\n",
    "    for j in range(1, length+1):\n",
    "        i = j - 1\n",
    "        source, target = traj[i], traj[j]\n",
    "        \n",
    "        # Get total fixation out of node for normalization\n",
    "        #norm = sum([G.edge[source][n][\"weight\"] for n in G.neighbors(source)])\n",
    "        fix *= G.edge[source][target][\"weight\"]# / norm\n",
    "        \n",
    "        #fix *= moves[length][(source, target)]\n",
    "        #edges[traj[i], traj[j]]\n",
    "    \n",
    "    try:\n",
    "        trajectories[length][traj] += fix\n",
    "    except KeyError:\n",
    "        trajectories[length][traj] = fix"
   ]
  },
  {
   "cell_type": "code",
   "execution_count": 177,
   "metadata": {},
   "outputs": [
    {
     "data": {
      "text/plain": [
       "0.82492109604220909"
      ]
     },
     "execution_count": 177,
     "metadata": {},
     "output_type": "execute_result"
    }
   ],
   "source": [
    "sum(trajectories[2].values())"
   ]
  },
  {
   "cell_type": "code",
   "execution_count": null,
   "metadata": {},
   "outputs": [],
   "source": []
  }
 ],
 "metadata": {
  "kernelspec": {
   "display_name": "Python 3",
   "language": "python",
   "name": "python3"
  },
  "language_info": {
   "codemirror_mode": {
    "name": "ipython",
    "version": 3
   },
   "file_extension": ".py",
   "mimetype": "text/x-python",
   "name": "python",
   "nbconvert_exporter": "python",
   "pygments_lexer": "ipython3",
   "version": "3.6.2"
  }
 },
 "nbformat": 4,
 "nbformat_minor": 2
}
