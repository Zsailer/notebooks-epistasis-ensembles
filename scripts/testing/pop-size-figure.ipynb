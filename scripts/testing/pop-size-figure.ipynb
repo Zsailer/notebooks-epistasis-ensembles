{
 "cells": [
  {
   "cell_type": "code",
   "execution_count": 3,
   "metadata": {},
   "outputs": [],
   "source": [
    "%matplotlib inline\n",
    "import matplotlib.pyplot as plt\n",
    "import pickle\n",
    "import numpy as np\n",
    "import ipywidgets"
   ]
  },
  {
   "cell_type": "code",
   "execution_count": 4,
   "metadata": {},
   "outputs": [],
   "source": [
    "def overlap(p,q):\n",
    "    \"\"\"Calculates the difference in overlap.\"\"\"\n",
    "    return np.array(abs(p - q)).sum() / (p.sum() + q.sum())"
   ]
  },
  {
   "cell_type": "code",
   "execution_count": 72,
   "metadata": {},
   "outputs": [
    {
     "data": {
      "application/vnd.jupyter.widget-view+json": {
       "model_id": "db9013a6c951440d9d62fd2046c86721",
       "version_major": 2,
       "version_minor": 0
      },
      "text/plain": [
       "A Jupyter Widget"
      ]
     },
     "metadata": {},
     "output_type": "display_data"
    }
   ],
   "source": [
    "@ipywidgets.interact\n",
    "def test(popsize=[0,1,2,10,100,10000], n_states=[2,3]):\n",
    "    omega = []\n",
    "    for i in range(100):\n",
    "        true_fname = \"results/true-trajectories-{}-{}-{}.pickle\".format(\n",
    "            i,\n",
    "            popsize, \n",
    "            n_states)\n",
    "\n",
    "        pred_fname = \"results/pred-trajectories-{}-{}-{}.pickle\".format(\n",
    "            i,\n",
    "            popsize, \n",
    "            n_states)\n",
    "\n",
    "        with open(true_fname, \"rb\") as f:\n",
    "            true_trajectories = pickle.load(f)\n",
    "\n",
    "        with open(pred_fname, \"rb\") as f:\n",
    "            pred_trajectories = pickle.load(f)\n",
    "\n",
    "\n",
    "        theta = []\n",
    "        for ith_move in range(1, 8):\n",
    "            p, q = [], []\n",
    "            for traj in pred_trajectories[ith_move]:\n",
    "                p.append(true_trajectories[ith_move][traj])\n",
    "                q.append(pred_trajectories[ith_move][traj])\n",
    "            theta.append(overlap(np.array(p),np.array(q)))\n",
    "\n",
    "        if len(true_trajectories[7]) > 0:\n",
    "            omega.append(shannon(true_trajectories))\n",
    "        else:\n",
    "            omega.append(0)\n",
    "        plt.plot(range(1,8)+np.random.randn(7)*.07, theta, 'o', color=\"gray\")\n",
    "\n",
    "    plt.axis([0,8,-0.05,.4])\n",
    "    plt.show()"
   ]
  },
  {
   "cell_type": "code",
   "execution_count": 126,
   "metadata": {},
   "outputs": [],
   "source": [
    "def shannon(trajectories):\n",
    "    \"\"\"\"\"\"\n",
    "    trajectories\n",
    "    probabilities = np.nan_to_num(np.array(list(true_trajectories[7].values())))\n",
    "    \n",
    "    #print(np.count_nonzero(np.isnan(np.log(probabilities))))\n",
    "    x = np.log(probabilities)\n",
    "    x[np.isnan(x)] = 0\n",
    "    integrand = probabilities * x\n",
    "    integrand[integrand == -np.inf] = 0\n",
    "    integrand = np.nan_to_num(integrand)\n",
    "\n",
    "    S = -np.sum(integrand)\n",
    "    return S"
   ]
  },
  {
   "cell_type": "code",
   "execution_count": 179,
   "metadata": {},
   "outputs": [
    {
     "data": {
      "text/plain": [
       "<matplotlib.text.Text at 0x116b79908>"
      ]
     },
     "execution_count": 179,
     "metadata": {},
     "output_type": "execute_result"
    },
    {
     "data": {
      "image/png": "[encoded data removed]",
      "text/plain": [
       "<matplotlib.figure.Figure at 0x118751630>"
      ]
     },
     "metadata": {},
     "output_type": "display_data"
    }
   ],
   "source": [
    "n_states = 3\n",
    "\n",
    "fig, ax = plt.subplots(2,1, figsize=(6,6))\n",
    "for j, popsize in enumerate([1,2,10,100,10000]):\n",
    "    \n",
    "    theta, omega = [], []\n",
    "    for i in range(100):\n",
    "        true_fname = \"results/true-trajectories-{}-{}-{}.pickle\".format(\n",
    "            i,\n",
    "            popsize, \n",
    "            n_states)\n",
    "\n",
    "        pred_fname = \"results/pred-trajectories-{}-{}-{}.pickle\".format(\n",
    "            i,\n",
    "            popsize, \n",
    "            n_states)\n",
    "\n",
    "        with open(true_fname, \"rb\") as f:\n",
    "            true_trajectories = pickle.load(f)\n",
    "\n",
    "        with open(pred_fname, \"rb\") as f:\n",
    "            pred_trajectories = pickle.load(f)\n",
    "            \n",
    "            \n",
    "        true_spect = np.array(list(true_trajectories[7].values()))   \n",
    "        pred_spect = np.array(list(pred_trajectories[7].values()))   \n",
    "\n",
    "        \n",
    "        # Quality check\n",
    "        trajs = np.array(list(true_trajectories[7].values()))\n",
    "        x = sum(np.nan_to_num(trajs))\n",
    "        if x < 1.0:\n",
    "            continue\n",
    "        elif len(true_trajectories[7]) > 0:\n",
    "            theta.append( overlap(true_spect, pred_spect) ) \n",
    "            omega.append(shannon(trajs))\n",
    "        else:\n",
    "            omega.append(0)\n",
    "\n",
    "    if popsize == 0:\n",
    "        popsize = 1e10\n",
    "    x = np.log(popsize)\n",
    "    \n",
    "    ax[1].plot(np.log10(popsize * np.ones(len(theta))) + np.random.randn(len(theta))*.05, np.array(theta), 'o', color=\"C{}\".format(j))\n",
    "    ax[0].plot(np.log10(popsize * np.ones(len(omega))) + np.random.randn(len(omega))*.05, np.array(omega), 'o', color=\"C{}\".format(j))\n",
    "    \n",
    "ax[0].set_ylabel(\"$S(N,\\{p_{traj}\\})$\", fontsize=14)\n",
    "ax[1].set_ylabel(\"$\\\\theta$\", fontsize=14)\n",
    "ax[1].set_xlabel(\"log(N)\",fontsize=14)"
   ]
  },
  {
   "cell_type": "code",
   "execution_count": null,
   "metadata": {},
   "outputs": [],
   "source": []
  }
 ],
 "metadata": {
  "kernelspec": {
   "display_name": "Python 3",
   "language": "python",
   "name": "python3"
  },
  "language_info": {
   "codemirror_mode": {
    "name": "ipython",
    "version": 3
   },
   "file_extension": ".py",
   "mimetype": "text/x-python",
   "name": "python",
   "nbconvert_exporter": "python",
   "pygments_lexer": "ipython3",
   "version": "3.6.2"
  }
 },
 "nbformat": 4,
 "nbformat_minor": 2
}
