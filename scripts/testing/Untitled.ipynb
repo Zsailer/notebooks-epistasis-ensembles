{
 "cells": [
  {
   "cell_type": "code",
   "execution_count": 2,
   "metadata": {},
   "outputs": [],
   "source": [
    "%matplotlib inline\n",
    "import matplotlib.pyplot as plt"
   ]
  },
  {
   "cell_type": "code",
   "execution_count": 195,
   "metadata": {},
   "outputs": [],
   "source": [
    "import np2d\n",
    "import numpy as np\n",
    "import pandas as pd\n",
    "import networkx as nx\n",
    "import itertools as it\n",
    "\n",
    "from latticeproteins.conformations import ConformationList, Conformations\n",
    "from latticeproteins.thermodynamics import LatticeThermodynamics\n",
    "from latticeproteins.sequences import find_differences, _residues, random_sequence"
   ]
  },
  {
   "cell_type": "code",
   "execution_count": 143,
   "metadata": {},
   "outputs": [],
   "source": [
    "class PredictedLattice(object):\n",
    "    \"\"\"Infers the stability and fraction folded of any sequence with respect\n",
    "    to some wildtype lattice model using a linear, biochemical epistasis model.\n",
    "    Calculates the independent effect of all mutations (and pairwise effects\n",
    "    if `double` is True) and sums those effects to predict other sequences.\n",
    "\n",
    "    Parameters\n",
    "    ----------\n",
    "    wildtype : str\n",
    "        wildtype/ancestral sequence\n",
    "    temp : float\n",
    "        temperature in reduced units\n",
    "    confs : list\n",
    "        list of conformations\n",
    "    double : bool\n",
    "        if True, include pairwise epistasis when inferring stability.\n",
    "    \"\"\"\n",
    "    def __init__(self, wildtype, temp, confs, target=None):\n",
    "        self.wildtype = wildtype\n",
    "        self.temp = temp\n",
    "        self.conformations = confs\n",
    "        self.target = target\n",
    "        self._lattice = LatticeThermodynamics(self.temp, self.conformations)\n",
    "\n",
    "        combos = []\n",
    "        sites = list(range(self.conformations.length()))\n",
    "        self.dG0 = self._lattice.stability(self.wildtype, target=self.target)\n",
    "\n",
    "        #####  Build a dictionary of additive and pairwise mutational effects ####\n",
    "        # Calculate first order coefs\n",
    "        self.dGs = {}\n",
    "        for i in sites:\n",
    "            other_sites = sites[:]\n",
    "            other_sites.remove(i)\n",
    "            for aa in _residues:\n",
    "                combos.append((i, aa))\n",
    "\n",
    "        for c in combos:\n",
    "            seq = list(self.wildtype[:])\n",
    "            seq[c[0]] = c[1]\n",
    "            # Calculate dG as dG_wt -\n",
    "            self.dGs[c] = self._lattice.stability(seq, target=self.target) - self.dG0\n",
    "\n",
    "        # Calculate second order coefs\n",
    "        combos = []\n",
    "        sites = list(range(self.conformations.length()))\n",
    "        for i in sites:\n",
    "            other_sites = sites[:]\n",
    "            other_sites.remove(i)\n",
    "            for aa in _residues:\n",
    "                for j in other_sites:\n",
    "                    for aa2 in _residues:\n",
    "                        combos.append((i,aa,j,aa2))\n",
    "\n",
    "        for c in combos:\n",
    "            seq = list(self.wildtype[:])\n",
    "            seq[c[0]] = c[1]\n",
    "            seq[c[2]] = c[3]\n",
    "            # Calculate dG2\n",
    "            self.dGs[c] = self._lattice.stability(seq, target=self.target) - (self.dG0 + self.dGs[(c[0],c[1])]+ self.dGs[(c[2],c[3])])\n",
    "\n",
    "    def stability(self, seq, target=None, double=True):\n",
    "        \"\"\"Calculate the stability of a given sequence using the Lattice predictor\"\"\"\n",
    "        # Get additive coefs to build predictions\n",
    "        if target != self.target:\n",
    "            raise Exception(\"Target does not match wildtype target.\")\n",
    "        loci = find_differences(self.wildtype, seq)\n",
    "        \n",
    "        # Get all additive combinations for the sequence given\n",
    "        add = [(pair[0], seq[pair[0]]) for pair in it.combinations(loci, 1)]\n",
    "        \n",
    "        if double:\n",
    "            # Get all pairwise effects for the sequence given\n",
    "            pairs = [(pair[0], seq[pair[0]], pair[1], seq[pair[1]]) for pair in it.combinations(loci, 2)]\n",
    "            dgs = add + pairs\n",
    "        else:\n",
    "            dgs = add\n",
    "        \n",
    "        # Get the wildtype stability\n",
    "        stability = float(self.dG0)\n",
    "        \n",
    "        # Sum the mutational effects\n",
    "        for coef in dgs:\n",
    "            stability += self.dGs[coef]\n",
    "        return stability\n",
    "\n",
    "    def fracfolded(self, seq, target=None):\n",
    "        \"\"\"Calculate the fraction folded for a given sequence\"\"\"\n",
    "        return 1.0 / (1.0 + np.exp(self.stability(seq, target=target) / self.temp))\n"
   ]
  },
  {
   "cell_type": "code",
   "execution_count": 283,
   "metadata": {},
   "outputs": [],
   "source": [
    "def fixation(fitness1, fitness2, popsize=np.inf, *args, **kwargs):\n",
    "    \"\"\" Simple Gillespie fixation probability between two organism with fitnesses 1 and 2.\n",
    "    (With infinite population size!)\n",
    "\n",
    "    .. math::\n",
    "        p_{\\\\text{fixation}} = \\\\frac{1 - e^{-N \\\\frac{f_2-f_1}{f1}}}{1 - e^{-\\\\frac{f_2-f_1}{f1}}}\n",
    "    \"\"\"\n",
    "    sij = (fitness2 - fitness1)/abs(fitness1)\n",
    "    # Check if any nans exist if an array of fitnesses is given.\n",
    "    fixation = (1 - np.exp(-sij)) / (1 - np.exp(-popsize*sij))\n",
    "    return  fixation"
   ]
  },
  {
   "cell_type": "code",
   "execution_count": 284,
   "metadata": {},
   "outputs": [],
   "source": [
    "def overlap(p,q):\n",
    "    \"\"\"Calculates the difference in overlap.\"\"\"\n",
    "    return np.array(abs(p - q)).sum() / (p.sum() + q.sum())"
   ]
  },
  {
   "cell_type": "code",
   "execution_count": 285,
   "metadata": {},
   "outputs": [],
   "source": [
    "def build_M_fixation(anc, lattice, target, popsize=np.inf):\n",
    "    \"\"\"Construct a transiton matrix for a given lattice sequence.\"\"\"\n",
    "    # Calculate \n",
    "    seq = list(anc)\n",
    "    fitness_ref = lattice.fracfolded(seq, target=target)\n",
    "    \n",
    "    # Zip site number to site\n",
    "    index = tuple(zip(range(len(anc)), anc))\n",
    "    M_fitness = pd.DataFrame(index=index, columns=_residues, dtype=float)\n",
    "    \n",
    "    # Fit in fitnesses\n",
    "    for AA in M_fitness.columns:\n",
    "        for i, site in M_fitness[AA].index:\n",
    "            seq2 = seq[:]\n",
    "            seq2[i] = AA\n",
    "            M_fitness[AA][(i,site)] = lattice.fracfolded(seq2, target=target)\n",
    "            \n",
    "    # Calculate a transition matrix\n",
    "    M_fixation = fixation(fitness_ref, M_fitness, popsize=popsize)\n",
    "    M_fixation.fillna(0, inplace=True)\n",
    "    return M_fixation"
   ]
  },
  {
   "cell_type": "code",
   "execution_count": 294,
   "metadata": {},
   "outputs": [
    {
     "data": {
      "text/plain": [
       "'PFLHTG'"
      ]
     },
     "execution_count": 294,
     "metadata": {},
     "output_type": "execute_result"
    }
   ],
   "source": [
    "anc"
   ]
  },
  {
   "cell_type": "code",
   "execution_count": 291,
   "metadata": {},
   "outputs": [
    {
     "name": "stderr",
     "output_type": "stream",
     "text": [
      "/Users/Zsailer/miniconda3/envs/ensembles/lib/python3.6/site-packages/ipykernel_launcher.py:86: RuntimeWarning: invalid value encountered in double_scalars\n"
     ]
    }
   ],
   "source": [
    "anc = \"\".join(random_sequence(6))\n",
    "length = len(anc)\n",
    "n_moves = 7\n",
    "n_branches = 3\n",
    "n_states = 3\n",
    "popsize = np.inf\n",
    "\n",
    "######### NEED COMMENT\n",
    "true_trajectories = {i : {} for i in range(1, n_moves+1)}\n",
    "true_trajectories[0] = {(anc,): 1}\n",
    "\n",
    "######### NEED COMMENT\n",
    "pred_trajectories = {i : {} for i in range(1, n_moves+1)}\n",
    "pred_trajectories[0] = {(anc,): 1}\n",
    "\n",
    "\n",
    "db = ['URRDL', 'UURDD', 'URDRU', 'URDDL']\n",
    "c = db[0:n_states]\n",
    "target = db[0]\n",
    "confs = ConformationList(length, c)\n",
    "#confs = Conformations(length)\n",
    "\n",
    "# True lattice model\n",
    "true_lattice = LatticeThermodynamics(1.0, confs)\n",
    "#target = lattice.native_conf(anc)\n",
    "\n",
    "# Predicted lattice model\n",
    "pred_lattice = PredictedLattice(anc, 1.0, confs, target=target)\n",
    "\n",
    "# Construct trajectories.\n",
    "for ith_move in range(1,n_moves+1):\n",
    "\n",
    "    # Get current moves to explore\n",
    "    true_current = true_trajectories[ith_move-1]\n",
    "    pred_current = pred_trajectories[ith_move-1]\n",
    "    \n",
    "    for traj in true_current:\n",
    "        # Get current fixation probability\n",
    "        true_pi = true_current[traj]\n",
    "        pred_pi = pred_current[traj]\n",
    "        \n",
    "        # Get last (current) sequence in trajectory\n",
    "        der = traj[-1]\n",
    "\n",
    "        # Fixation matrix\n",
    "        M_fixation = build_M_fixation(der, true_lattice, target=target, popsize=popsize)\n",
    "\n",
    "        # normalize to get transition matrix\n",
    "        M_transition = M_fixation / M_fixation.sum().sum()\n",
    "\n",
    "        # Breaks if 3 moves are not possible\n",
    "        try:\n",
    "            # Sample moves, if moves are not possible, break\n",
    "            transitions, ilocs = np2d.random.choice(M_transition, size=n_branches, replace=False, p=M_transition)\n",
    "            \n",
    "            # Construct new sequences\n",
    "            new_sequences = []\n",
    "            for ith, iloc in enumerate(ilocs):\n",
    "                site = M_fixation.index[iloc[0]][0]\n",
    "                mutation = M_fixation.columns[iloc[1]]\n",
    "                seq = list(der)\n",
    "                seq[site] = mutation\n",
    "                seq_ = \"\".join(seq)\n",
    "                new_sequences.append(seq_)\n",
    "                \n",
    "            # Calculate the probabilities of fixation for true trajectories.\n",
    "            true_ff = true_lattice.fracfolded(der, target=target)\n",
    "            true_ffs = np.array([true_lattice.fracfolded(seq, target=target) for seq in new_sequences])\n",
    "            true_fixations = fixation(true_ff, true_ffs, popsize=popsize)\n",
    "            true_norm = true_fixations.sum()\n",
    "            \n",
    "            # Calculate the probabilities of fixation for predicted trajectories.\n",
    "            pred_ff = pred_lattice.fracfolded(der, target=target)\n",
    "            pred_ffs = np.array([pred_lattice.fracfolded(seq, target=target) for seq in new_sequences])\n",
    "            pred_fixations = fixation(pred_ff, pred_ffs, popsize=popsize)\n",
    "            pred_norm = pred_fixations.sum()\n",
    "            \n",
    "            # Add new sequences to trajectories and fixations\n",
    "            for ith, seq_ in enumerate(new_sequences):\n",
    "                traj_ = traj + (seq_,)\n",
    "\n",
    "                # True trajectories\n",
    "                true_trajectories[ith_move][traj_] = true_pi * true_fixations[ith] / true_norm\n",
    "                \n",
    "                # Predicted trajectories\n",
    "                pred_trajectories[ith_move][traj_] = pred_pi * pred_fixations[ith] / pred_norm\n",
    "\n",
    "        # If there are not 3 possible moves, \n",
    "        except ValueError: continue "
   ]
  },
  {
   "cell_type": "code",
   "execution_count": 292,
   "metadata": {},
   "outputs": [],
   "source": [
    "theta = []\n",
    "for ith_move in range(1, n_moves+1):\n",
    "    p, q = [], []\n",
    "    for traj in pred_trajectories[ith_move]:\n",
    "        p.append(true_trajectories[ith_move][traj])\n",
    "        q.append(pred_trajectories[ith_move][traj])\n",
    "    theta.append(overlap(np.array(p),np.array(q)))\n"
   ]
  },
  {
   "cell_type": "code",
   "execution_count": 295,
   "metadata": {},
   "outputs": [
    {
     "data": {
      "text/plain": [
       "'URRDL'"
      ]
     },
     "execution_count": 295,
     "metadata": {},
     "output_type": "execute_result"
    }
   ],
   "source": [
    "target"
   ]
  },
  {
   "cell_type": "code",
   "execution_count": 293,
   "metadata": {},
   "outputs": [
    {
     "data": {
      "text/plain": [
       "[1, 7, -0.05, 1.05]"
      ]
     },
     "execution_count": 293,
     "metadata": {},
     "output_type": "execute_result"
    },
    {
     "data": {
      "image/png": "[encoded data removed]",
      "text/plain": [
       "<matplotlib.figure.Figure at 0x11865b9e8>"
      ]
     },
     "metadata": {},
     "output_type": "display_data"
    }
   ],
   "source": [
    "plt.plot(range(1,n_moves+1), theta)\n",
    "plt.axis([1,7,-0.05,1.05])"
   ]
  },
  {
   "cell_type": "code",
   "execution_count": 272,
   "metadata": {},
   "outputs": [
    {
     "data": {
      "text/plain": [
       "[0.0, 0.0, 0.12677343482982181, 0.25302934609764799, 0.31325817100666481]"
      ]
     },
     "execution_count": 272,
     "metadata": {},
     "output_type": "execute_result"
    }
   ],
   "source": [
    "    parser = argparse.ArgumentParser(description=__doc__)\n",
    "    parser.add_argument(\"i\", type=str, help=\"dataset number (for book-keeping).\")\n",
    "    parser.add_argument(\"anc\", type=str, help=\"ancestral sequence to evolve from.\")\n",
    "    parser.add_argument(\"--db\", nargs=3, help=\"conformation database.\", type=str)\n",
    "    parser.add_argument(\"--target\", help=\"target structure.\", type=str)\n",
    "    parser.add_argument(\"--popsize\", help=\"population size\", type=int)\n",
    "    parser.add_argument(\"--n_moves\", type=int, help=\"number of mutations.\")\n",
    "    parser.add_argument(\"--n_branches\", type=int, help=\"number of branches\")\n",
    "    parser.add_argument(\"--n_states\", type=int, help=\"Number of states in ensemble. 0 means all states.\")\n",
    "    args = parser.parse_args()"
   ]
  }
 ],
 "metadata": {
  "kernelspec": {
   "display_name": "Python 3",
   "language": "python",
   "name": "python3"
  },
  "language_info": {
   "codemirror_mode": {
    "name": "ipython",
    "version": 3
   },
   "file_extension": ".py",
   "mimetype": "text/x-python",
   "name": "python",
   "nbconvert_exporter": "python",
   "pygments_lexer": "ipython3",
   "version": "3.6.2"
  }
 },
 "nbformat": 4,
 "nbformat_minor": 2
}
