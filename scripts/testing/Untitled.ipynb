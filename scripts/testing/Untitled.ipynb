{
 "cells": [
  {
   "cell_type": "code",
   "execution_count": 1,
   "metadata": {},
   "outputs": [],
   "source": [
    "%matplotlib inline\n",
    "import matplotlib.pyplot as plt"
   ]
  },
  {
   "cell_type": "code",
   "execution_count": 2,
   "metadata": {},
   "outputs": [],
   "source": [
    "import np2d\n",
    "import numpy as np\n",
    "import pandas as pd\n",
    "\n",
    "from latticeproteins.sequences import _residues\n",
    "from latticeproteins.conformations import Conformations\n",
    "from latticeproteins.thermodynamics import LatticeThermodynamics"
   ]
  },
  {
   "cell_type": "code",
   "execution_count": 3,
   "metadata": {},
   "outputs": [],
   "source": [
    "def fixation(fitness1, fitness2, *args, **kwargs):\n",
    "    \"\"\" Simple Gillespie fixation probability between two organism with fitnesses 1 and 2.\n",
    "    (With infinite population size!)\n",
    "\n",
    "    .. math::\n",
    "        p_{\\\\text{fixation}} = \\\\frac{1 - e^{-N \\\\frac{f_2-f_1}{f1}}}{1 - e^{-\\\\frac{f_2-f_1}{f1}}}\n",
    "    \"\"\"\n",
    "    sij = (fitness2 - fitness1)/abs(fitness1)\n",
    "    # Check if any nans exist if an array of fitnesses is given.\n",
    "    popsize = np.inf\n",
    "    fixation = (1 - np.exp(-sij)) / (1 - np.exp(-popsize*sij))\n",
    "    return  fixation"
   ]
  },
  {
   "cell_type": "code",
   "execution_count": 4,
   "metadata": {},
   "outputs": [],
   "source": [
    "confs = Conformations(6)\n",
    "lattice = LatticeThermodynamics(1.0, confs)"
   ]
  },
  {
   "cell_type": "code",
   "execution_count": 5,
   "metadata": {},
   "outputs": [],
   "source": [
    "def build_M_fixation(anc, lattice):\n",
    "    \"\"\"Construct a transiton matrix for a given lattice sequence.\"\"\"\n",
    "    # Calculate \n",
    "    seq = list(anc)\n",
    "    target = lattice.native_conf(anc)\n",
    "    fitness_ref = lattice.fracfolded(seq, target=target)\n",
    "    \n",
    "    # Zip site number to site\n",
    "    index = tuple(zip(range(len(anc)), anc))\n",
    "    M_fitness = pd.DataFrame(index=index, columns=_residues, dtype=float)\n",
    "    \n",
    "    # Fit in fitnesses\n",
    "    for AA in M_fitness.columns:\n",
    "        for i, site in M_fitness[AA].index:\n",
    "            seq2 = seq[:]\n",
    "            seq2[i] = AA\n",
    "            M_fitness[AA][(i,site)] = lattice.fracfolded(seq2, target=target)\n",
    "            \n",
    "    # Calculate a transition matrix\n",
    "    M_fixation = fixation(fitness_ref, M_fitness)\n",
    "    M_fixation.fillna(0, inplace=True)\n",
    "    return M_fixation"
   ]
  },
  {
   "cell_type": "code",
   "execution_count": 6,
   "metadata": {},
   "outputs": [],
   "source": [
    "def sample(anc, n_branch=3):\n",
    "    \"\"\"Sample evolutionary moves in sequence space that are a single mutation away.\n",
    "    \n",
    "    The two things we care about are \n",
    "    1. sequences\n",
    "    2. fixation probability of that sequence (normalized over 3 moves)\n",
    "    \"\"\"\n",
    "    # Fixation matrix\n",
    "    M_fixation = build_M_fixation(anc, lattice)\n",
    "    \n",
    "    # normalize to get transition matrix\n",
    "    M_transition = M_fixation / M_fixation.sum().sum()\n",
    "\n",
    "    # Sample moves, if moves are not possible, break\n",
    "    try:\n",
    "        fixations, ilocs = np2d.random.choice(M_transition, size=n_branch, replace=False, p=M_transition)\n",
    "        \n",
    "        # Get new sequences\n",
    "        edges = []\n",
    "        for ith, iloc in enumerate(ilocs):\n",
    "            site = M_fixation.index[iloc[0]][0]\n",
    "            mutation = M_fixation.columns[iloc[1]]\n",
    "            seq = list(anc)\n",
    "            seq[site] = mutation\n",
    "            # Build an edge tuple\n",
    "            tup = (anc, \"\".join(seq), fixations[ith] / fixations.sum())\n",
    "            edges.append(tup)\n",
    "            #edges[(anc, \"\".join(seq))] = fixations[ith] / fixations.sum()\n",
    "\n",
    "        return edges\n",
    "\n",
    "    # If there are not 3 possible moves, \n",
    "    except ValueError:\n",
    "        return []"
   ]
  },
  {
   "cell_type": "code",
   "execution_count": null,
   "metadata": {},
   "outputs": [
    {
     "name": "stderr",
     "output_type": "stream",
     "text": [
      "/Users/Zsailer/miniconda3/envs/ensembles/lib/python3.6/site-packages/np2d/random.py:33: RuntimeWarning: invalid value encountered in less\n",
      "  sample_indices = _np.random.choice(index_arr, size=size, replace=replace, p=parr)\n",
      "/Users/Zsailer/miniconda3/envs/ensembles/lib/python3.6/site-packages/np2d/random.py:33: RuntimeWarning: invalid value encountered in greater\n",
      "  sample_indices = _np.random.choice(index_arr, size=size, replace=replace, p=parr)\n"
     ]
    }
   ],
   "source": [
    "anc = \"MACMAC\"\n",
    "n_moves = 7\n",
    "n_branches = 3 \n",
    "\n",
    "# Store each move in a dictionary\n",
    "# Keys are the step number, values are dictionaries.\n",
    "# these sub-dictionaries are edges { (anc, neighbor) : \"fixation (normed)\"}\n",
    "# The fixation probabilities are normalized to 3 neighbors a particular\n",
    "# egde is facing. \n",
    "moves = {i : [] for i in range(1, n_moves+1)}\n",
    "moves[0] = [anc]\n",
    "edges = []\n",
    "\n",
    "# Walk n_moves\n",
    "for ith_move in moves.keys():\n",
    "    # Get current moves to explore\n",
    "    current = moves[ith_move]\n",
    "    \n",
    "    for anc in current:\n",
    "        # Sample 3 moves\n",
    "        edge = sample(anc, n_branch=n_branches)\n",
    "\n",
    "        future = [link[1] for link in edge]\n",
    "        moves[ith_move] += future\n",
    "\n",
    "        edges += edge"
   ]
  },
  {
   "cell_type": "code",
   "execution_count": 77,
   "metadata": {},
   "outputs": [],
   "source": [
    "import networkx as nx"
   ]
  },
  {
   "cell_type": "code",
   "execution_count": 78,
   "metadata": {},
   "outputs": [],
   "source": [
    "G = nx.DiGraph()\n",
    "G.add_weighted_edges_from(edges)\n",
    "\n",
    "\n",
    "G."
   ]
  },
  {
   "cell_type": "code",
   "execution_count": null,
   "metadata": {},
   "outputs": [],
   "source": []
  }
 ],
 "metadata": {
  "kernelspec": {
   "display_name": "Python 3",
   "language": "python",
   "name": "python3"
  },
  "language_info": {
   "codemirror_mode": {
    "name": "ipython",
    "version": 3
   },
   "file_extension": ".py",
   "mimetype": "text/x-python",
   "name": "python",
   "nbconvert_exporter": "python",
   "pygments_lexer": "ipython3",
   "version": "3.6.2"
  }
 },
 "nbformat": 4,
 "nbformat_minor": 2
}
