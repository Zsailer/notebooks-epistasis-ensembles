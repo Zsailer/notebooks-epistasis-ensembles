{
 "cells": [
  {
   "cell_type": "code",
   "execution_count": 5,
   "metadata": {},
   "outputs": [],
   "source": [
    "%matplotlib inline\n",
    "import matplotlib.pyplot as plt\n",
    "import numpy as np\n",
    "\n",
    "from gpmap.utils import hamming_distance\n",
    "from latticeproteins.conformations import Conformations\n",
    "\n",
    "from latticegpm.gpm import LatticeGenotypePhenotypeMap\n",
    "\n",
    "from epistasis.models.nonlinear.regression import EpistasisNonlinearRegression\n",
    "from epistasis.models.linear.regression import EpistasisLinearRegression\n",
    "from epistasis.models.nonlinear.power import EpistasisPowerTransform\n"
   ]
  },
  {
   "cell_type": "code",
   "execution_count": 6,
   "metadata": {},
   "outputs": [],
   "source": [
    "length = 15\n",
    "temperature = 1.0\n",
    "dGdependence= \"fracfolded\"\n",
    "conf_database = Conformations(length)"
   ]
  },
  {
   "cell_type": "code",
   "execution_count": 7,
   "metadata": {},
   "outputs": [],
   "source": [
    "wt = \"GVCKCLCFVTEGVED\"\n",
    "mu = \"REWSIMMMGWGYYVN\"\n",
    "temperature = 1\n",
    "gpm = LatticeGenotypePhenotypeMap.from_mutant(wt, mu, conf_database, temperature=temperature)\n",
    "gpm.to_json(\"example.json\")"
   ]
  }
 ],
 "metadata": {
  "kernelspec": {
   "display_name": "Python 3 (py3)",
   "language": "python",
   "name": "py3"
  },
  "language_info": {
   "codemirror_mode": {
    "name": "ipython",
    "version": 3
   },
   "file_extension": ".py",
   "mimetype": "text/x-python",
   "name": "python",
   "nbconvert_exporter": "python",
   "pygments_lexer": "ipython3",
   "version": "3.5.0"
  }
 },
 "nbformat": 4,
 "nbformat_minor": 2
}
